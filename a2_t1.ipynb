{
 "cells": [
  {
   "cell_type": "markdown",
   "metadata": {},
   "source": [
    "# Task 1: Symbolic Unconditioned Generation"
   ]
  },
  {
   "cell_type": "markdown",
   "metadata": {},
   "source": [
    "# Section 1: Exploratory Analysis"
   ]
  },
  {
   "cell_type": "markdown",
   "metadata": {},
   "source": [
    "## Context \n",
    "- This dataset comes from the NES-MDB Dataset, which is 5278 soundtracks of 397 NES games. It was built from the assembly code of NES games and shared in a github repository (https://github.com/chrisdonahue/nesmdb?tab=readme-ov-file#midi-format).\n",
    "- We chose this dataset because the 8-bit music offers a very manageable vocabulary for potentially easier model training. Even with 'low' vocabulary, we think it can still produce musically engaging results and allow us to experiment with more sophisticated generative architectures such as Transformers.\n",
    "## Discussion\n",
    "- Data preprocessing: The data was already cleaned very well for our purposes. However we filtered out pieces that were less than 20 seconds. This is because the dataset also contained sound effects that we are not planning to generate. Furthermore, we decided to not use files with unreasonably high ticks in the midi (over a million)\n",
    "- Training data: The data comes with training, validation and test sets. We trained on the entire dataset (after filtering) so that we can maximize the vocabulary and learning of our models.\n",
    "## Code (Tables and Graphs): "
   ]
  },
  {
   "cell_type": "code",
   "execution_count": 107,
   "metadata": {},
   "outputs": [],
   "source": [
    "import os\n",
    "import glob\n",
    "import pandas as pd\n",
    "import numpy as np\n",
    "import pretty_midi\n",
    "import matplotlib.pyplot as plt\n",
    "import seaborn as sns\n",
    "import math\n",
    "from tqdm.notebook import tqdm\n",
    "\n",
    "%matplotlib inline"
   ]
  },
  {
   "cell_type": "code",
   "execution_count": 2,
   "metadata": {},
   "outputs": [
    {
     "data": {
      "text/plain": [
       "{'train': 'data/nesmdb_midi/train',\n",
       " 'test': 'data/nesmdb_midi/test',\n",
       " 'valid': 'data/nesmdb_midi/valid'}"
      ]
     },
     "execution_count": 2,
     "metadata": {},
     "output_type": "execute_result"
    }
   ],
   "source": [
    "data_path = r\"data/nesmdb_midi/\" \n",
    "\n",
    "folders_to_process = {\n",
    "    \"train\": os.path.join(data_path, \"train\"),\n",
    "    \"test\": os.path.join(data_path, \"test\"),\n",
    "    \"valid\": os.path.join(data_path, \"valid\")\n",
    "}\n",
    "\n",
    "folders_to_process"
   ]
  },
  {
   "cell_type": "code",
   "execution_count": 3,
   "metadata": {},
   "outputs": [
    {
     "name": "stdout",
     "output_type": "stream",
     "text": [
      "Found 5278 MIDI files.\n"
     ]
    }
   ],
   "source": [
    "midi_paths = (\n",
    "    glob.glob(os.path.join(folders_to_process['train'], \"*.mid\")) + \n",
    "    glob.glob(os.path.join(folders_to_process['test'], \"*.mid\")) + \n",
    "    glob.glob(os.path.join(folders_to_process['valid'], \"*.mid\"))\n",
    ")\n",
    "print(f\"Found {len(midi_paths)} MIDI files.\")"
   ]
  },
  {
   "cell_type": "markdown",
   "metadata": {},
   "source": [
    "# Basic Statistics of our midi files"
   ]
  },
  {
   "cell_type": "code",
   "execution_count": 12,
   "metadata": {},
   "outputs": [
    {
     "data": {
      "application/vnd.jupyter.widget-view+json": {
       "model_id": "19c544984ffb49a0b632c05b56762588",
       "version_major": 2,
       "version_minor": 0
      },
      "text/plain": [
       "  0%|          | 0/5278 [00:00<?, ?it/s]"
      ]
     },
     "metadata": {},
     "output_type": "display_data"
    },
    {
     "name": "stdout",
     "output_type": "stream",
     "text": [
      "Skipped 3265 number of files.\n"
     ]
    }
   ],
   "source": [
    "records = []\n",
    "num_skipped = 0\n",
    "for path in tqdm(midi_paths):\n",
    "    try:\n",
    "        pm = pretty_midi.PrettyMIDI(path)\n",
    "        duration = pm.get_end_time()\n",
    "        if duration < 30:\n",
    "            num_skipped += 1\n",
    "            continue\n",
    "\n",
    "        all_notes = [note for inst in pm.instruments for note in inst.notes]\n",
    "        total_notes = len(all_notes)\n",
    "        if total_notes > 0:\n",
    "            velocities = np.array([note.velocity for note in all_notes])\n",
    "            unique_pitches = len({note.pitch for note in all_notes})\n",
    "            avg_velocity = velocities.mean()\n",
    "            note_density = total_notes / duration\n",
    "        else:\n",
    "            unique_pitches = 0\n",
    "            avg_velocity = np.nan\n",
    "            note_density = 0\n",
    "\n",
    "        records.append({\n",
    "            'path': path,\n",
    "            'file': os.path.basename(path),\n",
    "            'duration_s': duration,\n",
    "            'total_notes': total_notes,\n",
    "            'unique_pitches': unique_pitches,\n",
    "            'avg_velocity': avg_velocity,\n",
    "            'num_instruments': len(pm.instruments),\n",
    "            'note_density': note_density\n",
    "        })\n",
    "    except ValueError as e:\n",
    "        num_skipped += 1\n",
    "        # print(f\"Skipping file {os.path.basename(path)} due to error: {e}\")\n",
    "    except Exception as e:\n",
    "        num_skipped += 1\n",
    "        # print(f\"Skipping file {os.path.basename(path)} due to an unexpected error: {e}\")\n",
    "print(f'Skipped {num_skipped} number of files.')\n"
   ]
  },
  {
   "cell_type": "code",
   "execution_count": 13,
   "metadata": {},
   "outputs": [
    {
     "name": "stdout",
     "output_type": "stream",
     "text": [
      "['data/nesmdb_midi/train/387_Wizardry_ProvingGroundsofTheMadOverlord_16_17Werdna.mid', 'data/nesmdb_midi/train/195_KonamiWaiWaiWorld_18_19FinalStageBossBGM.mid', 'data/nesmdb_midi/train/050_ChaosWorld_20_21Chaos.mid', 'data/nesmdb_midi/train/100_Falsion_05_06FlyingHighStage5BGM.mid', 'data/nesmdb_midi/train/336_TenchioKurauII_ShokatsuKoumeiDen_18_19Cave2.mid', 'data/nesmdb_midi/train/076_DonkeyKongCountry4_00_01Theme.mid', 'data/nesmdb_midi/train/217_MajouDensetsuII_DaimashikyouGalious_11_12Ending.mid', 'data/nesmdb_midi/train/227_MegaMan4_06_07BrightManStage.mid', 'data/nesmdb_midi/train/314_SummerCarnival_92_Recca_10_11BostuneFinalBoss.mid', 'data/nesmdb_midi/train/291_ShadowoftheNinja_02_03Stage1.mid', 'data/nesmdb_midi/train/220_MarbleMadness_00_01Level1.mid', 'data/nesmdb_midi/train/086_DragonFighter_07_08InitiveofaGhostStage5.mid', 'data/nesmdb_midi/train/365_UchuuKeibitaiSDF_06_07Stage5.mid', 'data/nesmdb_midi/train/122_FireEmblem_AnkokuRyutoHikarinoTsurugi_08_09Shop1WeaponryCloakroomandVillage.mid', 'data/nesmdb_midi/train/123_Fire_nIce_09_10World4BigTree.mid', 'data/nesmdb_midi/train/396_YsIII_WanderersfromYs_11_12SnareofDarkness.mid', 'data/nesmdb_midi/train/049_Challenger_00_01StoptheExpress.mid', 'data/nesmdb_midi/train/195_KonamiWaiWaiWorld_06_07GetsuFuumaBGM.mid', 'data/nesmdb_midi/train/061_DarkLord_10_11LostSoldier.mid', 'data/nesmdb_midi/train/097_ExedExes_02_03Boss.mid', 'data/nesmdb_midi/train/134_GanbareGoemon2_00_01TheJourneyStartedStage158.mid', 'data/nesmdb_midi/train/288_SaintSeiya_OugonDensetsu_07_08Ending.mid', 'data/nesmdb_midi/train/178_Ironsword_Wizards_amp_WarriorsII_06_07Sky.mid', 'data/nesmdb_midi/train/385_WizardryII_LlylgamynnoIsan_16_17WizardryIIEndingTheme.mid', 'data/nesmdb_midi/train/106_FamicomMukashiBanashi_ShinOnigashima_06_07ThirdChapterMorning.mid', 'data/nesmdb_midi/train/050_ChaosWorld_16_17IntotheLabyrinth.mid', 'data/nesmdb_midi/train/190_King_sKnight_02_03UndergroundTheme.mid', 'data/nesmdb_midi/train/077_DonkeyKongJr__17_18Stage3BGMVariation7.mid', 'data/nesmdb_midi/train/061_DarkLord_19_20VillageofEvilGod.mid', 'data/nesmdb_midi/train/191_Kirby_sAdventure_27_28EndingDemo.mid', 'data/nesmdb_midi/train/115_FelixtheCat_02_03Level2.mid', 'data/nesmdb_midi/train/312_Stinger_05_06PowerUpTheme.mid', 'data/nesmdb_midi/train/051_ChesterField_EpisodeIIAnkokuShinenoChousen_17_18GroundBetaVersionWithoutIntro.mid', 'data/nesmdb_midi/train/078_Doraemon_10_11World22.mid', 'data/nesmdb_midi/train/155_HeraclesnoEikouII_TitannoMetsubou_15_16WrathofTheTitan.mid', 'data/nesmdb_midi/train/226_MegaMan3_19_20DrWilyStage3.mid', 'data/nesmdb_midi/train/365_UchuuKeibitaiSDF_03_04Stage2.mid', 'data/nesmdb_midi/train/103_FamicomGrandPrixII_3DHotRally_00_01Opening.mid', 'data/nesmdb_midi/train/161_HiryunoKenII_DragonnoTsubasa_00_01MainTheme.mid', 'data/nesmdb_midi/train/204_Lemmings_06_07Tim7.mid', 'data/nesmdb_midi/train/397_YsII_AncientYsVanishedTheFinalChapter_18_19CompanileofLane.mid', 'data/nesmdb_midi/train/225_MegaMan2_10_11FlashManStage.mid', 'data/nesmdb_midi/train/386_Wizardry_KnightofDiamonds_TheSecondScenario_02_03GilgameshsTavernIII.mid', 'data/nesmdb_midi/train/392_Yo_Noid_12_13CircusFlying.mid', 'data/nesmdb_midi/train/044_CastleofDragon_01_02OpeningTheDarklarzaCastle5Stage8.mid', 'data/nesmdb_midi/train/396_YsIII_WanderersfromYs_21_22TowerofDestiny.mid', 'data/nesmdb_midi/train/170_IkariIII_TheRescue_02_03Area1.mid', 'data/nesmdb_midi/train/111_FantasyZone_08_09HotSnow.mid', 'data/nesmdb_midi/train/405_ZombieNation_15_16StreamerRound4Cavern.mid', 'data/nesmdb_midi/train/206_LifeForce_02_03PoisonofSnake.mid', 'data/nesmdb_midi/train/277_RainbowIslands_TheStoryofBubbleBobble2_23_24BubbleBobbleUnused.mid', 'data/nesmdb_midi/train/226_MegaMan3_11_12ShadowManStage.mid', 'data/nesmdb_midi/train/386_Wizardry_KnightofDiamonds_TheSecondScenario_01_02LlylgaminCastle.mid', 'data/nesmdb_midi/train/123_Fire_nIce_11_12World6EarthTemple.mid', 'data/nesmdb_midi/train/135_GanbareGoemonGaiden2_TenkanoZaih__94_95EpiloguePart2.mid', 'data/nesmdb_midi/train/268_PowerBlade2_12_13Stage6.mid', 'data/nesmdb_midi/train/172_IkariWarriorsII_VictoryRoad_00_01AStormofCheersArea1.mid', 'data/nesmdb_midi/train/046_CastlevaniaIII_Dracula_sCurse_03_04BossFight.mid', 'data/nesmdb_midi/train/078_Doraemon_11_12World23.mid', 'data/nesmdb_midi/train/255_NobunaganoYabou_BushouFuunroku_21_22Merchant.mid', 'data/nesmdb_midi/train/082_Dr_Mario_00_01TitleScreen.mid', 'data/nesmdb_midi/train/335_TecmoCupSoccerGame_25_26Ending.mid', 'data/nesmdb_midi/train/178_Ironsword_Wizards_amp_WarriorsII_09_10Underwater.mid', 'data/nesmdb_midi/train/246_Mother_34_35LoveDance.mid', 'data/nesmdb_midi/train/401_ZeldaII_TheAdventureofLink_12_13GreatTemple.mid', 'data/nesmdb_midi/train/144_GingaDenshou_GalaxyOdyssey_06_07Mylusthe1stSatellite.mid', 'data/nesmdb_midi/train/091_DragonWarriorIV_00_01Overture.mid', 'data/nesmdb_midi/train/211_M82GameSelectableWorkingProductDisplay_00_M82GameSelectableWorkingProductDisplay01MainMusic.mid', 'data/nesmdb_midi/train/366_Ufouria_TheSaga_10_11GloriousHebeEnding.mid', 'data/nesmdb_midi/train/261_Parodius_19_20EndingDa.mid', 'data/nesmdb_midi/train/103_FamicomGrandPrixII_3DHotRally_03_04Fireball.mid', 'data/nesmdb_midi/train/111_FantasyZone_07_08Prome.mid', 'data/nesmdb_midi/train/121_FireEmblemGaiden_33_34Ending2.mid', 'data/nesmdb_midi/train/047_CastlevaniaII_Simon_sQuest_08_09ARequiem.mid', 'data/nesmdb_midi/train/313_Strider_02_03BlueDragonHQ.mid', 'data/nesmdb_midi/train/195_KonamiWaiWaiWorld_05_06SimonBGM.mid', 'data/nesmdb_midi/train/119_FinalFantasyIII_02_03Battle1.mid', 'data/nesmdb_midi/train/350_TheMafatConspiracy_13_14Base1Act52.mid', 'data/nesmdb_midi/train/333_Tama_amp_Friends_3ChoumeDaibouken_01_02Stage13.mid', 'data/nesmdb_midi/train/233_MetalMax_36_37StaffRoll.mid', 'data/nesmdb_midi/train/089_DragonWarriorII_01_02OnlyLonelyBoy.mid', 'data/nesmdb_midi/train/138_Gargoyle_sQuestII_03_04Village.mid', 'data/nesmdb_midi/train/050_ChaosWorld_23_24Unknown.mid', 'data/nesmdb_midi/train/246_Mother_21_22Train.mid', 'data/nesmdb_midi/train/255_NobunaganoYabou_BushouFuunroku_01_02TheBeaconTitle.mid', 'data/nesmdb_midi/train/118_FinalFantasyII_05_06Town.mid', 'data/nesmdb_midi/train/059_ContraForce_02_03Stage1.mid', 'data/nesmdb_midi/train/055_CircusCaper_20_13FinalBoss.mid', 'data/nesmdb_midi/train/222_MarusanoOnna_02_03TooBusyWeekendMapModeBGM.mid', 'data/nesmdb_midi/train/100_Falsion_00_01TheFirstSpaceFightStage1BGM.mid', 'data/nesmdb_midi/train/125_FlyingDragon_TheSecretScroll_06_07FightingTheme1.mid', 'data/nesmdb_midi/train/033_Blackjack_00_01TitleScreen.mid', 'data/nesmdb_midi/train/051_ChesterField_EpisodeIIAnkokuShinenoChousen_14_15GroundWithoutIntro.mid', 'data/nesmdb_midi/train/227_MegaMan4_26_27Ending.mid', 'data/nesmdb_midi/train/090_DragonWarriorIII_02_03Town.mid', 'data/nesmdb_midi/train/161_HiryunoKenII_DragonnoTsubasa_17_18Jungle.mid', 'data/nesmdb_midi/train/250_NinjaGaiden_14_15SurpriseAttackTheWickedGodsSecretManeuvers.mid', 'data/nesmdb_midi/train/034_BlasterMaster_05_06Area6.mid', 'data/nesmdb_midi/train/346_TheJungleBook_06_07Credits.mid', 'data/nesmdb_midi/train/305_SpartanX2_06_07Stage2.mid', 'data/nesmdb_midi/train/367_Ultima_Exodus_02_03TheEnigmaofAmbrosia.mid', 'data/nesmdb_midi/train/246_Mother_19_20Factory.mid', 'data/nesmdb_midi/train/246_Mother_04_05Battle1.mid', 'data/nesmdb_midi/train/059_ContraForce_09_10Stage5.mid', 'data/nesmdb_midi/train/026_Batman_ReturnofTheJoker_05_06UrgentSituationStage2252.mid', 'data/nesmdb_midi/train/228_MegaMan5_17_18DarkManStage.mid', 'data/nesmdb_midi/train/144_GingaDenshou_GalaxyOdyssey_01_02ShootingBGM.mid', 'data/nesmdb_midi/train/254_Nobunaga_sAmbitionII_09_10SearchforTimeMain.mid', 'data/nesmdb_midi/train/266_PoolofRadiance_15_16ValhingenGraveyard.mid', 'data/nesmdb_midi/train/113_FantasyZoneII_TheTeardropofOpa_Opa_04_05Sarcand.mid', 'data/nesmdb_midi/train/336_TenchioKurauII_ShokatsuKoumeiDen_23_24Ending.mid', 'data/nesmdb_midi/train/392_Yo_Noid_19_20Ending.mid', 'data/nesmdb_midi/train/086_DragonFighter_10_11Ending.mid', 'data/nesmdb_midi/train/378_WaiWaiWorld2_SOS__ParsleyJou_10_11BlossomsofOedo2.mid', 'data/nesmdb_midi/train/179_JourneytoSilius_06_07BossBattle.mid', 'data/nesmdb_midi/train/049_Challenger_04_05RescuePrincess.mid', 'data/nesmdb_midi/train/301_Solstice_TheQuestfortheStaffofDemnos_03_04Ending.mid', 'data/nesmdb_midi/train/127_FlyingWarriors_22_23OminousOccurance.mid', 'data/nesmdb_midi/train/215_Magician_10_11TreasureChamberFountain.mid', 'data/nesmdb_midi/train/011_Aliens_Alien2_02_03Stage2.mid', 'data/nesmdb_midi/train/134_GanbareGoemon2_01_02KyushuKantostage271.mid', 'data/nesmdb_midi/train/330_TMNetwork_LiveinPowerBowl_00_01ComeonEverybodyOpening.mid', 'data/nesmdb_midi/train/156_HigemaruMakaijima_NanatsunoShimaDaibouken_06_07MarmaidIsland.mid', 'data/nesmdb_midi/train/155_HeraclesnoEikouII_TitannoMetsubou_09_10HousesofTheHoly.mid', 'data/nesmdb_midi/train/090_DragonWarriorIII_29_30Loto.mid', 'data/nesmdb_midi/train/317_SuperC_01_02GreatHeliRuinedBaseBoss1.mid', 'data/nesmdb_midi/train/072_DonDokoDon_06_07Dungeon.mid', 'data/nesmdb_midi/train/148_GradiusII_13_14FarewellEnding.mid', 'data/nesmdb_midi/train/157_HikariShinwa_PalutenanoKagami_10_11Ending.mid', 'data/nesmdb_midi/train/195_KonamiWaiWaiWorld_02_03KonamiManBGM.mid', 'data/nesmdb_midi/train/336_TenchioKurauII_ShokatsuKoumeiDen_03_04Castle.mid', 'data/nesmdb_midi/train/299_Solitaire_00_01TitleScreen.mid', 'data/nesmdb_midi/train/155_HeraclesnoEikouII_TitannoMetsubou_05_06ServantofTheTitan.mid', 'data/nesmdb_midi/train/393_Yoshi_08_092PBattleMode.mid', 'data/nesmdb_midi/train/171_IkariWarriors_00_01ThemeofIkari.mid', 'data/nesmdb_midi/train/156_HigemaruMakaijima_NanatsunoShimaDaibouken_14_15Ending.mid', 'data/nesmdb_midi/train/275_RadRacer_05_06Ending.mid', 'data/nesmdb_midi/train/233_MetalMax_35_36Ending.mid', 'data/nesmdb_midi/train/179_JourneytoSilius_05_06Stage4.mid', 'data/nesmdb_midi/train/371_VegasDream_01_02BlackjackTheme.mid', 'data/nesmdb_midi/train/026_Batman_ReturnofTheJoker_14_15Unused.mid', 'data/nesmdb_midi/train/076_DonkeyKongCountry4_10_11GangPlankGalleon.mid', 'data/nesmdb_midi/train/022_BabelnoTou_04_05SpecialRoomBGM.mid', 'data/nesmdb_midi/train/350_TheMafatConspiracy_04_05InParisAct1EscapeAct2.mid', 'data/nesmdb_midi/train/268_PowerBlade2_05_06Boss.mid', 'data/nesmdb_midi/train/291_ShadowoftheNinja_00_01Opening.mid', 'data/nesmdb_midi/train/226_MegaMan3_00_01Title.mid', 'data/nesmdb_midi/train/229_MegaMan6_11_12TomahawkManStage.mid', 'data/nesmdb_midi/train/142_Ghosts_nGoblins_07_08ThemeofSatan56StageBoss.mid', 'data/nesmdb_midi/train/195_KonamiWaiWaiWorld_07_08MikeyBGM.mid', 'data/nesmdb_midi/train/233_MetalMax_03_04ToanUnknownWilderness.mid', 'data/nesmdb_midi/train/246_Mother_27_28MonkeysCave.mid', 'data/nesmdb_midi/train/222_MarusanoOnna_03_04DrugIllusionPassWords.mid', 'data/nesmdb_midi/train/346_TheJungleBook_02_03Level2Level5.mid', 'data/nesmdb_midi/train/375_Vs_Excitebike_20_21TrackMode.mid', 'data/nesmdb_midi/train/327_SuperStarForce_JikuurekinoHimitsu_00_01TakeOffDA20101608.mid', 'data/nesmdb_midi/train/280_RoadRunner_00_01WilliamTellOverture.mid', 'data/nesmdb_midi/train/335_TecmoCupSoccerGame_02_03OpeningJPVer.mid', 'data/nesmdb_midi/train/246_Mother_18_19TwinkleElementarySchool.mid', 'data/nesmdb_midi/train/246_Mother_30_31LiveHouseSong.mid', 'data/nesmdb_midi/train/212_MTV_RemoteControl_00_01TitleScreen.mid', 'data/nesmdb_midi/train/042_CaptainTsubasaVol_II_SuperStriker_00_01Opening.mid', 'data/nesmdb_midi/train/347_TheKarateKid_03_04DanielsaninOkinawaStage2.mid', 'data/nesmdb_midi/train/045_Castlevania_02_03Stalker.mid', 'data/nesmdb_midi/train/170_IkariIII_TheRescue_09_10Area4.mid', 'data/nesmdb_midi/train/100_Falsion_02_03TheEveningVoyageStage2BGM.mid', 'data/nesmdb_midi/train/151_Gumshoe_09_10Ending.mid', 'data/nesmdb_midi/train/295_SilverSurfer_03_04SectionBGM1.mid', 'data/nesmdb_midi/train/276_RadiaSenki_ReimeiHen_37_38Epilogue.mid', 'data/nesmdb_midi/train/125_FlyingDragon_TheSecretScroll_05_06MainThemePlayerProfiles.mid', 'data/nesmdb_midi/train/395_YoukaiDouchuuki_09_10AcheronEnmaDaioh.mid', 'data/nesmdb_midi/train/387_Wizardry_ProvingGroundsofTheMadOverlord_17_18Complete.mid', 'data/nesmdb_midi/train/055_CircusCaper_07_05aStage2.mid', 'data/nesmdb_midi/train/195_KonamiWaiWaiWorld_11_12DraculaStageBossBGM.mid', 'data/nesmdb_midi/train/034_BlasterMaster_04_05Area5.mid', 'data/nesmdb_midi/train/161_HiryunoKenII_DragonnoTsubasa_02_03Opening.mid', 'data/nesmdb_midi/train/091_DragonWarriorIV_41_42ViciousThing.mid', 'data/nesmdb_midi/train/396_YsIII_WanderersfromYs_04_05QuietMoments.mid', 'data/nesmdb_midi/train/051_ChesterField_EpisodeIIAnkokuShinenoChousen_16_17GroundBetaVersion.mid', 'data/nesmdb_midi/train/398_Ys_AncientYsVanishedOmen_07_08Palace.mid', 'data/nesmdb_midi/train/397_YsII_AncientYsVanishedTheFinalChapter_08_09NobleDistrictofToal.mid', 'data/nesmdb_midi/train/104_FamicomJumpII_Saikyono7_nin_00_01Strongest7Theme.mid', 'data/nesmdb_midi/train/192_KiwiKraze_02_03MainTheme.mid', 'data/nesmdb_midi/train/189_KingKong2_IkarinoMegatonPunch_01_02BGM2.mid', 'data/nesmdb_midi/train/298_SolarJetman_HuntfortheGoldenWarpship_30_31MiplezurGameplay.mid', 'data/nesmdb_midi/train/027_Batman_TheVideoGame_10_11GameOver.mid', 'data/nesmdb_midi/train/303_SpaceHarrier_08_09Syura.mid', 'data/nesmdb_midi/train/228_MegaMan5_05_06GravityManStage.mid', 'data/nesmdb_midi/train/093_DuckTales_03_04Transylvania.mid', 'data/nesmdb_midi/train/287_S_C_A_T__SpecialCyberneticAttackTeam_00_01Opening1.mid', 'data/nesmdb_midi/train/090_DragonWarriorIII_05_06BattleTheme.mid', 'data/nesmdb_midi/train/246_Mother_14_15Alert.mid', 'data/nesmdb_midi/train/061_DarkLord_24_25StaffRoll.mid', 'data/nesmdb_midi/train/155_HeraclesnoEikouII_TitannoMetsubou_02_03InTheBustlingTown.mid', 'data/nesmdb_midi/train/217_MajouDensetsuII_DaimashikyouGalious_05_06World.mid', 'data/nesmdb_midi/train/233_MetalMax_12_13CaterpillarVillage.mid', 'data/nesmdb_midi/train/220_MarbleMadness_03_04Level4.mid', 'data/nesmdb_midi/train/312_Stinger_00_01Introduction.mid', 'data/nesmdb_midi/train/305_SpartanX2_00_01Opening.mid', 'data/nesmdb_midi/train/358_Town_amp_CountryII_Thrilla_sSurfari_04_05TitleScreenLevelTheme1.mid', 'data/nesmdb_midi/train/161_HiryunoKenII_DragonnoTsubasa_04_05TheTeachingsofTheMindsEye.mid', 'data/nesmdb_midi/train/151_Gumshoe_13_14Unused.mid', 'data/nesmdb_midi/train/397_YsII_AncientYsVanishedTheFinalChapter_12_13IceRidgeofNoltia.mid', 'data/nesmdb_midi/train/254_Nobunaga_sAmbitionII_10_11SoonMarriage.mid', 'data/nesmdb_midi/train/287_S_C_A_T__SpecialCyberneticAttackTeam_07_08Stage32.mid', 'data/nesmdb_midi/train/011_Aliens_Alien2_04_05Stage3.mid', 'data/nesmdb_midi/train/371_VegasDream_00_01TitleScreen.mid', 'data/nesmdb_midi/train/061_DarkLord_16_17EldersQuest.mid', 'data/nesmdb_midi/train/123_Fire_nIce_04_05GrandmasHouseMenu.mid', 'data/nesmdb_midi/train/123_Fire_nIce_06_07World1IceRockIsland.mid', 'data/nesmdb_midi/train/227_MegaMan4_11_12DustManStage.mid', 'data/nesmdb_midi/train/368_Ultima_QuestoftheAvatar_17_18CodexHall.mid', 'data/nesmdb_midi/train/090_DragonWarriorIII_08_09Dungeon.mid', 'data/nesmdb_midi/train/250_NinjaGaiden_24_25AtTheEndoftheBattle.mid', 'data/nesmdb_midi/train/181_KainoBouken_TheQuestofKi_10_11Ending.mid', 'data/nesmdb_midi/train/129_FreedomForce_00_01Opening.mid', 'data/nesmdb_midi/train/027_Batman_TheVideoGame_00_01Title.mid', 'data/nesmdb_midi/train/227_MegaMan4_12_13DiveManStage.mid', 'data/nesmdb_midi/train/378_WaiWaiWorld2_SOS__ParsleyJou_35_36ReturnofFrogger.mid', 'data/nesmdb_midi/train/053_ChoujinSentaiJetman_06_07AreaE.mid', 'data/nesmdb_midi/train/195_KonamiWaiWaiWorld_14_15MoaiStageBossBGM.mid', 'data/nesmdb_midi/train/240_Milon_sSecretCastle_12_13InsidetheCastleBGM2AWellBGM.mid', 'data/nesmdb_midi/train/213_MachRider_03_04MainBGM1.mid', 'data/nesmdb_midi/train/018_ArumananoKiseki_05_06Stage23.mid', 'data/nesmdb_midi/train/027_Batman_TheVideoGame_05_06Stage3.mid', 'data/nesmdb_midi/train/362_TwinBee_06_07TwinbeesHomeTownSongMainBGMWithOutIntro.mid', 'data/nesmdb_midi/train/370_ValkyrienoBouken_TokinoKagiDensetsu_00_01BGMAOverground.mid', 'data/nesmdb_midi/train/055_CircusCaper_13_08aStage5.mid', 'data/nesmdb_midi/train/317_SuperC_12_13FreeWorldEnding.mid', 'data/nesmdb_midi/train/266_PoolofRadiance_01_02NewPhlan.mid', 'data/nesmdb_midi/train/298_SolarJetman_HuntfortheGoldenWarpship_32_33EndCredits.mid', 'data/nesmdb_midi/train/195_KonamiWaiWaiWorld_03_04KonamiLadyBGM.mid', 'data/nesmdb_midi/train/246_Mother_05_06Battle2.mid', 'data/nesmdb_midi/train/396_YsIII_WanderersfromYs_23_24TheStrongestFoe.mid', 'data/nesmdb_midi/train/398_Ys_AncientYsVanishedOmen_14_15TowerofTheShadowofDeath4.mid', 'data/nesmdb_midi/train/190_King_sKnight_01_02OverworldTheme.mid', 'data/nesmdb_midi/train/118_FinalFantasyII_08_09TheImperialArmy.mid', 'data/nesmdb_midi/train/034_BlasterMaster_02_03Area3.mid', 'data/nesmdb_midi/train/066_DestinyofanEmperor_12_13CastleTown.mid', 'data/nesmdb_midi/train/160_HiryunoKenIII_5NinnoRyuSenshi_04_05TheJourney1.mid', 'data/nesmdb_midi/train/134_GanbareGoemon2_09_10Maze.mid', 'data/nesmdb_midi/train/330_TMNetwork_LiveinPowerBowl_11_12CarolsTheme.mid', 'data/nesmdb_midi/train/020_Athena_05_06WorldofSeaStage3.mid', 'data/nesmdb_midi/train/046_CastlevaniaIII_Dracula_sCurse_09_10Rising.mid', 'data/nesmdb_midi/train/032_BioSenshiDan_IncreasertonoTatakai_17_18Ending.mid', 'data/nesmdb_midi/train/401_ZeldaII_TheAdventureofLink_07_08TempleBGM.mid', 'data/nesmdb_midi/train/398_Ys_AncientYsVanishedOmen_13_14TowerofTheShadowofDeath3.mid', 'data/nesmdb_midi/train/042_CaptainTsubasaVol_II_SuperStriker_27_28Sanae.mid', 'data/nesmdb_midi/train/278_Renegade_06_07Mission21.mid', 'data/nesmdb_midi/train/318_SuperDonkeyKong_01_02SimianSegue.mid', 'data/nesmdb_midi/train/278_Renegade_08_09Mission3.mid', 'data/nesmdb_midi/train/289_SaintSeiya_OugonDensetsuKanketsuHen_11_12GameOver.mid', 'data/nesmdb_midi/train/191_Kirby_sAdventure_02_03PlainsLevel.mid', 'data/nesmdb_midi/train/351_ThePandaPrince_11_12MineCartMadnessnormalunused.mid', 'data/nesmdb_midi/train/321_SuperLodeRunner_06_07Unknown4.mid', 'data/nesmdb_midi/train/350_TheMafatConspiracy_17_18Ending.mid', 'data/nesmdb_midi/train/303_SpaceHarrier_14_15WhiteSummer.mid', 'data/nesmdb_midi/train/159_HinoToriHououhen_GaounoBouken_01_02YamatoStage.mid', 'data/nesmdb_midi/train/195_KonamiWaiWaiWorld_13_14KongStageBossBGM.mid', 'data/nesmdb_midi/train/008_AfterBurnerII_00_01MaximumPower.mid', 'data/nesmdb_midi/train/203_LegacyofTheWizard_04_05AllTogetherNow.mid', 'data/nesmdb_midi/train/191_Kirby_sAdventure_11_12CastleLevel.mid', 'data/nesmdb_midi/train/058_Contra_05_06MazeFortress2Stage24Boss.mid', 'data/nesmdb_midi/train/050_ChaosWorld_05_06Battle.mid', 'data/nesmdb_midi/train/287_S_C_A_T__SpecialCyberneticAttackTeam_06_07Stage3141.mid', 'data/nesmdb_midi/train/081_Dr_JekyllandMr_Hyde_00_01Title.mid', 'data/nesmdb_midi/train/072_DonDokoDon_09_10CastleinTheSky.mid', 'data/nesmdb_midi/train/336_TenchioKurauII_ShokatsuKoumeiDen_16_17Hermitage.mid', 'data/nesmdb_midi/train/276_RadiaSenki_ReimeiHen_16_17EnemyAppearance.mid', 'data/nesmdb_midi/train/388_Wizards_amp_Warriors_00_01MainTitle.mid', 'data/nesmdb_midi/train/260_Pac_Mania_01_02BlockTown.mid', 'data/nesmdb_midi/train/396_YsIII_WanderersfromYs_16_17VarestainCastle.mid', 'data/nesmdb_midi/train/042_CaptainTsubasaVol_II_SuperStriker_19_20FlamengoBeforeTheGame.mid', 'data/nesmdb_midi/train/331_TaitoChaseH_Q__05_06Chicago.mid', 'data/nesmdb_midi/train/025_BatmanReturns_12_13ThePenguinArmiesStage5.mid', 'data/nesmdb_midi/train/046_CastlevaniaIII_Dracula_sCurse_14_15DemonSeed.mid', 'data/nesmdb_midi/train/378_WaiWaiWorld2_SOS__ParsleyJou_31_32StarofRuinsMoai3.mid', 'data/nesmdb_midi/train/160_HiryunoKenIII_5NinnoRyuSenshi_03_04Talk.mid', 'data/nesmdb_midi/train/115_FelixtheCat_04_05Level4.mid', 'data/nesmdb_midi/train/250_NinjaGaiden_10_11TheCIA.mid', 'data/nesmdb_midi/train/010_AlienSyndrome_06_07Ending.mid', 'data/nesmdb_midi/train/364_TwinCobra_02_03OvertheSea.mid', 'data/nesmdb_midi/train/119_FinalFantasyIII_42_43Salonia.mid', 'data/nesmdb_midi/train/266_PoolofRadiance_14_15DiogenessTheme.mid', 'data/nesmdb_midi/train/189_KingKong2_IkarinoMegatonPunch_08_09InvincibilityBGM4.mid', 'data/nesmdb_midi/train/160_HiryunoKenIII_5NinnoRyuSenshi_10_11DragonTusk.mid', 'data/nesmdb_midi/train/378_WaiWaiWorld2_SOS__ParsleyJou_01_02ToFight.mid', 'data/nesmdb_midi/train/007_AfterBurner_01_02FinalTakeOff.mid', 'data/nesmdb_midi/train/025_BatmanReturns_04_05Opening2.mid', 'data/nesmdb_midi/train/123_Fire_nIce_20_21StaffRoll.mid', 'data/nesmdb_midi/train/032_BioSenshiDan_IncreasertonoTatakai_05_06Stage4.mid', 'data/nesmdb_midi/train/203_LegacyofTheWizard_05_06ThemeofShop.mid', 'data/nesmdb_midi/train/090_DragonWarriorIII_13_14Pyramid.mid', 'data/nesmdb_midi/train/036_BombermanII_08_09BGMInvincible.mid', 'data/nesmdb_midi/train/046_CastlevaniaIII_Dracula_sCurse_25_26Flashback.mid', 'data/nesmdb_midi/train/086_DragonFighter_05_06IntotheDepthStage3.mid', 'data/nesmdb_midi/train/317_SuperC_10_11DeathbedArea8.mid', 'data/nesmdb_midi/train/375_Vs_Excitebike_08_09FinalSelectionBGM.mid', 'data/nesmdb_midi/train/351_ThePandaPrince_02_03JungleLevel1.mid', 'data/nesmdb_midi/train/246_Mother_16_17Magicant.mid', 'data/nesmdb_midi/train/135_GanbareGoemonGaiden2_TenkanoZaih__17_18WorldThiefTournamentPlayerIntroduction.mid', 'data/nesmdb_midi/train/386_Wizardry_KnightofDiamonds_TheSecondScenario_08_09AtEdgeofTown.mid', 'data/nesmdb_midi/train/287_S_C_A_T__SpecialCyberneticAttackTeam_02_03Stage1.mid', 'data/nesmdb_midi/train/119_FinalFantasyIII_13_14ShrineofNept.mid', 'data/nesmdb_midi/train/276_RadiaSenki_ReimeiHen_24_25Ruins.mid', 'data/nesmdb_midi/train/342_TheFlintstones_TheSurpriseatDinosaurPeak__05_06Boss.mid', 'data/nesmdb_midi/train/026_Batman_ReturnofTheJoker_12_13Ending.mid', 'data/nesmdb_midi/train/009_AighinanoYogen_BalubalouknoDensetsuYori_08_09ThornRoom.mid', 'data/nesmdb_midi/train/170_IkariIII_TheRescue_11_12Area5.mid', 'data/nesmdb_midi/train/371_VegasDream_05_06KenoTheme.mid', 'data/nesmdb_midi/train/282_RoboWarrior_12_13EndingStaffRoll.mid', 'data/nesmdb_midi/train/106_FamicomMukashiBanashi_ShinOnigashima_12_13StaffRoll.mid', 'data/nesmdb_midi/train/078_Doraemon_13_14World31.mid', 'data/nesmdb_midi/train/341_TheFlintstones_TheRescueofDino_amp_Hoppy_00_01TitleScreen.mid', 'data/nesmdb_midi/train/161_HiryunoKenII_DragonnoTsubasa_24_25Subway.mid', 'data/nesmdb_midi/train/232_MetalGear_05_06IntruderDetected.mid', 'data/nesmdb_midi/train/229_MegaMan6_07_08CentaurManStage.mid', 'data/nesmdb_midi/train/121_FireEmblemGaiden_13_14BattleMap4FightMap22Celica2.mid', 'data/nesmdb_midi/train/186_KidIcarus_08_09ThePalaceintheSky.mid', 'data/nesmdb_midi/train/156_HigemaruMakaijima_NanatsunoShimaDaibouken_09_10OokamiIsland.mid', 'data/nesmdb_midi/train/387_Wizardry_ProvingGroundsofTheMadOverlord_02_03GilgameshsTavern.mid', 'data/nesmdb_midi/train/159_HinoToriHououhen_GaounoBouken_04_05YamatoStage8Volcano.mid', 'data/nesmdb_midi/train/045_Castlevania_15_16Voyager.mid', 'data/nesmdb_midi/train/392_Yo_Noid_05_06IslandIceIsland.mid', 'data/nesmdb_midi/train/003_720__03_04DownhillJumpTheme.mid', 'data/nesmdb_midi/train/385_WizardryII_LlylgamynnoIsan_11_12FightingTheme.mid', 'data/nesmdb_midi/train/104_FamicomJumpII_Saikyono7_nin_02_03EverydayLifeofReposeTemple.mid', 'data/nesmdb_midi/train/294_SidePocket_01_02BonusStar.mid', 'data/nesmdb_midi/train/044_CastleofDragon_13_14CreditRoll.mid', 'data/nesmdb_midi/train/261_Parodius_18_19ThemeofGolgodaTako.mid', 'data/nesmdb_midi/train/174_ImageFight_07_08ThemeofFactoryStage4.mid', 'data/nesmdb_midi/train/260_Pac_Mania_03_04PacTheatre.mid', 'data/nesmdb_midi/train/244_MontyontheRun_MontynoDokiDokiDaisassou_00_01TitleScreen.mid', 'data/nesmdb_midi/train/123_Fire_nIce_07_08World2CobaltMine.mid', 'data/nesmdb_midi/train/225_MegaMan2_09_10CrashManStage.mid', 'data/nesmdb_midi/train/380_WaronWheels_11_12EndingTheme.mid', 'data/nesmdb_midi/train/186_KidIcarus_04_05Labyrinth.mid', 'data/nesmdb_midi/train/051_ChesterField_EpisodeIIAnkokuShinenoChousen_15_16CastleWithoutIntro.mid', 'data/nesmdb_midi/train/367_Ultima_Exodus_05_06ExodusTheTerrible.mid', 'data/nesmdb_midi/train/314_SummerCarnival_92_Recca_01_02ReccaTitleArea7.mid', 'data/nesmdb_midi/train/226_MegaMan3_22_23Ending.mid', 'data/nesmdb_midi/train/118_FinalFantasyII_10_11ToweroftheMagi.mid', 'data/nesmdb_midi/train/233_MetalMax_16_17DungeonDance.mid', 'data/nesmdb_midi/train/199_Labyrinth_MaounoMeikyu_14_15AstheWorldFallsDown.mid', 'data/nesmdb_midi/train/060_CrisisForce_05_06Stage25.mid', 'data/nesmdb_midi/train/185_KickMaster_13_14TheBottomlessCrevasseSector4.mid', 'data/nesmdb_midi/train/061_DarkLord_00_01Opening.mid', 'data/nesmdb_midi/train/287_S_C_A_T__SpecialCyberneticAttackTeam_10_11Stage5.mid', 'data/nesmdb_midi/train/119_FinalFantasyIII_01_02CrystalCave.mid', 'data/nesmdb_midi/train/385_WizardryII_LlylgamynnoIsan_00_01WizardryIIOpeningTheme.mid', 'data/nesmdb_midi/train/224_MegaMan_10_11DrWilyStage1.mid', 'data/nesmdb_midi/train/174_ImageFight_01_02IntroductionStage1.mid', 'data/nesmdb_midi/train/210_LowGMan_TheLowGravityMan_05_06Chapter3CobaltMinesMagmaMountainsTheCliffs.mid', 'data/nesmdb_midi/train/328_SuperXevious_GAMPnoNazo_10_11BGMGArea13B.mid', 'data/nesmdb_midi/train/331_TaitoChaseH_Q__07_08ThisisChaseHQ.mid', 'data/nesmdb_midi/train/225_MegaMan2_11_12HeatManStage.mid', 'data/nesmdb_midi/train/202_LawnMower_01_02Game.mid', 'data/nesmdb_midi/train/387_Wizardry_ProvingGroundsofTheMadOverlord_00_01OpeningTheme.mid', 'data/nesmdb_midi/train/077_DonkeyKongJr__12_13Stage3BGMVariation2.mid', 'data/nesmdb_midi/train/061_DarkLord_18_19SwampofHeartache.mid', 'data/nesmdb_midi/train/160_HiryunoKenIII_5NinnoRyuSenshi_06_07Boss1.mid', 'data/nesmdb_midi/train/135_GanbareGoemonGaiden2_TenkanoZaih__39_40WesternHouseForeignShip.mid', 'data/nesmdb_midi/train/378_WaiWaiWorld2_SOS__ParsleyJou_26_27SpeedAction2.mid', 'data/nesmdb_midi/train/159_HinoToriHououhen_GaounoBouken_08_09HinoToriEnding.mid', 'data/nesmdb_midi/train/250_NinjaGaiden_16_17TheTruthConcealed.mid', 'data/nesmdb_midi/train/125_FlyingDragon_TheSecretScroll_00_01MainThemeOpening.mid', 'data/nesmdb_midi/train/222_MarusanoOnna_06_07MisbeliefLandInvestigationStaffBGM.mid', 'data/nesmdb_midi/train/170_IkariIII_TheRescue_05_06Area2.mid', 'data/nesmdb_midi/train/204_Lemmings_04_05Tim5.mid', 'data/nesmdb_midi/train/165_HolyDiver_09_10OffalHellStage2GoldenTempleStage4.mid', 'data/nesmdb_midi/train/378_WaiWaiWorld2_SOS__ParsleyJou_44_45EternalDreamOurParsleyCastle.mid', 'data/nesmdb_midi/train/351_ThePandaPrince_12_13UnusedLevel.mid', 'data/nesmdb_midi/train/261_Parodius_15_16MottomoKitanoKunikara90.mid', 'data/nesmdb_midi/train/049_Challenger_02_03SearchPrincess.mid', 'data/nesmdb_midi/train/009_AighinanoYogen_BalubalouknoDensetsuYori_04_05Dungeon.mid', 'data/nesmdb_midi/train/305_SpartanX2_03_04Stage1.mid', 'data/nesmdb_midi/train/398_Ys_AncientYsVanishedOmen_16_17TowerofTheShadowofDeath6.mid', 'data/nesmdb_midi/train/060_CrisisForce_08_09Stage7.mid', 'data/nesmdb_midi/train/298_SolarJetman_HuntfortheGoldenWarpship_31_32DestinySummons.mid', 'data/nesmdb_midi/train/042_CaptainTsubasaVol_II_SuperStriker_24_25OpposingTeamTohoHighSchool.mid', 'data/nesmdb_midi/train/246_Mother_20_21BeingFriends.mid', 'data/nesmdb_midi/train/121_FireEmblemGaiden_03_04BattleMap1FightMap11Alm1.mid', 'data/nesmdb_midi/train/301_Solstice_TheQuestfortheStaffofDemnos_00_01TitleScreen.mid', 'data/nesmdb_midi/train/254_Nobunaga_sAmbitionII_01_02OpeningRivalChiefsRisingtoAction.mid', 'data/nesmdb_midi/train/204_Lemmings_08_09Tim10.mid', 'data/nesmdb_midi/train/162_HiryunoKenSpecial_FightingWars_07_08MajorCircuit.mid', 'data/nesmdb_midi/train/240_Milon_sSecretCastle_15_16BonusStageMusicalInstrument12.mid', 'data/nesmdb_midi/train/119_FinalFantasyIII_26_27TheRequiem.mid', 'data/nesmdb_midi/train/350_TheMafatConspiracy_11_12OrientExpressAct4.mid', 'data/nesmdb_midi/train/129_FreedomForce_12_13Stage4.mid', 'data/nesmdb_midi/train/371_VegasDream_14_15Congratulations.mid', 'data/nesmdb_midi/train/031_BioMiracleBokutteUpa_07_08Underwater.mid', 'data/nesmdb_midi/train/276_RadiaSenki_ReimeiHen_12_13Castle.mid', 'data/nesmdb_midi/train/300_Solomon_sKey_01_02MainBGM.mid', 'data/nesmdb_midi/train/050_ChaosWorld_12_13NowLetsSetSail.mid', 'data/nesmdb_midi/train/330_TMNetwork_LiveinPowerBowl_07_08BeyondTheTime.mid', 'data/nesmdb_midi/train/255_NobunaganoYabou_BushouFuunroku_13_14IncidentatHonnojiInvadingHonganji.mid', 'data/nesmdb_midi/train/170_IkariIII_TheRescue_07_08Area3.mid', 'data/nesmdb_midi/train/232_MetalGear_02_03BaseInfiltration.mid', 'data/nesmdb_midi/train/225_MegaMan2_18_19DrWilyStage2.mid', 'data/nesmdb_midi/train/344_TheGooniesII_01_02TheGooniesRGoodEnough.mid', 'data/nesmdb_midi/train/185_KickMaster_06_07TheWitchesForestSector1.mid', 'data/nesmdb_midi/train/185_KickMaster_11_12TheCavernsofNoReturnSector2.mid', 'data/nesmdb_midi/train/228_MegaMan5_10_11ChargeManStage.mid', 'data/nesmdb_midi/train/225_MegaMan2_06_07AirManStage.mid', 'data/nesmdb_midi/train/140_GetsuFuumaDen_05_06OneHundredBillionLightyearsBeyond.mid', 'data/nesmdb_midi/train/193_Klax_04_05CavernsofCthulu.mid', 'data/nesmdb_midi/train/291_ShadowoftheNinja_08_09Stage5.mid', 'data/nesmdb_midi/train/248_MusashinoKen_TadaimaShugyouChuu_00_01ActionBGM.mid', 'data/nesmdb_midi/train/400_YuuMaze_04_05Ending.mid', 'data/nesmdb_midi/train/250_NinjaGaiden_04_05BraveryOntheClutches.mid', 'data/nesmdb_midi/train/055_CircusCaper_10_06bStage3.mid', 'data/nesmdb_midi/train/249_NazonoMurasamejou_01_02CastleTownBGM.mid', 'data/nesmdb_midi/train/250_NinjaGaiden_02_03TheDragonNinja.mid', 'data/nesmdb_midi/train/127_FlyingWarriors_02_03AHistoricWar.mid', 'data/nesmdb_midi/train/122_FireEmblem_AnkokuRyutoHikarinoTsurugi_24_25BattleMap4LastMapPlayerSide.mid', 'data/nesmdb_midi/train/055_CircusCaper_01_01bTitleScreen.mid', 'data/nesmdb_midi/train/181_KainoBouken_TheQuestofKi_08_09FeatherBGM.mid', 'data/nesmdb_midi/train/298_SolarJetman_HuntfortheGoldenWarpship_16_17BokkyGameplay.mid', 'data/nesmdb_midi/train/005_Abadox_TheDeadlyInnerWar_02_03Stage146.mid', 'data/nesmdb_midi/train/026_Batman_ReturnofTheJoker_08_09DecisiveFightStage7.mid', 'data/nesmdb_midi/train/026_Batman_ReturnofTheJoker_02_03GothaminDangerStage16.mid', 'data/nesmdb_midi/train/090_DragonWarriorIII_10_11Village.mid', 'data/nesmdb_midi/train/023_BalloonFight_06_07BalloonTripBonusStage.mid', 'data/nesmdb_midi/train/007_AfterBurner_03_04SuperStripe.mid', 'data/nesmdb_midi/train/091_DragonWarriorIV_10_11ColosseumDressingRoom.mid', 'data/nesmdb_midi/train/110_Famista_93_14_15TeamDataView.mid', 'data/nesmdb_midi/train/039_BuraiFighter_04_05Stage36.mid', 'data/nesmdb_midi/train/292_Shatterhand_06_07AreaB.mid', 'data/nesmdb_midi/train/274_R_C_Pro_Am_00_01TitleScreen.mid', 'data/nesmdb_midi/train/137_GansoSaiyuuki_SuperMonkeyDaibouken_01_02Overworld.mid', 'data/nesmdb_midi/train/278_Renegade_13_14TheNekketsuStalwart.mid', 'data/nesmdb_midi/train/227_MegaMan4_09_10PharaohManStage.mid', 'data/nesmdb_midi/train/127_FlyingWarriors_11_12TuskSoldier.mid', 'data/nesmdb_midi/train/362_TwinBee_01_02TwinbeesHomeTownSongMainBGM.mid', 'data/nesmdb_midi/train/362_TwinBee_07_08BossBGM3.mid', 'data/nesmdb_midi/train/240_Milon_sSecretCastle_07_08BonusStageComplete.mid', 'data/nesmdb_midi/train/188_KidouSenshiZ_Gundam_HotScramble_00_01ZTokiwoKoeteOpening.mid', 'data/nesmdb_midi/train/111_FantasyZone_11_12YaDaYo.mid', 'data/nesmdb_midi/train/174_ImageFight_13_14QuietCrisisStage7.mid', 'data/nesmdb_midi/train/341_TheFlintstones_TheRescueofDino_amp_Hoppy_02_03Cities.mid', 'data/nesmdb_midi/train/121_FireEmblemGaiden_01_02AllMapChapter1ToSophiaAlmsSettingOff.mid', 'data/nesmdb_midi/train/086_DragonFighter_08_09TheDragonFighterStage6.mid', 'data/nesmdb_midi/train/365_UchuuKeibitaiSDF_10_11Ending.mid', 'data/nesmdb_midi/train/322_SuperMarioBros__11_12RunningAboutHurry.mid', 'data/nesmdb_midi/train/197_KujakuOuII_01_02MainTheme.mid', 'data/nesmdb_midi/train/119_FinalFantasyIII_17_18Chocobos.mid', 'data/nesmdb_midi/train/059_ContraForce_08_09Stage4.mid', 'data/nesmdb_midi/train/333_Tama_amp_Friends_3ChoumeDaibouken_02_03Stage4.mid', 'data/nesmdb_midi/train/120_FinalMission_10_11Ending.mid', 'data/nesmdb_midi/train/026_Batman_ReturnofTheJoker_06_07DangerousWaysStage3.mid', 'data/nesmdb_midi/train/055_CircusCaper_25_18EndingTheme.mid', 'data/nesmdb_midi/train/396_YsIII_WanderersfromYs_25_26WanderersfromYs.mid', 'data/nesmdb_midi/train/246_Mother_31_32Tank.mid', 'data/nesmdb_midi/train/119_FinalFantasyIII_14_15SailingEnterprise.mid', 'data/nesmdb_midi/train/227_MegaMan4_08_09DrillManStage.mid', 'data/nesmdb_midi/train/298_SolarJetman_HuntfortheGoldenWarpship_07_08SpaceTravel.mid', 'data/nesmdb_midi/train/224_MegaMan_14_15Ending.mid', 'data/nesmdb_midi/train/336_TenchioKurauII_ShokatsuKoumeiDen_14_15Cave1.mid', 'data/nesmdb_midi/train/120_FinalMission_04_05Stage2.mid', 'data/nesmdb_midi/train/292_Shatterhand_11_12AreaG.mid', 'data/nesmdb_midi/train/225_MegaMan2_12_13WoodManStage.mid', 'data/nesmdb_midi/train/106_FamicomMukashiBanashi_ShinOnigashima_00_01TitleBGM.mid', 'data/nesmdb_midi/train/174_ImageFight_03_04YouGetPointClear.mid', 'data/nesmdb_midi/train/246_Mother_26_27Airplane.mid', 'data/nesmdb_midi/train/061_DarkLord_21_22Disappearance.mid', 'data/nesmdb_midi/train/122_FireEmblem_AnkokuRyutoHikarinoTsurugi_01_02Story2EachMapsBeginning.mid', 'data/nesmdb_midi/train/229_MegaMan6_34_35Rockman6Opening.mid', 'data/nesmdb_midi/train/387_Wizardry_ProvingGroundsofTheMadOverlord_10_11Camp.mid', 'data/nesmdb_midi/train/122_FireEmblem_AnkokuRyutoHikarinoTsurugi_31_32EndingBallad.mid', 'data/nesmdb_midi/train/134_GanbareGoemon2_03_04ChugokuHokkaidoStage49.mid', 'data/nesmdb_midi/train/104_FamicomJumpII_Saikyono7_nin_12_13BraveMoving2.mid', 'data/nesmdb_midi/train/062_DeadlyTowers_06_07InsideTheTower.mid', 'data/nesmdb_midi/train/345_TheGuardianLegend_25_26LastCorridor.mid', 'data/nesmdb_midi/train/318_SuperDonkeyKong_04_05VoicesoftheTemple.mid', 'data/nesmdb_midi/train/233_MetalMax_18_19WanderersSong.mid', 'data/nesmdb_midi/train/392_Yo_Noid_10_11SkatingRooftop.mid', 'data/nesmdb_midi/train/385_WizardryII_LlylgamynnoIsan_03_04BoltacsTradingPostII.mid', 'data/nesmdb_midi/train/372_Vs_BalloonFight_08_09BonusStage.mid', 'data/nesmdb_midi/train/122_FireEmblem_AnkokuRyutoHikarinoTsurugi_13_14BattleMap3NearofVictoryPlayerSide.mid', 'data/nesmdb_midi/train/036_BombermanII_12_13CreditRoll.mid', 'data/nesmdb_midi/train/091_DragonWarriorIV_23_24GypsyDance.mid', 'data/nesmdb_midi/train/046_CastlevaniaIII_Dracula_sCurse_24_25Evergreen.mid', 'data/nesmdb_midi/train/119_FinalFantasyIII_00_01ThePrelude.mid', 'data/nesmdb_midi/train/156_HigemaruMakaijima_NanatsunoShimaDaibouken_12_13DevilTheRedArremer.mid', 'data/nesmdb_midi/train/386_Wizardry_KnightofDiamonds_TheSecondScenario_14_15AllDestructionDeadSoulsofMelody.mid', 'data/nesmdb_midi/train/106_FamicomMukashiBanashi_ShinOnigashima_05_06SecondChapterInsidetheHouseNight.mid', 'data/nesmdb_midi/train/250_NinjaGaiden_05_06Reminiscence.mid', 'data/nesmdb_midi/train/261_Parodius_06_07EventhePatienceofaPierrotHasLimits.mid', 'data/nesmdb_midi/train/042_CaptainTsubasaVol_II_SuperStriker_36_37WorldYouthCupVictory.mid', 'data/nesmdb_midi/train/243_MonsterinmyPocket_11_12BossWorldStage62.mid', 'data/nesmdb_midi/train/243_MonsterinmyPocket_07_08ColaFloatStage3.mid', 'data/nesmdb_midi/train/087_DragonSpirit_TheNewLegend_11_12CaveRoadArea5.mid', 'data/nesmdb_midi/train/255_NobunaganoYabou_BushouFuunroku_19_20ShadowDeath.mid', 'data/nesmdb_midi/train/066_DestinyofanEmperor_04_05Field1.mid', 'data/nesmdb_midi/train/160_HiryunoKenIII_5NinnoRyuSenshi_01_02MainTheme.mid', 'data/nesmdb_midi/train/091_DragonWarriorIV_42_43IncarnationofEvil.mid', 'data/nesmdb_midi/train/350_TheMafatConspiracy_05_06Dungeon.mid', 'data/nesmdb_midi/train/010_AlienSyndrome_03_04Escape.mid', 'data/nesmdb_midi/train/165_HolyDiver_03_04CursedChurch2Stage12DevilsPalaceStage5.mid', 'data/nesmdb_midi/train/303_SpaceHarrier_01_02Lovers.mid', 'data/nesmdb_midi/train/117_FinalFantasy_08_09SailingShip.mid', 'data/nesmdb_midi/train/121_FireEmblemGaiden_06_07BattleMap6FightMapBGM1CP.mid', 'data/nesmdb_midi/train/066_DestinyofanEmperor_10_11WarlordsBattle2.mid', 'data/nesmdb_midi/train/249_NazonoMurasamejou_05_06MurasameJoBGM.mid', 'data/nesmdb_midi/train/363_TwinBee3_PokoPokoDaimaou_03_04TinyBoyNormalBGM.mid', 'data/nesmdb_midi/train/046_CastlevaniaIII_Dracula_sCurse_10_11Stream.mid', 'data/nesmdb_midi/train/224_MegaMan_06_07FiremanStage.mid', 'data/nesmdb_midi/train/191_Kirby_sAdventure_12_13ForestLevel.mid', 'data/nesmdb_midi/train/336_TenchioKurauII_ShokatsuKoumeiDen_21_22Field2.mid', 'data/nesmdb_midi/train/266_PoolofRadiance_27_28UnusedSong.mid', 'data/nesmdb_midi/train/336_TenchioKurauII_ShokatsuKoumeiDen_01_02MenuShop.mid', 'data/nesmdb_midi/train/195_KonamiWaiWaiWorld_17_18FinalStageBGM.mid', 'data/nesmdb_midi/train/204_Lemmings_01_02CanCan.mid', 'data/nesmdb_midi/train/289_SaintSeiya_OugonDensetsuKanketsuHen_03_04MainTheme.mid', 'data/nesmdb_midi/train/175_IndianaJonesandtheTempleofDoom_00_01IndianaJonesTheme.mid', 'data/nesmdb_midi/train/161_HiryunoKenII_DragonnoTsubasa_26_27HeavenlyNymph.mid', 'data/nesmdb_midi/train/061_DarkLord_04_05LittleNeoFight.mid', 'data/nesmdb_midi/train/398_Ys_AncientYsVanishedOmen_08_09PalaceB3F.mid', 'data/nesmdb_midi/train/053_ChoujinSentaiJetman_04_05AreaC.mid', 'data/nesmdb_midi/train/119_FinalFantasyIII_08_09JinnTheFire.mid', 'data/nesmdb_midi/train/046_CastlevaniaIII_Dracula_sCurse_20_21BigBattle2.mid', 'data/nesmdb_midi/train/061_DarkLord_03_04TownofEastall.mid', 'data/nesmdb_midi/train/255_NobunaganoYabou_BushouFuunroku_24_25AsEternalasHeavenandEarthEnding.mid', 'data/nesmdb_midi/train/392_Yo_Noid_04_05PierIceSupermarket.mid', 'data/nesmdb_midi/train/119_FinalFantasyIII_45_46LetMeKnowTheTruth.mid', 'data/nesmdb_midi/train/276_RadiaSenki_ReimeiHen_27_28AguilaTown.mid', 'data/nesmdb_midi/train/061_DarkLord_12_13ElvesofTheForest.mid', 'data/nesmdb_midi/train/135_GanbareGoemonGaiden2_TenkanoZaih__01_02OpeningDemo.mid', 'data/nesmdb_midi/train/276_RadiaSenki_ReimeiHen_26_27FlameSeetheTownBoundra.mid', 'data/nesmdb_midi/train/364_TwinCobra_01_02BreakALeg.mid', 'data/nesmdb_midi/train/405_ZombieNation_12_13Strontium90Round31WarPlant1.mid', 'data/nesmdb_midi/train/240_Milon_sSecretCastle_17_18BonusStageMusicalInstrument14.mid', 'data/nesmdb_midi/train/171_IkariWarriors_01_02Gate.mid', 'data/nesmdb_midi/train/050_ChaosWorld_13_14MidBossBattle.mid', 'data/nesmdb_midi/train/138_Gargoyle_sQuestII_11_12HinnomsWoods.mid', 'data/nesmdb_midi/train/398_Ys_AncientYsVanishedOmen_11_12TowerofTheShadowofDeath1.mid', 'data/nesmdb_midi/train/263_PhantomFighter_21_22EndingJP.mid', 'data/nesmdb_midi/train/160_HiryunoKenIII_5NinnoRyuSenshi_16_17Boss2.mid', 'data/nesmdb_midi/train/287_S_C_A_T__SpecialCyberneticAttackTeam_01_02Opening2.mid', 'data/nesmdb_midi/train/119_FinalFantasyIII_30_31TownofWater.mid', 'data/nesmdb_midi/train/149_GreenBeret_01_02Stages135withintro.mid', 'data/nesmdb_midi/train/046_CastlevaniaIII_Dracula_sCurse_06_07Clockwork.mid', 'data/nesmdb_midi/train/292_Shatterhand_07_08AreaC.mid', 'data/nesmdb_midi/train/312_Stinger_11_12FinalPowerUp.mid', 'data/nesmdb_midi/train/118_FinalFantasyII_17_18Finale.mid', 'data/nesmdb_midi/train/346_TheJungleBook_03_04Level3.mid', 'data/nesmdb_midi/train/129_FreedomForce_02_03Stage1.mid', 'data/nesmdb_midi/train/009_AighinanoYogen_BalubalouknoDensetsuYori_03_04Field.mid', 'data/nesmdb_midi/train/255_NobunaganoYabou_BushouFuunroku_07_08TheHelpfulBannerFirstVolumeUesugisTheme.mid', 'data/nesmdb_midi/train/347_TheKarateKid_06_07Boss.mid', 'data/nesmdb_midi/train/365_UchuuKeibitaiSDF_04_05Stage3.mid', 'data/nesmdb_midi/train/121_FireEmblemGaiden_31_32CastleMarch.mid', 'data/nesmdb_midi/train/066_DestinyofanEmperor_09_10WarlordsBattle1.mid', 'data/nesmdb_midi/train/115_FelixtheCat_03_04Level3.mid', 'data/nesmdb_midi/train/010_AlienSyndrome_02_03DoomsDay.mid', 'data/nesmdb_midi/train/336_TenchioKurauII_ShokatsuKoumeiDen_15_16Ship.mid', 'data/nesmdb_midi/train/295_SilverSurfer_00_01Title.mid', 'data/nesmdb_midi/train/032_BioSenshiDan_IncreasertonoTatakai_00_01Title.mid', 'data/nesmdb_midi/train/246_Mother_25_26YuccaDesert.mid', 'data/nesmdb_midi/train/044_CastleofDragon_00_01Title.mid', 'data/nesmdb_midi/train/140_GetsuFuumaDen_03_04GoGetsuFuuma.mid', 'data/nesmdb_midi/train/087_DragonSpirit_TheNewLegend_14_15DarkQuartersArea8.mid', 'data/nesmdb_midi/train/277_RainbowIslands_TheStoryofBubbleBobble2_02_03MainThemeJP.mid', 'data/nesmdb_midi/train/161_HiryunoKenII_DragonnoTsubasa_14_15FightingTheme1.mid', 'data/nesmdb_midi/train/254_Nobunaga_sAmbitionII_03_04TheWickedGodsFirstVolumeNobunagaMain.mid', 'data/nesmdb_midi/train/014_Argus_01_02BGM1.mid', 'data/nesmdb_midi/train/087_DragonSpirit_TheNewLegend_16_17BossD.mid', 'data/nesmdb_midi/train/191_Kirby_sAdventure_05_06UndergroundLevel.mid', 'data/nesmdb_midi/train/050_ChaosWorld_01_02TheAdventureBegins.mid', 'data/nesmdb_midi/train/225_MegaMan2_01_02Title.mid', 'data/nesmdb_midi/train/199_Labyrinth_MaounoMeikyu_06_07TheLabyrinth.mid', 'data/nesmdb_midi/train/121_FireEmblemGaiden_26_27BattleMap2FightMap12Alm2.mid', 'data/nesmdb_midi/train/246_Mother_00_01Title.mid', 'data/nesmdb_midi/train/363_TwinBee3_PokoPokoDaimaou_14_15FinalStageNormalBGM.mid', 'data/nesmdb_midi/train/156_HigemaruMakaijima_NanatsunoShimaDaibouken_05_06CurseIsland.mid', 'data/nesmdb_midi/train/191_Kirby_sAdventure_26_27FinalBoss.mid', 'data/nesmdb_midi/train/011_Aliens_Alien2_06_07Stage5.mid', 'data/nesmdb_midi/train/008_AfterBurnerII_03_04SuperStripe.mid', 'data/nesmdb_midi/train/358_Town_amp_CountryII_Thrilla_sSurfari_05_06LevelTheme2.mid', 'data/nesmdb_midi/train/396_YsIII_WanderersfromYs_24_25DepartureatSunrise.mid', 'data/nesmdb_midi/train/220_MarbleMadness_04_05Level5.mid', 'data/nesmdb_midi/train/087_DragonSpirit_TheNewLegend_13_14DeepSeaArea7.mid', 'data/nesmdb_midi/train/119_FinalFantasyIII_43_44DeepUnderTheWater.mid', 'data/nesmdb_midi/train/227_MegaMan4_10_11RingManStage.mid', 'data/nesmdb_midi/train/119_FinalFantasyIII_58_59ThisisTheLastBattleOSTEdit.mid', 'data/nesmdb_midi/train/120_FinalMission_09_10Stage5.mid', 'data/nesmdb_midi/train/385_WizardryII_LlylgamynnoIsan_01_02LegacyofLlylgamyn.mid', 'data/nesmdb_midi/train/328_SuperXevious_GAMPnoNazo_17_18BGMIRestartArea2021.mid', 'data/nesmdb_midi/train/090_DragonWarriorIII_26_27FightingSpirit.mid', 'data/nesmdb_midi/train/161_HiryunoKenII_DragonnoTsubasa_20_21TwirlRuins.mid', 'data/nesmdb_midi/train/159_HinoToriHououhen_GaounoBouken_03_04AfterlifeStage.mid', 'data/nesmdb_midi/train/059_ContraForce_00_01Opening.mid', 'data/nesmdb_midi/train/025_BatmanReturns_17_18CreditRoll.mid', 'data/nesmdb_midi/train/210_LowGMan_TheLowGravityMan_11_12SecretLevel.mid', 'data/nesmdb_midi/train/330_TMNetwork_LiveinPowerBowl_14_15DiveIntoYourBody.mid', 'data/nesmdb_midi/train/388_Wizards_amp_Warriors_02_03ForestofElrond.mid', 'data/nesmdb_midi/train/111_FantasyZone_12_13VictoryWay.mid', 'data/nesmdb_midi/train/306_Spelunker_00_01TitleBGM.mid', 'data/nesmdb_midi/train/113_FantasyZoneII_TheTeardropofOpa_Opa_01_02Pastaria.mid', 'data/nesmdb_midi/train/197_KujakuOuII_09_10Labyrinth.mid', 'data/nesmdb_midi/train/122_FireEmblem_AnkokuRyutoHikarinoTsurugi_03_04BattleMap1PlayerSideAttack.mid', 'data/nesmdb_midi/train/031_BioMiracleBokutteUpa_05_06Digging.mid', 'data/nesmdb_midi/train/398_Ys_AncientYsVanishedOmen_10_11BeatofTheTerror.mid', 'data/nesmdb_midi/train/072_DonDokoDon_10_11HappyEnd.mid', 'data/nesmdb_midi/train/303_SpaceHarrier_07_08BattleField.mid', 'data/nesmdb_midi/train/206_LifeForce_04_05PlanetRatis.mid', 'data/nesmdb_midi/train/351_ThePandaPrince_05_06VoicesoftheTempleLevel3.mid', 'data/nesmdb_midi/train/368_Ultima_QuestoftheAvatar_10_11DungeonBattles.mid', 'data/nesmdb_midi/train/115_FelixtheCat_06_07Level6.mid', 'data/nesmdb_midi/train/066_DestinyofanEmperor_00_01Title.mid', 'data/nesmdb_midi/train/232_MetalGear_03_04IntruderDetected.mid', 'data/nesmdb_midi/train/160_HiryunoKenIII_5NinnoRyuSenshi_17_18LionPit.mid', 'data/nesmdb_midi/train/196_KujakuOu_02_03UraKouya.mid', 'data/nesmdb_midi/train/161_HiryunoKenII_DragonnoTsubasa_05_06China.mid', 'data/nesmdb_midi/train/277_RainbowIslands_TheStoryofBubbleBobble2_01_02MainThemeUS.mid', 'data/nesmdb_midi/train/106_FamicomMukashiBanashi_ShinOnigashima_01_02FirstChapterInsidetheHouse.mid', 'data/nesmdb_midi/train/105_FamicomJump_HeroRetsuden_12_13HilariousCity.mid', 'data/nesmdb_midi/train/336_TenchioKurauII_ShokatsuKoumeiDen_13_14SiegeBattle.mid', 'data/nesmdb_midi/train/121_FireEmblemGaiden_00_01Opening.mid', 'data/nesmdb_midi/train/122_FireEmblem_AnkokuRyutoHikarinoTsurugi_29_30Demo.mid', 'data/nesmdb_midi/train/175_IndianaJonesandtheTempleofDoom_01_02SlaveChildrensCrusade.mid', 'data/nesmdb_midi/train/091_DragonWarriorIV_05_06CaveofFear.mid', 'data/nesmdb_midi/train/090_DragonWarriorIII_21_22HeavenlyFlight.mid', 'data/nesmdb_midi/train/228_MegaMan5_07_08StoneManStage.mid', 'data/nesmdb_midi/train/378_WaiWaiWorld2_SOS__ParsleyJou_36_37InvitationtoDevilsCastle1.mid', 'data/nesmdb_midi/train/405_ZombieNation_02_03MilitaryMarchTitle.mid', 'data/nesmdb_midi/train/311_StarshipHector_05_06History35.mid', 'data/nesmdb_midi/train/196_KujakuOu_01_02ReplicantScandalMainTheme.mid', 'data/nesmdb_midi/train/089_DragonWarriorII_04_05Deathfight.mid', 'data/nesmdb_midi/train/370_ValkyrienoBouken_TokinoKagiDensetsu_07_08Ending.mid', 'data/nesmdb_midi/train/050_ChaosWorld_15_16GettingRichQuickintheTownofTemptation.mid', 'data/nesmdb_midi/train/281_RobertByrne_sPoolChallenge_02_03MusicTwo.mid', 'data/nesmdb_midi/train/383_Wily_amp_RightnoRockBoard_That_sParadise_02_03GreenContinent.mid', 'data/nesmdb_midi/train/066_DestinyofanEmperor_13_14Castle.mid', 'data/nesmdb_midi/train/325_SuperMarioWorld_07_08Swimming.mid', 'data/nesmdb_midi/train/122_FireEmblem_AnkokuRyutoHikarinoTsurugi_09_10Fight2CPSideAttack.mid', 'data/nesmdb_midi/train/275_RadRacer_01_02BGM2.mid', 'data/nesmdb_midi/train/187_KidNiki_RadicalNinja_03_04StartBossBGM.mid', 'data/nesmdb_midi/train/334_Target_Renegade_03_04ParkingGarageStage13.mid', 'data/nesmdb_midi/train/204_Lemmings_03_04Tim3.mid', 'data/nesmdb_midi/train/111_FantasyZone_10_11DreamingTomorrow.mid', 'data/nesmdb_midi/train/345_TheGuardianLegend_22_23OrganicAreaCorridor.mid', 'data/nesmdb_midi/train/276_RadiaSenki_ReimeiHen_14_15BreezyTownKhvat.mid', 'data/nesmdb_midi/train/087_DragonSpirit_TheNewLegend_10_11GraveYardArea4.mid', 'data/nesmdb_midi/train/229_MegaMan6_09_10KnightManStage.mid', 'data/nesmdb_midi/train/196_KujakuOu_03_04LocationBGM1.mid', 'data/nesmdb_midi/train/046_CastlevaniaIII_Dracula_sCurse_19_20BigBattle1.mid', 'data/nesmdb_midi/train/042_CaptainTsubasaVol_II_SuperStriker_18_19CoimbraAppearance.mid', 'data/nesmdb_midi/train/263_PhantomFighter_20_21Ending.mid', 'data/nesmdb_midi/train/203_LegacyofTheWizard_12_13EndingTheme.mid', 'data/nesmdb_midi/train/046_CastlevaniaIII_Dracula_sCurse_08_09Anxiety.mid', 'data/nesmdb_midi/train/347_TheKarateKid_07_08TheTyphoonStrikesStage3.mid', 'data/nesmdb_midi/train/276_RadiaSenki_ReimeiHen_36_37LastBattle.mid', 'data/nesmdb_midi/train/233_MetalMax_17_18HowlIntheIndeliblePast.mid', 'data/nesmdb_midi/train/235_Metroid_00_01TitleBGM.mid', 'data/nesmdb_midi/train/371_VegasDream_04_05SlotMachineTheme.mid', 'data/nesmdb_midi/train/117_FinalFantasy_13_14MtGulg.mid', 'data/nesmdb_midi/train/225_MegaMan2_07_08BubbleManStage.mid', 'data/nesmdb_midi/train/045_Castlevania_06_07OutofTime.mid', 'data/nesmdb_midi/train/051_ChesterField_EpisodeIIAnkokuShinenoChousen_06_07Castle.mid', 'data/nesmdb_midi/train/327_SuperStarForce_JikuurekinoHimitsu_11_12TakeOffDA20101608WithOutIntro.mid', 'data/nesmdb_midi/train/087_DragonSpirit_TheNewLegend_09_10JungleArea3.mid', 'data/nesmdb_midi/train/366_Ufouria_TheSaga_06_07HebeintheSky.mid', 'data/nesmdb_midi/train/044_CastleofDragon_02_03Map.mid', 'data/nesmdb_midi/train/226_MegaMan3_05_06MagnetManStage.mid', 'data/nesmdb_midi/train/298_SolarJetman_HuntfortheGoldenWarpship_28_29ShankooGameplay.mid', 'data/nesmdb_midi/train/363_TwinBee3_PokoPokoDaimaou_09_10RockandRollBossBGM.mid', 'data/nesmdb_midi/train/118_FinalFantasyII_04_05TheRebelArmy.mid', 'data/nesmdb_midi/train/228_MegaMan5_11_12NapalmManStage.mid', 'data/nesmdb_midi/train/243_MonsterinmyPocket_03_04ThemeofMMsStage1.mid', 'data/nesmdb_midi/train/090_DragonWarriorIII_09_10Tower.mid', 'data/nesmdb_midi/train/315_SundayFunday_01_02RideOfLife.mid', 'data/nesmdb_midi/train/119_FinalFantasyIII_06_07MyHomeTown.mid', 'data/nesmdb_midi/train/123_Fire_nIce_10_11World5StarField.mid', 'data/nesmdb_midi/train/215_Magician_06_07MerlForest.mid', 'data/nesmdb_midi/train/266_PoolofRadiance_11_12DungeonTheme3.mid', 'data/nesmdb_midi/train/008_AfterBurnerII_04_05AfterBurner.mid', 'data/nesmdb_midi/train/127_FlyingWarriors_00_01TitleScreen.mid', 'data/nesmdb_midi/train/025_BatmanReturns_06_07ShrecksDepartmentStoreStage2.mid', 'data/nesmdb_midi/train/396_YsIII_WanderersfromYs_03_04TradingTownofRedmont.mid', 'data/nesmdb_midi/train/397_YsII_AncientYsVanishedTheFinalChapter_22_23Termination.mid', 'data/nesmdb_midi/train/195_KonamiWaiWaiWorld_12_13GetsuFuumaStageBossBGM.mid', 'data/nesmdb_midi/train/175_IndianaJonesandtheTempleofDoom_02_03MineCarChase.mid', 'data/nesmdb_midi/train/395_YoukaiDouchuuki_08_09RyuuguujouMamboRyuuguuTamatebako.mid', 'data/nesmdb_midi/train/090_DragonWarriorIII_25_26DeathofOrtega.mid', 'data/nesmdb_midi/train/138_Gargoyle_sQuestII_07_08Battle.mid', 'data/nesmdb_midi/train/343_TheGoonies_01_02TheGooniesRGoodEnough.mid', 'data/nesmdb_midi/train/345_TheGuardianLegend_18_19ForestAreaOverworld.mid', 'data/nesmdb_midi/train/393_Yoshi_00_01TitleTheme.mid', 'data/nesmdb_midi/train/104_FamicomJumpII_Saikyono7_nin_14_15SeaofPeace.mid', 'data/nesmdb_midi/train/371_VegasDream_03_04RouletteTheme.mid', 'data/nesmdb_midi/train/281_RobertByrne_sPoolChallenge_01_02MusicOne.mid', 'data/nesmdb_midi/train/060_CrisisForce_06_07Stage3.mid', 'data/nesmdb_midi/train/233_MetalMax_11_12CirculatedPobreObre.mid', 'data/nesmdb_midi/train/292_Shatterhand_09_10AreaD.mid', 'data/nesmdb_midi/train/087_DragonSpirit_TheNewLegend_07_08OmakeShaman.mid', 'data/nesmdb_midi/train/387_Wizardry_ProvingGroundsofTheMadOverlord_03_04AdventurersInn.mid', 'data/nesmdb_midi/train/340_Tetris_06_07Heroes.mid', 'data/nesmdb_midi/train/025_BatmanReturns_09_10IcePrincessStage3.mid', 'data/nesmdb_midi/train/266_PoolofRadiance_16_17YarashsPyramid.mid', 'data/nesmdb_midi/train/268_PowerBlade2_09_10Stage4.mid', 'data/nesmdb_midi/train/162_HiryunoKenSpecial_FightingWars_10_11MainTheme.mid', 'data/nesmdb_midi/train/228_MegaMan5_08_09GyroManStage.mid', 'data/nesmdb_midi/train/401_ZeldaII_TheAdventureofLink_04_05TownBGM.mid', 'data/nesmdb_midi/train/206_LifeForce_06_07BurntheWind.mid', 'data/nesmdb_midi/train/215_Magician_02_03TownofSerena.mid', 'data/nesmdb_midi/train/246_Mother_35_36Tombstone.mid', 'data/nesmdb_midi/train/325_SuperMarioWorld_12_13GameClear.mid', 'data/nesmdb_midi/train/086_DragonFighter_01_02TheFrozenBattleStage1.mid', 'data/nesmdb_midi/train/235_Metroid_10_11Escape.mid', 'data/nesmdb_midi/train/008_AfterBurnerII_01_02FinalTakeOff.mid', 'data/nesmdb_midi/train/334_Target_Renegade_04_05DowntownStage46.mid', 'data/nesmdb_midi/train/367_Ultima_Exodus_00_01TheUndergoundLabyrinth.mid', 'data/nesmdb_midi/train/119_FinalFantasyIII_07_08EternalWind.mid', 'data/nesmdb_midi/train/053_ChoujinSentaiJetman_00_01Title.mid', 'data/nesmdb_midi/train/289_SaintSeiya_OugonDensetsuKanketsuHen_06_07PretaWorld.mid', 'data/nesmdb_midi/train/222_MarusanoOnna_00_01TaxEvasioninTheShadowofCrimeOpeningTheme.mid', 'data/nesmdb_midi/train/334_Target_Renegade_01_02TitleScreen.mid', 'data/nesmdb_midi/train/276_RadiaSenki_ReimeiHen_10_11Cave.mid', 'data/nesmdb_midi/train/155_HeraclesnoEikouII_TitannoMetsubou_13_14PegasusWings.mid', 'data/nesmdb_midi/train/351_ThePandaPrince_04_05AquaticAmbienceLevel2.mid', 'data/nesmdb_midi/train/189_KingKong2_IkarinoMegatonPunch_00_01GameStartBGM1.mid', 'data/nesmdb_midi/train/120_FinalMission_06_07Stage32.mid', 'data/nesmdb_midi/train/135_GanbareGoemonGaiden2_TenkanoZaih__93_94EpiloguePart1.mid', 'data/nesmdb_midi/train/303_SpaceHarrier_10_11Stanray.mid', 'data/nesmdb_midi/train/233_MetalMax_14_15MetalMaxThemeofLove.mid', 'data/nesmdb_midi/train/387_Wizardry_ProvingGroundsofTheMadOverlord_09_10Dungeon.mid', 'data/nesmdb_midi/train/027_Batman_TheVideoGame_03_04Stage15.mid', 'data/nesmdb_midi/train/093_DuckTales_02_03TheAmazon.mid', 'data/nesmdb_midi/train/334_Target_Renegade_05_06TheParkStage5.mid', 'data/nesmdb_midi/train/280_RoadRunner_03_04DansedeSabre.mid', 'data/nesmdb_midi/train/113_FantasyZoneII_TheTeardropofOpa_Opa_08_09Fuwareak.mid', 'data/nesmdb_midi/train/178_Ironsword_Wizards_amp_WarriorsII_00_01Title.mid', 'data/nesmdb_midi/train/137_GansoSaiyuuki_SuperMonkeyDaibouken_04_05Ending.mid', 'data/nesmdb_midi/train/127_FlyingWarriors_23_24Demon.mid', 'data/nesmdb_midi/train/093_DuckTales_06_07TheMoon.mid', 'data/nesmdb_midi/train/303_SpaceHarrier_03_04Squilla.mid', 'data/nesmdb_midi/train/329_SwordMaster_09_10Stage6.mid', 'data/nesmdb_midi/train/313_Strider_12_13Ending.mid', 'data/nesmdb_midi/train/229_MegaMan6_06_07BlizzardManStage.mid', 'data/nesmdb_midi/train/135_GanbareGoemonGaiden2_TenkanoZaih__41_42TownHarbor.mid', 'data/nesmdb_midi/train/304_SpaceHunter_00_01TitleMain.mid', 'data/nesmdb_midi/train/025_BatmanReturns_10_11CircusTrainFollowingTheCircusTrainStage41ArcticWorldFollowingTheDuckVehicleStage61.mid', 'data/nesmdb_midi/train/117_FinalFantasy_14_15FlyingFortress.mid', 'data/nesmdb_midi/train/393_Yoshi_02_03FireFlowerMusicB.mid', 'data/nesmdb_midi/train/127_FlyingWarriors_04_05TrainingintheShorinTemple.mid', 'data/nesmdb_midi/train/276_RadiaSenki_ReimeiHen_02_03Field1.mid', 'data/nesmdb_midi/train/050_ChaosWorld_09_10ShoppingintheMerchantsHome.mid', 'data/nesmdb_midi/train/111_FantasyZone_01_02OpaOpa.mid', 'data/nesmdb_midi/train/055_CircusCaper_12_07bStage4.mid', 'data/nesmdb_midi/train/405_ZombieNation_09_10ZombienationRound21GrandCanyon.mid', 'data/nesmdb_midi/train/366_Ufouria_TheSaga_01_02HebesAdventure.mid', 'data/nesmdb_midi/train/291_ShadowoftheNinja_10_11Ending.mid', 'data/nesmdb_midi/train/204_Lemmings_02_03Tim2.mid', 'data/nesmdb_midi/train/368_Ultima_QuestoftheAvatar_01_02VirtueTest.mid', 'data/nesmdb_midi/train/137_GansoSaiyuuki_SuperMonkeyDaibouken_02_03Fighting.mid', 'data/nesmdb_midi/train/330_TMNetwork_LiveinPowerBowl_13_14Passenger.mid', 'data/nesmdb_midi/train/045_Castlevania_03_04WickedChild.mid', 'data/nesmdb_midi/train/326_SuperPitfall_04_05BalloonRide.mid', 'data/nesmdb_midi/train/133_GallForce_EternalStory_03_04EndingBGM.mid', 'data/nesmdb_midi/train/034_BlasterMaster_01_02Area2.mid', 'data/nesmdb_midi/train/243_MonsterinmyPocket_06_07DancinintheKitchenStage2.mid', 'data/nesmdb_midi/train/215_Magician_11_12MazeofDoom.mid', 'data/nesmdb_midi/train/082_Dr_Mario_02_03Fever.mid', 'data/nesmdb_midi/train/396_YsIII_WanderersfromYs_18_19RadiantKey.mid', 'data/nesmdb_midi/train/292_Shatterhand_08_09AreaCAreaFJP.mid', 'data/nesmdb_midi/train/268_PowerBlade2_04_05Stage1.mid', 'data/nesmdb_midi/train/397_YsII_AncientYsVanishedTheFinalChapter_23_24AStillTime.mid', 'data/nesmdb_midi/train/185_KickMaster_20_21Ending.mid', 'data/nesmdb_midi/train/157_HikariShinwa_PalutenanoKagami_08_09ThePalaceintheSky.mid', 'data/nesmdb_midi/train/339_Tetris_01_02Loginska.mid', 'data/nesmdb_midi/train/111_FantasyZone_02_03Shop.mid', 'data/nesmdb_midi/train/222_MarusanoOnna_07_08DontYouSayGoodByeEndingTheme.mid', 'data/nesmdb_midi/train/396_YsIII_WanderersfromYs_14_15SteelingTheWilltoFight.mid', 'data/nesmdb_midi/train/003_720__01_02ParkTheme.mid', 'data/nesmdb_midi/train/081_Dr_JekyllandMr_Hyde_08_09MrHydeStage.mid', 'data/nesmdb_midi/train/042_CaptainTsubasaVol_II_SuperStriker_26_27OpposingTeamsJapanCup.mid', 'data/nesmdb_midi/train/020_Athena_07_08WorldofIceStage5.mid', 'data/nesmdb_midi/train/202_LawnMower_04_05WellDone.mid', 'data/nesmdb_midi/train/255_NobunaganoYabou_BushouFuunroku_16_17DangerousCastleSiege.mid', 'data/nesmdb_midi/train/179_JourneytoSilius_00_01Title.mid', 'data/nesmdb_midi/train/295_SilverSurfer_04_05SectionBGM2.mid', 'data/nesmdb_midi/train/178_Ironsword_Wizards_amp_WarriorsII_02_03GroundLevel.mid', 'data/nesmdb_midi/train/240_Milon_sSecretCastle_01_02OutsidetheCastleBGM.mid', 'data/nesmdb_midi/train/121_FireEmblemGaiden_04_05AllMapChapter2CelicasSettingOff.mid', 'data/nesmdb_midi/train/220_MarbleMadness_02_03Level3.mid', 'data/nesmdb_midi/train/229_MegaMan6_32_33EndingCreditRoll.mid', 'data/nesmdb_midi/train/181_KainoBouken_TheQuestofKi_01_02Story.mid', 'data/nesmdb_midi/train/226_MegaMan3_18_19DrWilyStage2.mid', 'data/nesmdb_midi/train/312_Stinger_15_16Epilogue.mid', 'data/nesmdb_midi/train/210_LowGMan_TheLowGravityMan_02_03Chapter1IronNailManufacturingZone.mid', 'data/nesmdb_midi/train/055_CircusCaper_19_12BossTheme.mid', 'data/nesmdb_midi/train/378_WaiWaiWorld2_SOS__ParsleyJou_17_18TWIN3D.mid', 'data/nesmdb_midi/train/233_MetalMax_09_10Caravan.mid', 'data/nesmdb_midi/train/383_Wily_amp_RightnoRockBoard_That_sParadise_13_14UnusedSong.mid', 'data/nesmdb_midi/train/160_HiryunoKenIII_5NinnoRyuSenshi_22_23Daimajin.mid', 'data/nesmdb_midi/train/091_DragonWarriorIV_39_40TheUnknownCastle.mid', 'data/nesmdb_midi/train/191_Kirby_sAdventure_17_18MountainLevel.mid', 'data/nesmdb_midi/train/119_FinalFantasyIII_48_49TheInvincible.mid', 'data/nesmdb_midi/train/335_TecmoCupSoccerGame_10_11TeamRazorsJPVer.mid', 'data/nesmdb_midi/train/292_Shatterhand_02_03AreaA.mid', 'data/nesmdb_midi/train/189_KingKong2_IkarinoMegatonPunch_11_12StaffRoll.mid', 'data/nesmdb_midi/train/291_ShadowoftheNinja_06_07Stage3.mid', 'data/nesmdb_midi/train/119_FinalFantasyIII_16_17TimeRemains.mid', 'data/nesmdb_midi/train/036_BombermanII_07_08Area6.mid', 'data/nesmdb_midi/train/148_GradiusII_09_10SalamanderBossThemeStage52.mid', 'data/nesmdb_midi/train/366_Ufouria_TheSaga_00_01HeberekeTitle.mid', 'data/nesmdb_midi/train/327_SuperStarForce_JikuurekinoHimitsu_03_04J4OvertureCave.mid', 'data/nesmdb_midi/train/385_WizardryII_LlylgamynnoIsan_04_05EdgeofTownTheme.mid', 'data/nesmdb_midi/train/088_DragonWarrior_23_24Finale.mid', 'data/nesmdb_midi/train/276_RadiaSenki_ReimeiHen_28_29Shrine.mid', 'data/nesmdb_midi/train/144_GingaDenshou_GalaxyOdyssey_00_01Prologue.mid', 'data/nesmdb_midi/train/154_HappilyEverAfter_00_01Introduction.mid', 'data/nesmdb_midi/train/330_TMNetwork_LiveinPowerBowl_10_11SelfControl.mid', 'data/nesmdb_midi/train/367_Ultima_Exodus_06_07APeacerfulTown.mid', 'data/nesmdb_midi/train/314_SummerCarnival_92_Recca_16_17DreaminYouUnused.mid', 'data/nesmdb_midi/train/151_Gumshoe_04_05Stage2.mid', 'data/nesmdb_midi/train/113_FantasyZoneII_TheTeardropofOpa_Opa_12_13Ending.mid', 'data/nesmdb_midi/train/317_SuperC_00_01ThunderLandingArea1.mid', 'data/nesmdb_midi/train/333_Tama_amp_Friends_3ChoumeDaibouken_03_04Stage5.mid', 'data/nesmdb_midi/train/206_LifeForce_05_06Starfield.mid', 'data/nesmdb_midi/train/174_ImageFight_15_16DedicatetotheSuperiorFighterEnding.mid', 'data/nesmdb_midi/train/266_PoolofRadiance_21_22CombatTheme.mid', 'data/nesmdb_midi/train/386_Wizardry_KnightofDiamonds_TheSecondScenario_05_06BoltacsTradingPostIII.mid', 'data/nesmdb_midi/train/305_SpartanX2_09_10Stage5.mid', 'data/nesmdb_midi/train/268_PowerBlade2_08_09Stage3.mid', 'data/nesmdb_midi/train/333_Tama_amp_Friends_3ChoumeDaibouken_00_01TitleScreen.mid', 'data/nesmdb_midi/train/268_PowerBlade2_10_11Stage5.mid', 'data/nesmdb_midi/train/059_ContraForce_06_07Stage2.mid', 'data/nesmdb_midi/train/191_Kirby_sAdventure_20_21UnderwaterLevel.mid', 'data/nesmdb_midi/train/161_HiryunoKenII_DragonnoTsubasa_15_16FightingTheme2.mid', 'data/nesmdb_midi/train/386_Wizardry_KnightofDiamonds_TheSecondScenario_15_16KnightofDiamondsEndingTheme.mid', 'data/nesmdb_midi/train/159_HinoToriHououhen_GaounoBouken_02_03AncientStage.mid', 'data/nesmdb_midi/train/378_WaiWaiWorld2_SOS__ParsleyJou_32_33BushesofBambooFortress1.mid', 'data/nesmdb_midi/train/397_YsII_AncientYsVanishedTheFinalChapter_11_12Protecters.mid', 'data/nesmdb_midi/train/091_DragonWarriorIV_12_13BattleFortheGlory.mid', 'data/nesmdb_midi/train/228_MegaMan5_06_07WaveManStage.mid', 'data/nesmdb_midi/train/034_BlasterMaster_00_01Area1.mid', 'data/nesmdb_midi/train/388_Wizards_amp_Warriors_10_11IceCaves.mid', 'data/nesmdb_midi/train/398_Ys_AncientYsVanishedOmen_22_23SeeYouAgain.mid', 'data/nesmdb_midi/train/365_UchuuKeibitaiSDF_08_09Stage7.mid', 'data/nesmdb_midi/train/243_MonsterinmyPocket_08_09MonsterRapStage4.mid', 'data/nesmdb_midi/train/227_MegaMan4_22_23DrWilyStage1.mid', 'data/nesmdb_midi/train/125_FlyingDragon_TheSecretScroll_11_12GameOver.mid', 'data/nesmdb_midi/train/105_FamicomJump_HeroRetsuden_34_35Unused.mid', 'data/nesmdb_midi/train/224_MegaMan_05_06BombmanStage.mid', 'data/nesmdb_midi/train/161_HiryunoKenII_DragonnoTsubasa_19_20KernVillage.mid', 'data/nesmdb_midi/train/246_Mother_39_40EndingStaffRoll.mid', 'data/nesmdb_midi/train/261_Parodius_03_04IslandofPirates.mid', 'data/nesmdb_midi/train/378_WaiWaiWorld2_SOS__ParsleyJou_27_28InvitationtotheWorldofDemons1.mid', 'data/nesmdb_midi/train/289_SaintSeiya_OugonDensetsuKanketsuHen_00_01PegasusFantasyTitle.mid', 'data/nesmdb_midi/train/196_KujakuOu_04_05Battle.mid', 'data/nesmdb_midi/train/261_Parodius_10_11AmusementPark.mid', 'data/nesmdb_midi/train/396_YsIII_WanderersfromYs_15_16TearfulTwilight.mid', 'data/nesmdb_midi/train/226_MegaMan3_04_05NeedleManStage.mid', 'data/nesmdb_midi/train/219_Mappy_02_03BonusRoundStartBonusRound.mid', 'data/nesmdb_midi/train/225_MegaMan2_00_01Opening.mid', 'data/nesmdb_midi/train/329_SwordMaster_10_11Stage7.mid', 'data/nesmdb_midi/train/077_DonkeyKongJr__15_16Stage3BGMVariation5.mid', 'data/nesmdb_midi/train/397_YsII_AncientYsVanishedTheFinalChapter_01_02ToMakeTheEndofBattle.mid', 'data/nesmdb_midi/train/153_Gyromite_05_06GameABGM.mid', 'data/nesmdb_midi/train/105_FamicomJump_HeroRetsuden_02_03TheBeginningofTheStory.mid', 'data/nesmdb_midi/train/205_LesChevaliersduZodiaque_LaLegended_Or_01_02MainTheme.mid', 'data/nesmdb_midi/train/378_WaiWaiWorld2_SOS__ParsleyJou_25_26SpeedAction1.mid', 'data/nesmdb_midi/train/314_SummerCarnival_92_Recca_03_04CrisisBoss.mid', 'data/nesmdb_midi/train/397_YsII_AncientYsVanishedTheFinalChapter_06_07FeelBlue.mid', 'data/nesmdb_midi/train/120_FinalMission_05_06Stage3141.mid', 'data/nesmdb_midi/train/135_GanbareGoemonGaiden2_TenkanoZaih__95_96StaffRoll.mid', 'data/nesmdb_midi/train/188_KidouSenshiZ_Gundam_HotScramble_02_03MizunoHoshieAiwoKometeMainBGM.mid', 'data/nesmdb_midi/train/397_YsII_AncientYsVanishedTheFinalChapter_17_18SubterraneanCanal.mid', 'data/nesmdb_midi/train/335_TecmoCupSoccerGame_26_27CreditRollJPVer.mid', 'data/nesmdb_midi/train/027_Batman_TheVideoGame_07_08Boss.mid', 'data/nesmdb_midi/train/226_MegaMan3_13_14Boss.mid', 'data/nesmdb_midi/train/039_BuraiFighter_01_02Stage15.mid', 'data/nesmdb_midi/train/313_Strider_13_14StaffRoll.mid', 'data/nesmdb_midi/train/365_UchuuKeibitaiSDF_11_12Unknown.mid', 'data/nesmdb_midi/train/091_DragonWarriorIV_44_45ColosseumStandWithoutIntro.mid', 'data/nesmdb_midi/train/090_DragonWarriorIII_18_19ThePhantomShip.mid', 'data/nesmdb_midi/train/055_CircusCaper_15_09aStage6.mid', 'data/nesmdb_midi/train/187_KidNiki_RadicalNinja_02_03StartBGM2.mid', 'data/nesmdb_midi/train/233_MetalMax_00_01Title.mid', 'data/nesmdb_midi/train/298_SolarJetman_HuntfortheGoldenWarpship_11_12OmebruIntroduction.mid', 'data/nesmdb_midi/train/060_CrisisForce_10_11Ending.mid', 'data/nesmdb_midi/train/160_HiryunoKenIII_5NinnoRyuSenshi_11_12TalkwithDragonTusk.mid', 'data/nesmdb_midi/train/156_HigemaruMakaijima_NanatsunoShimaDaibouken_07_08HebiIsland.mid', 'data/nesmdb_midi/train/129_FreedomForce_13_14Stage5.mid', 'data/nesmdb_midi/train/053_ChoujinSentaiJetman_02_03AreaA.mid', 'data/nesmdb_midi/train/396_YsIII_WanderersfromYs_08_09BeCareful.mid', 'data/nesmdb_midi/train/087_DragonSpirit_TheNewLegend_03_04LastSceneOpeningDemo.mid', 'data/nesmdb_midi/train/397_YsII_AncientYsVanishedTheFinalChapter_10_11CavernofRasteenie.mid', 'data/nesmdb_midi/train/144_GingaDenshou_GalaxyOdyssey_07_08PlanetHope.mid', 'data/nesmdb_midi/train/235_Metroid_04_05Norfair.mid', 'data/nesmdb_midi/train/055_CircusCaper_05_04aStage1.mid', 'data/nesmdb_midi/train/232_MetalGear_06_07Mercenary.mid', 'data/nesmdb_midi/train/135_GanbareGoemonGaiden2_TenkanoZaih__38_39TowerofBabel.mid', 'data/nesmdb_midi/train/100_Falsion_03_04NarrowRoadStage3BGM.mid', 'data/nesmdb_midi/train/053_ChoujinSentaiJetman_14_15Ending.mid', 'data/nesmdb_midi/train/127_FlyingWarriors_17_18JourneyinPeru.mid', 'data/nesmdb_midi/train/233_MetalMax_22_23Annihilation.mid', 'data/nesmdb_midi/train/405_ZombieNation_18_19SongForUSAEnding.mid', 'data/nesmdb_midi/train/260_Pac_Mania_06_07JunglySteps.mid', 'data/nesmdb_midi/train/341_TheFlintstones_TheRescueofDino_amp_Hoppy_06_07Jungle.mid', 'data/nesmdb_midi/train/368_Ultima_QuestoftheAvatar_05_06Villages.mid', 'data/nesmdb_midi/train/106_FamicomMukashiBanashi_ShinOnigashima_09_10FourthChapterNeighboringVillage.mid', 'data/nesmdb_midi/train/055_CircusCaper_06_04bStage1.mid', 'data/nesmdb_midi/train/059_ContraForce_11_12Ending.mid', 'data/nesmdb_midi/train/263_PhantomFighter_08_09Battle1.mid', 'data/nesmdb_midi/train/117_FinalFantasy_01_02OpeningTheme.mid', 'data/nesmdb_midi/train/045_Castlevania_04_05WalkingOntheEdge.mid', 'data/nesmdb_midi/train/310_StarWars_TheEmpireStrikesBack_01_02Vader.mid', 'data/nesmdb_midi/train/121_FireEmblemGaiden_24_25AllMapChapter5ReunionandThen.mid', 'data/nesmdb_midi/train/392_Yo_Noid_17_18BuildingMountainLastFlying.mid', 'data/nesmdb_midi/train/240_Milon_sSecretCastle_19_20BonusStageMusicalInstrument16.mid', 'data/nesmdb_midi/train/292_Shatterhand_10_11AreaEAreaF.mid', 'data/nesmdb_midi/train/215_Magician_00_01TitleScreen.mid', 'data/nesmdb_midi/train/266_PoolofRadiance_13_14WildernessTheme.mid', 'data/nesmdb_midi/train/261_Parodius_11_12Labyrinth.mid', 'data/nesmdb_midi/train/122_FireEmblem_AnkokuRyutoHikarinoTsurugi_02_03BattleMap2CPSideAttack.mid', 'data/nesmdb_midi/train/378_WaiWaiWorld2_SOS__ParsleyJou_13_14TwinBeesDeparture12.mid', 'data/nesmdb_midi/train/217_MajouDensetsuII_DaimashikyouGalious_03_04GreekCastle.mid', 'data/nesmdb_midi/train/405_ZombieNation_11_12OyagiRound2Boss.mid', 'data/nesmdb_midi/train/157_HikariShinwa_PalutenanoKagami_01_02TheUnderworld.mid', 'data/nesmdb_midi/train/193_Klax_02_03GiganticusBreathalizer.mid', 'data/nesmdb_midi/train/342_TheFlintstones_TheSurpriseatDinosaurPeak__09_10Surfing.mid', 'data/nesmdb_midi/train/302_Somari_03_04SpringYardZone.mid', 'data/nesmdb_midi/train/199_Labyrinth_MaounoMeikyu_09_10MagicDance.mid', 'data/nesmdb_midi/train/229_MegaMan6_13_14YamatoManStage.mid', 'data/nesmdb_midi/train/161_HiryunoKenII_DragonnoTsubasa_09_10DragonTusk.mid', 'data/nesmdb_midi/train/018_ArumananoKiseki_01_02Stage146.mid', 'data/nesmdb_midi/train/091_DragonWarriorIV_08_09PrincessAlenasAdventure.mid', 'data/nesmdb_midi/train/127_FlyingWarriors_03_04HolyLove.mid', 'data/nesmdb_midi/train/055_CircusCaper_09_06aStage3.mid', 'data/nesmdb_midi/train/263_PhantomFighter_01_02Title.mid', 'data/nesmdb_midi/train/186_KidIcarus_00_01TitleBGM.mid', 'data/nesmdb_midi/train/378_WaiWaiWorld2_SOS__ParsleyJou_20_21SweetsDance1.mid', 'data/nesmdb_midi/train/005_Abadox_TheDeadlyInnerWar_10_11Ending.mid', 'data/nesmdb_midi/train/246_Mother_12_13Cemetery.mid', 'data/nesmdb_midi/train/397_YsII_AncientYsVanishedTheFinalChapter_03_04TooFullWithLove.mid', 'data/nesmdb_midi/train/405_ZombieNation_05_06TengurilaRound11NewYork1.mid', 'data/nesmdb_midi/train/250_NinjaGaiden_21_22ShowdownAtthePortalofDeathBattlefield.mid', 'data/nesmdb_midi/train/009_AighinanoYogen_BalubalouknoDensetsuYori_09_10FlameRoom.mid', 'data/nesmdb_midi/train/149_GreenBeret_07_08Stages24withoutintro.mid', 'data/nesmdb_midi/train/276_RadiaSenki_ReimeiHen_34_35Sanctuary.mid', 'data/nesmdb_midi/train/233_MetalMax_05_06Battle.mid', 'data/nesmdb_midi/train/191_Kirby_sAdventure_14_15CloudLevel.mid', 'data/nesmdb_midi/train/278_Renegade_09_10Mission41.mid', 'data/nesmdb_midi/train/135_GanbareGoemonGaiden2_TenkanoZaih__20_21LuponAppearsLargeMap.mid', 'data/nesmdb_midi/train/091_DragonWarriorIV_30_31Homeland.mid', 'data/nesmdb_midi/train/398_Ys_AncientYsVanishedOmen_19_20TrueDarkFact.mid', 'data/nesmdb_midi/train/246_Mother_06_07Battle3.mid', 'data/nesmdb_midi/train/046_CastlevaniaIII_Dracula_sCurse_15_16DejaVu.mid', 'data/nesmdb_midi/train/354_Thexder_00_01MainBGM.mid', 'data/nesmdb_midi/train/333_Tama_amp_Friends_3ChoumeDaibouken_06_07FemaleCat.mid', 'data/nesmdb_midi/train/229_MegaMan6_08_09FlameManStage.mid', 'data/nesmdb_midi/train/076_DonkeyKongCountry4_02_03DKIslandSwing.mid', 'data/nesmdb_midi/train/050_ChaosWorld_00_01Title.mid', 'data/nesmdb_midi/train/318_SuperDonkeyKong_02_03DKIslandSwing.mid', 'data/nesmdb_midi/train/113_FantasyZoneII_TheTeardropofOpa_Opa_09_10Spardian.mid', 'data/nesmdb_midi/train/061_DarkLord_14_15AbandonedMine.mid', 'data/nesmdb_midi/train/329_SwordMaster_05_06Stage2.mid', 'data/nesmdb_midi/train/036_BombermanII_05_06Area135.mid', 'data/nesmdb_midi/train/046_CastlevaniaIII_Dracula_sCurse_12_13Nightmare.mid', 'data/nesmdb_midi/train/117_FinalFantasy_05_06MatoyasCave.mid', 'data/nesmdb_midi/train/121_FireEmblemGaiden_32_33Ending1.mid', 'data/nesmdb_midi/train/121_FireEmblemGaiden_05_06BattleMap3FightMap21Celica1.mid', 'data/nesmdb_midi/train/123_Fire_nIce_15_16LabyrinthTheme.mid', 'data/nesmdb_midi/train/292_Shatterhand_12_13Ending.mid', 'data/nesmdb_midi/train/061_DarkLord_20_21TheKingofMadness.mid', 'data/nesmdb_midi/train/228_MegaMan5_20_21LastBoss.mid', 'data/nesmdb_midi/train/179_JourneytoSilius_08_09Ending.mid', 'data/nesmdb_midi/train/196_KujakuOu_09_10DarknessTycoonBattle.mid', 'data/nesmdb_midi/train/330_TMNetwork_LiveinPowerBowl_02_03ADayInTheGirlsLife.mid', 'data/nesmdb_midi/train/275_RadRacer_02_03BGM3.mid', 'data/nesmdb_midi/train/127_FlyingWarriors_01_02MainTheme.mid', 'data/nesmdb_midi/train/160_HiryunoKenIII_5NinnoRyuSenshi_09_10DragonTuskAppearance.mid', 'data/nesmdb_midi/train/314_SummerCarnival_92_Recca_15_16LovinYouUnused.mid', 'data/nesmdb_midi/train/268_PowerBlade2_15_16Ending.mid', 'data/nesmdb_midi/train/387_Wizardry_ProvingGroundsofTheMadOverlord_12_13Fight.mid', 'data/nesmdb_midi/train/398_Ys_AncientYsVanishedOmen_00_01Feena.mid', 'data/nesmdb_midi/train/120_FinalMission_00_01Opening.mid', 'data/nesmdb_midi/train/327_SuperStarForce_JikuurekinoHimitsu_02_03DogFightDA03160001.mid', 'data/nesmdb_midi/train/068_Dezaemon_06_07SampleGameEnding.mid', 'data/nesmdb_midi/train/091_DragonWarriorIV_37_38BalloonsFlight.mid', 'data/nesmdb_midi/train/322_SuperMarioBros__00_01RunningAbout.mid', 'data/nesmdb_midi/train/250_NinjaGaiden_08_09InHidingPursuingtheNightmare.mid', 'data/nesmdb_midi/train/066_DestinyofanEmperor_15_16Dungeon.mid', 'data/nesmdb_midi/train/378_WaiWaiWorld2_SOS__ParsleyJou_04_05RunRickle1.mid', 'data/nesmdb_midi/train/229_MegaMan6_14_15Boss.mid', 'data/nesmdb_midi/train/119_FinalFantasyIII_05_06OpeningTheme.mid', 'data/nesmdb_midi/train/228_MegaMan5_13_14Boss.mid', 'data/nesmdb_midi/train/386_Wizardry_KnightofDiamonds_TheSecondScenario_10_11AMomentofCamp.mid', 'data/nesmdb_midi/train/282_RoboWarrior_07_08IronHills.mid', 'data/nesmdb_midi/train/105_FamicomJump_HeroRetsuden_29_30LastDecisiveBattleEvilofThirteen.mid', 'data/nesmdb_midi/train/283_Robocop_01_02Introduction.mid', 'data/nesmdb_midi/train/005_Abadox_TheDeadlyInnerWar_01_02OpeningDemo.mid', 'data/nesmdb_midi/train/149_GreenBeret_02_03Stages135withoutintro.mid', 'data/nesmdb_midi/train/300_Solomon_sKey_10_11Ending.mid', 'data/nesmdb_midi/train/396_YsIII_WanderersfromYs_19_20SealedTime.mid', 'data/nesmdb_midi/train/243_MonsterinmyPocket_14_15MonsterBoogieCredits.mid', 'data/nesmdb_midi/train/149_GreenBeret_13_14Stage6withintro.mid', 'data/nesmdb_midi/train/103_FamicomGrandPrixII_3DHotRally_05_06MonsterDance.mid', 'data/nesmdb_midi/train/154_HappilyEverAfter_08_09Stage4.mid', 'data/nesmdb_midi/train/246_Mother_03_04Pollyanna.mid', 'data/nesmdb_midi/train/174_ImageFight_14_15FinalMissionStage8.mid', 'data/nesmdb_midi/train/230_Meiky_JiinDababa_02_03Area13.mid', 'data/nesmdb_midi/train/232_MetalGear_08_09EscapeBeyondBigBoss.mid', 'data/nesmdb_midi/train/226_MegaMan3_06_07GeminiManStage.mid', 'data/nesmdb_midi/train/282_RoboWarrior_01_02BomberKingsTheme.mid', 'data/nesmdb_midi/train/205_LesChevaliersduZodiaque_LaLegended_Or_07_08Ending.mid', 'data/nesmdb_midi/train/010_AlienSyndrome_09_10Unused2.mid', 'data/nesmdb_midi/train/329_SwordMaster_14_15StaffRoll.mid', 'data/nesmdb_midi/train/100_Falsion_04_05CarefulwiththeWallsStage4BGM.mid', 'data/nesmdb_midi/train/228_MegaMan5_19_20DrWilyStage.mid', 'data/nesmdb_midi/train/129_FreedomForce_11_12Stage3.mid', 'data/nesmdb_midi/train/066_DestinyofanEmperor_18_19Ending.mid', 'data/nesmdb_midi/train/302_Somari_02_03MarbleZone.mid', 'data/nesmdb_midi/train/351_ThePandaPrince_08_09MineCartMadnessfastLevel4.mid', 'data/nesmdb_midi/train/127_FlyingWarriors_15_16KungFu.mid', 'data/nesmdb_midi/train/050_ChaosWorld_21_22Ending.mid', 'data/nesmdb_midi/train/340_Tetris_03_04Troika.mid', 'data/nesmdb_midi/train/344_TheGooniesII_09_10Ending.mid', 'data/nesmdb_midi/train/058_Contra_01_02Introduction.mid', 'data/nesmdb_midi/train/043_Castelian_03_04BonusRoad.mid', 'data/nesmdb_midi/train/160_HiryunoKenIII_5NinnoRyuSenshi_18_19DarkMandalaCult.mid', 'data/nesmdb_midi/train/276_RadiaSenki_ReimeiHen_31_32ProfessorCountrySamara.mid', 'data/nesmdb_midi/train/042_CaptainTsubasaVol_II_SuperStriker_38_39CreditRoll.mid', 'data/nesmdb_midi/train/088_DragonWarrior_02_03ChateauLadutorm.mid', 'data/nesmdb_midi/train/250_NinjaGaiden_25_26IreneOvertureofDawnPrelude.mid', 'data/nesmdb_midi/train/155_HeraclesnoEikouII_TitannoMetsubou_11_12BeyondTheOcean.mid', 'data/nesmdb_midi/train/179_JourneytoSilius_03_04Stage2.mid', 'data/nesmdb_midi/train/034_BlasterMaster_06_07Area7FinalBoss.mid', 'data/nesmdb_midi/train/122_FireEmblem_AnkokuRyutoHikarinoTsurugi_27_28Story6MarthandCaedasConversation.mid', 'data/nesmdb_midi/train/055_CircusCaper_11_07aStage4.mid', 'data/nesmdb_midi/train/364_TwinCobra_08_09EndingUS.mid', 'data/nesmdb_midi/train/315_SundayFunday_00_01MenuTheme.mid', 'data/nesmdb_midi/train/366_Ufouria_TheSaga_11_12ContinuePasswordCreditRoll.mid', 'data/nesmdb_midi/train/227_MegaMan4_27_28CreditRoll.mid', 'data/nesmdb_midi/train/329_SwordMaster_07_08Stage4.mid', 'data/nesmdb_midi/train/151_Gumshoe_05_06Stage2.mid', 'data/nesmdb_midi/train/395_YoukaiDouchuuki_04_05OpeningtheParlor.mid', 'data/nesmdb_midi/train/397_YsII_AncientYsVanishedTheFinalChapter_24_25StayWithMeForever.mid', 'data/nesmdb_midi/train/250_NinjaGaiden_13_14Crisis.mid', 'data/nesmdb_midi/train/058_Contra_11_12SandinistaEnding.mid', 'data/nesmdb_midi/train/034_BlasterMaster_11_12Ending.mid', 'data/nesmdb_midi/train/144_GingaDenshou_GalaxyOdyssey_02_03Esdaalthe5thSatellite.mid', 'data/nesmdb_midi/train/295_SilverSurfer_01_02Introduction.mid', 'data/nesmdb_midi/train/118_FinalFantasyII_00_01Prelude.mid', 'data/nesmdb_midi/train/066_DestinyofanEmperor_11_12Field2.mid', 'data/nesmdb_midi/train/281_RobertByrne_sPoolChallenge_00_01TitleScreen.mid', 'data/nesmdb_midi/train/127_FlyingWarriors_05_06HongKongCity.mid', 'data/nesmdb_midi/train/011_Aliens_Alien2_07_08Ending.mid', 'data/nesmdb_midi/train/309_StarSoldier_02_03MainTheme.mid', 'data/nesmdb_midi/train/051_ChesterField_EpisodeIIAnkokuShinenoChousen_07_08DragonWings.mid', 'data/nesmdb_midi/train/126_FlyingHero_06_07DangerBGM.mid', 'data/nesmdb_midi/train/058_Contra_02_03JungleBattleStage17.mid', 'data/nesmdb_midi/train/314_SummerCarnival_92_Recca_07_08DADArea1.mid', 'data/nesmdb_midi/train/061_DarkLord_17_18VillageofSadness.mid', 'data/nesmdb_midi/train/368_Ultima_QuestoftheAvatar_02_03Castles.mid', 'data/nesmdb_midi/train/050_ChaosWorld_04_05Field.mid', 'data/nesmdb_midi/train/403_ZhongGuoXiangQi_00_01TitleScreen.mid', 'data/nesmdb_midi/train/138_Gargoyle_sQuestII_10_11Field.mid', 'data/nesmdb_midi/train/140_GetsuFuumaDen_11_12RyukotsukiBattleBigBoss.mid', 'data/nesmdb_midi/train/396_YsIII_WanderersfromYs_10_11ASearingStruggle.mid', 'data/nesmdb_midi/train/191_Kirby_sAdventure_22_23DreamandColdLevel.mid', 'data/nesmdb_midi/train/076_DonkeyKongCountry4_06_07AquaticAmbiance.mid', 'data/nesmdb_midi/train/298_SolarJetman_HuntfortheGoldenWarpship_00_01MainTheme.mid', 'data/nesmdb_midi/train/155_HeraclesnoEikouII_TitannoMetsubou_08_09IntoTheUnderground.mid', 'data/nesmdb_midi/train/118_FinalFantasyII_07_08CastlePandemonium.mid', 'data/nesmdb_midi/train/009_AighinanoYogen_BalubalouknoDensetsuYori_11_12Ending.mid', 'data/nesmdb_midi/train/082_Dr_Mario_03_04Chill.mid', 'data/nesmdb_midi/train/061_DarkLord_23_24Epilogue.mid', 'data/nesmdb_midi/train/179_JourneytoSilius_01_02Opening.mid', 'data/nesmdb_midi/train/384_Wit_s_08_09Round4.mid', 'data/nesmdb_midi/train/058_Contra_04_05MazeFortress1Stage24.mid', 'data/nesmdb_midi/train/105_FamicomJump_HeroRetsuden_10_11SuspenseofShiver.mid', 'data/nesmdb_midi/train/277_RainbowIslands_TheStoryofBubbleBobble2_09_10KiKiKaiKaiIslandBGM.mid', 'data/nesmdb_midi/train/009_AighinanoYogen_BalubalouknoDensetsuYori_02_03Password.mid', 'data/nesmdb_midi/train/328_SuperXevious_GAMPnoNazo_14_15BGMIArea2021.mid', 'data/nesmdb_midi/train/385_WizardryII_LlylgamynnoIsan_13_14AdventurersInnII.mid', 'data/nesmdb_midi/train/091_DragonWarriorIV_09_10MysteriousShrine.mid', 'data/nesmdb_midi/train/267_Pooyan_17_18NameRegistUnused.mid', 'data/nesmdb_midi/train/287_S_C_A_T__SpecialCyberneticAttackTeam_09_10Stage42.mid', 'data/nesmdb_midi/train/301_Solstice_TheQuestfortheStaffofDemnos_02_03MainTheme.mid', 'data/nesmdb_midi/train/076_DonkeyKongCountry4_08_09LifeintheMines.mid', 'data/nesmdb_midi/train/336_TenchioKurauII_ShokatsuKoumeiDen_07_08Field1.mid', 'data/nesmdb_midi/train/224_MegaMan_04_05IcemanStage.mid', 'data/nesmdb_midi/train/191_Kirby_sAdventure_08_09SeaandShipLevel.mid', 'data/nesmdb_midi/train/250_NinjaGaiden_20_21TheMenaceofJaquio.mid', 'data/nesmdb_midi/train/225_MegaMan2_17_18DrWilyStage1.mid', 'data/nesmdb_midi/train/233_MetalMax_15_16AbandonedFactory.mid', 'data/nesmdb_midi/train/051_ChesterField_EpisodeIIAnkokuShinenoChousen_10_11Ending.mid', 'data/nesmdb_midi/train/031_BioMiracleBokutteUpa_10_11Ending.mid', 'data/nesmdb_midi/train/045_Castlevania_12_13NothingtoLose.mid', 'data/nesmdb_midi/train/266_PoolofRadiance_00_01TitleScreen.mid', 'data/nesmdb_midi/train/032_BioSenshiDan_IncreasertonoTatakai_13_14KansaiDialectOldManShop.mid', 'data/nesmdb_midi/train/043_Castelian_00_01MainTheme.mid', 'data/nesmdb_midi/train/398_Ys_AncientYsVanishedOmen_21_22TheMorningGrow.mid', 'data/nesmdb_midi/train/051_ChesterField_EpisodeIIAnkokuShinenoChousen_04_05Dungeon.mid', 'data/nesmdb_midi/train/317_SuperC_07_08NoEscapeArea47.mid', 'data/nesmdb_midi/train/093_DuckTales_00_01Opening.mid', 'data/nesmdb_midi/train/058_Contra_09_10HorribleHeartbeatStage8.mid', 'data/nesmdb_midi/train/072_DonDokoDon_02_03SylvanLand.mid', 'data/nesmdb_midi/train/396_YsIII_WanderersfromYs_20_21BeatofDestruction.mid', 'data/nesmdb_midi/train/227_MegaMan4_00_01Opening.mid', 'data/nesmdb_midi/train/195_KonamiWaiWaiWorld_08_09MoaiBGM.mid', 'data/nesmdb_midi/train/055_CircusCaper_00_01aTitleScreen.mid', 'data/nesmdb_midi/train/386_Wizardry_KnightofDiamonds_TheSecondScenario_12_13FightTheBraveBattle.mid', 'data/nesmdb_midi/train/288_SaintSeiya_OugonDensetsu_00_01PegasusFantasyTitle.mid', 'data/nesmdb_midi/train/317_SuperC_08_09M3Area5.mid', 'data/nesmdb_midi/train/350_TheMafatConspiracy_02_03MainTheme.mid', 'data/nesmdb_midi/train/397_YsII_AncientYsVanishedTheFinalChapter_14_15MoatofBurnedbless.mid', 'data/nesmdb_midi/train/297_SkyKid_00_01StartMusicBGMIntroBGM.mid', 'data/nesmdb_midi/train/154_HappilyEverAfter_06_07Stage22Stage32.mid', 'data/nesmdb_midi/train/336_TenchioKurauII_ShokatsuKoumeiDen_22_23DecisiveBattle.mid', 'data/nesmdb_midi/train/277_RainbowIslands_TheStoryofBubbleBobble2_17_18EndingPart2.mid', 'data/nesmdb_midi/train/197_KujakuOuII_12_13Ending.mid', 'data/nesmdb_midi/train/189_KingKong2_IkarinoMegatonPunch_04_05BGM5.mid', 'data/nesmdb_midi/train/009_AighinanoYogen_BalubalouknoDensetsuYori_06_07AuraStarHiddenRoom.mid', 'data/nesmdb_midi/train/250_NinjaGaiden_01_02DeterminationFathersMessage.mid', 'data/nesmdb_midi/train/062_DeadlyTowers_25_26CreditRoll.mid', 'data/nesmdb_midi/train/096_ExcitingBasket_02_03MainBGM.mid', 'data/nesmdb_midi/train/178_Ironsword_Wizards_amp_WarriorsII_14_15IcefireMountain.mid', 'data/nesmdb_midi/train/042_CaptainTsubasaVol_II_SuperStriker_25_26HighSchoolCupVictory.mid', 'data/nesmdb_midi/train/344_TheGooniesII_05_06UnderseaTheme.mid', 'data/nesmdb_midi/train/367_Ultima_Exodus_04_05TheMagnetofTheHeart.mid', 'data/nesmdb_midi/train/302_Somari_04_05LabyrinthZone.mid', 'data/nesmdb_midi/train/122_FireEmblem_AnkokuRyutoHikarinoTsurugi_16_17VictoryFanfare.mid', 'data/nesmdb_midi/train/318_SuperDonkeyKong_05_06LifeintheMines.mid', 'data/nesmdb_midi/train/401_ZeldaII_TheAdventureofLink_00_01TitleBGM.mid', 'data/nesmdb_midi/train/186_KidIcarus_01_02TheUnderworld.mid', 'data/nesmdb_midi/train/246_Mother_02_03Earthquake.mid', 'data/nesmdb_midi/train/172_IkariWarriorsII_VictoryRoad_04_05CountDownArea45.mid', 'data/nesmdb_midi/train/046_CastlevaniaIII_Dracula_sCurse_11_12DeadBeat.mid', 'data/nesmdb_midi/train/287_S_C_A_T__SpecialCyberneticAttackTeam_11_12Ending.mid', 'data/nesmdb_midi/train/032_BioSenshiDan_IncreasertonoTatakai_16_17Boss.mid', 'data/nesmdb_midi/train/196_KujakuOu_06_07LocationBGM3.mid', 'data/nesmdb_midi/train/335_TecmoCupSoccerGame_17_18TeamSeals.mid', 'data/nesmdb_midi/train/276_RadiaSenki_ReimeiHen_11_12LignificationHyupo.mid', 'data/nesmdb_midi/train/298_SolarJetman_HuntfortheGoldenWarpship_05_06Cyberzone.mid', 'data/nesmdb_midi/train/149_GreenBeret_06_07Stages24withintro.mid', 'data/nesmdb_midi/train/365_UchuuKeibitaiSDF_07_08Stage6.mid', 'data/nesmdb_midi/train/222_MarusanoOnna_05_06MellowLandscapeThemeofRyokoItakura.mid', 'data/nesmdb_midi/train/276_RadiaSenki_ReimeiHen_35_36ArcCastle.mid', 'data/nesmdb_midi/train/234_Metro_Cross_01_02BGM.mid', 'data/nesmdb_midi/train/210_LowGMan_TheLowGravityMan_10_11Ending.mid', 'data/nesmdb_midi/train/225_MegaMan2_23_24Ending.mid', 'data/nesmdb_midi/train/226_MegaMan3_09_10SnakeManStage.mid', 'data/nesmdb_midi/train/142_Ghosts_nGoblins_06_07FinalStageInsideGreatDemonKingsCastleBGM56Stage.mid', 'data/nesmdb_midi/train/268_PowerBlade2_07_08Stage2.mid', 'data/nesmdb_midi/train/178_Ironsword_Wizards_amp_WarriorsII_07_08WindElemental.mid', 'data/nesmdb_midi/train/090_DragonWarriorIII_04_05Adventure.mid', 'data/nesmdb_midi/train/119_FinalFantasyIII_21_22CastleofHain.mid', 'data/nesmdb_midi/train/236_MickeyMousecapade_07_08PirateShip.mid', 'data/nesmdb_midi/train/106_FamicomMukashiBanashi_ShinOnigashima_15_16SixthChapterForest.mid', 'data/nesmdb_midi/train/314_SummerCarnival_92_Recca_06_07ELM39Stage3Stage4.mid', 'data/nesmdb_midi/train/397_YsII_AncientYsVanishedTheFinalChapter_15_16TenderPeople.mid', 'data/nesmdb_midi/train/133_GallForce_EternalStory_01_02MainBGM.mid', 'data/nesmdb_midi/train/220_MarbleMadness_05_06Level6.mid', 'data/nesmdb_midi/train/118_FinalFantasyII_13_14Dungeon.mid', 'data/nesmdb_midi/train/243_MonsterinmyPocket_10_11EarthquakeStage61.mid', 'data/nesmdb_midi/train/229_MegaMan6_18_19MrXStage.mid', 'data/nesmdb_midi/train/238_MikeTyson_sPunch_Out___04_05Boxing.mid', 'data/nesmdb_midi/train/127_FlyingWarriors_06_07InfernalPalaces.mid', 'data/nesmdb_midi/train/342_TheFlintstones_TheSurpriseatDinosaurPeak__08_09Mines.mid', 'data/nesmdb_midi/train/119_FinalFantasyIII_25_26Battle2.mid', 'data/nesmdb_midi/train/327_SuperStarForce_JikuurekinoHimitsu_01_02SuperStarForceDA130113010820.mid', 'data/nesmdb_midi/train/139_GenpeiToumaden_ComputerBoardgame_16_17Unknown5.mid', 'data/nesmdb_midi/train/322_SuperMarioBros__17_18SavedthePrincess.mid', 'data/nesmdb_midi/train/309_StarSoldier_04_05FullPowerUp.mid', 'data/nesmdb_midi/train/149_GreenBeret_14_15Stage6withoutintro.mid', 'data/nesmdb_midi/train/155_HeraclesnoEikouII_TitannoMetsubou_16_17AllinTheMythology.mid', 'data/nesmdb_midi/train/156_HigemaruMakaijima_NanatsunoShimaDaibouken_11_12RedArremerIsland.mid', 'data/nesmdb_midi/train/363_TwinBee3_PokoPokoDaimaou_17_18EveningGlowofT3Ending.mid', 'data/nesmdb_midi/train/325_SuperMarioWorld_00_01Title.mid', 'data/nesmdb_midi/train/047_CastlevaniaII_Simon_sQuest_00_01TheSilenceofTheDaylight.mid', 'data/nesmdb_midi/train/405_ZombieNation_10_11HangaragimoRound22Cascade.mid', 'data/nesmdb_midi/train/127_FlyingWarriors_14_15FightingontheRing.mid', 'data/nesmdb_midi/train/368_Ultima_QuestoftheAvatar_18_19Ending.mid', 'data/nesmdb_midi/train/193_Klax_05_06Rottweiler.mid', 'data/nesmdb_midi/train/032_BioSenshiDan_IncreasertonoTatakai_11_12ChineseShop.mid', 'data/nesmdb_midi/train/240_Milon_sSecretCastle_16_17BonusStageMusicalInstrument13.mid', 'data/nesmdb_midi/train/047_CastlevaniaII_Simon_sQuest_01_02BloodyTears.mid', 'data/nesmdb_midi/train/121_FireEmblemGaiden_17_18Story4Tower.mid', 'data/nesmdb_midi/train/398_Ys_AncientYsVanishedOmen_15_16TowerofTheShadowofDeath5.mid', 'data/nesmdb_midi/train/027_Batman_TheVideoGame_08_09Ending.mid', 'data/nesmdb_midi/train/123_Fire_nIce_03_04TheStoryofDana.mid', 'data/nesmdb_midi/train/025_BatmanReturns_01_02Prologue1.mid', 'data/nesmdb_midi/train/032_BioSenshiDan_IncreasertonoTatakai_03_04Stage2.mid', 'data/nesmdb_midi/train/386_Wizardry_KnightofDiamonds_TheSecondScenario_06_07TempleofCantIII.mid', 'data/nesmdb_midi/train/018_ArumananoKiseki_06_07Stage5.mid', 'data/nesmdb_midi/train/387_Wizardry_ProvingGroundsofTheMadOverlord_08_09EdgeofTown.mid', 'data/nesmdb_midi/train/302_Somari_05_06StarLightZone.mid', 'data/nesmdb_midi/train/210_LowGMan_TheLowGravityMan_04_05Chapter2FrozenWasteOceanDepths.mid', 'data/nesmdb_midi/train/255_NobunaganoYabou_BushouFuunroku_20_21HeartSenRikyuTeaCeremony.mid', 'data/nesmdb_midi/train/080_DoubleDribble_01_02USAAnthem.mid', 'data/nesmdb_midi/train/327_SuperStarForce_JikuurekinoHimitsu_04_05J4Remains.mid', 'data/nesmdb_midi/train/383_Wily_amp_RightnoRockBoard_That_sParadise_03_04ColdIsland.mid', 'data/nesmdb_midi/train/185_KickMaster_14_15AboardtheShipofStrifeSector5.mid', 'data/nesmdb_midi/train/119_FinalFantasyIII_54_55ThisisTheLastBattle3.mid', 'data/nesmdb_midi/train/119_FinalFantasyIII_09_10TheDungeon.mid', 'data/nesmdb_midi/train/174_ImageFight_09_10SkillPenalty.mid', 'data/nesmdb_midi/train/276_RadiaSenki_ReimeiHen_23_24Field2.mid', 'data/nesmdb_midi/train/078_Doraemon_16_17CreditRoll.mid', 'data/nesmdb_midi/train/053_ChoujinSentaiJetman_12_13LastArea.mid', 'data/nesmdb_midi/train/042_CaptainTsubasaVol_II_SuperStriker_10_11TimerLow.mid', 'data/nesmdb_midi/train/050_ChaosWorld_11_12IdeaintheDemonsHand.mid', 'data/nesmdb_midi/train/087_DragonSpirit_TheNewLegend_01_02DarkCastle1Area0Area91.mid', 'data/nesmdb_midi/train/137_GansoSaiyuuki_SuperMonkeyDaibouken_03_04Houses.mid', 'data/nesmdb_midi/train/118_FinalFantasyII_15_16BattleTheme2.mid', 'data/nesmdb_midi/train/142_Ghosts_nGoblins_02_03GroundBGM12Stage.mid', 'data/nesmdb_midi/train/091_DragonWarriorIV_11_12ColosseumStand.mid', 'data/nesmdb_midi/train/269_ProYakyuu_FamilyStadium_88_00_01TeamSelect.mid', 'data/nesmdb_midi/train/104_FamicomJumpII_Saikyono7_nin_13_14MysteryDungeon.mid', 'data/nesmdb_midi/train/186_KidIcarus_10_11Ending.mid', 'data/nesmdb_midi/train/387_Wizardry_ProvingGroundsofTheMadOverlord_01_02Castle.mid', 'data/nesmdb_midi/train/189_KingKong2_IkarinoMegatonPunch_07_08PortalItemRoom.mid', 'data/nesmdb_midi/train/378_WaiWaiWorld2_SOS__ParsleyJou_11_12BlossomsofOedo3.mid', 'data/nesmdb_midi/train/344_TheGooniesII_03_04CavernTheme.mid', 'data/nesmdb_midi/train/314_SummerCarnival_92_Recca_11_12DeathTroyEnding.mid', 'data/nesmdb_midi/train/170_IkariIII_TheRescue_12_13Ending.mid', 'data/nesmdb_midi/train/191_Kirby_sAdventure_01_02TitleScreenDemo.mid', 'data/nesmdb_midi/train/077_DonkeyKongJr__16_17Stage3BGMVariation6.mid', 'data/nesmdb_midi/train/055_CircusCaper_03_02bCutsceneTheme.mid', 'data/nesmdb_midi/train/266_PoolofRadiance_22_23TyranthraxusCombat.mid', 'data/nesmdb_midi/train/263_PhantomFighter_10_11House.mid', 'data/nesmdb_midi/train/091_DragonWarriorIV_25_26GypsyTrip.mid', 'data/nesmdb_midi/train/368_Ultima_QuestoftheAvatar_11_12Bard.mid', 'data/nesmdb_midi/train/235_Metroid_03_04MiniBossRoomI.mid', 'data/nesmdb_midi/train/148_GradiusII_10_11OverHeatStage6.mid', 'data/nesmdb_midi/train/358_Town_amp_CountryII_Thrilla_sSurfari_08_09Ending.mid', 'data/nesmdb_midi/train/364_TwinCobra_03_04GoodFigure.mid', 'data/nesmdb_midi/train/305_SpartanX2_07_08Stage3.mid', 'data/nesmdb_midi/train/105_FamicomJump_HeroRetsuden_19_20ISometimeWalkedHere2.mid', 'data/nesmdb_midi/train/119_FinalFantasyIII_41_42InTheCovertTown.mid', 'data/nesmdb_midi/train/130_Fridaythe13th_01_02PlayerSelectInsideaCabin.mid', 'data/nesmdb_midi/train/334_Target_Renegade_02_03CutsceneReadytoRumble.mid', 'data/nesmdb_midi/train/385_WizardryII_LlylgamynnoIsan_05_06DungeonsTheme.mid', 'data/nesmdb_midi/train/346_TheJungleBook_04_05Level4Level7Level10.mid', 'data/nesmdb_midi/train/025_BatmanReturns_19_20Unused.mid', 'data/nesmdb_midi/train/260_Pac_Mania_05_06SandboxLand.mid', 'data/nesmdb_midi/train/089_DragonWarriorII_24_25MyRoadMyJourney.mid', 'data/nesmdb_midi/train/105_FamicomJump_HeroRetsuden_32_33HistoryofHeroes.mid', 'data/nesmdb_midi/train/329_SwordMaster_02_03Boss1.mid', 'data/nesmdb_midi/train/222_MarusanoOnna_01_02LowTentionHiPositionTaxOfficeBGM.mid', 'data/nesmdb_midi/train/206_LifeForce_09_10PeaceAgain.mid', 'data/nesmdb_midi/train/321_SuperLodeRunner_04_05Unknown2.mid', 'data/nesmdb_midi/train/227_MegaMan4_19_20DrCossackStage1.mid', 'data/nesmdb_midi/train/278_Renegade_10_11Mission42.mid', 'data/nesmdb_midi/train/113_FantasyZoneII_TheTeardropofOpa_Opa_05_06Hiyarika.mid', 'data/nesmdb_midi/train/066_DestinyofanEmperor_01_02Village.mid', 'data/nesmdb_midi/train/299_Solitaire_02_03GameTheme.mid', 'data/nesmdb_midi/train/336_TenchioKurauII_ShokatsuKoumeiDen_17_18Forest.mid', 'data/nesmdb_midi/train/342_TheFlintstones_TheSurpriseatDinosaurPeak__02_03Bedrock.mid', 'data/nesmdb_midi/train/230_Meiky_JiinDababa_10_11Ending.mid', 'data/nesmdb_midi/train/303_SpaceHarrier_11_12Hayaoh.mid', 'data/nesmdb_midi/train/340_Tetris_05_06Celebration2.mid', 'data/nesmdb_midi/train/199_Labyrinth_MaounoMeikyu_00_01OpeningTitlesIncludingUnderground.mid', 'data/nesmdb_midi/train/053_ChoujinSentaiJetman_03_04AreaB.mid', 'data/nesmdb_midi/train/339_Tetris_06_07Celebration.mid', 'data/nesmdb_midi/train/111_FantasyZone_06_07Saari.mid', 'data/nesmdb_midi/train/295_SilverSurfer_08_09Ranking.mid', 'data/nesmdb_midi/train/266_PoolofRadiance_06_07TempleTheme.mid', 'data/nesmdb_midi/train/276_RadiaSenki_ReimeiHen_00_01Opening.mid', 'data/nesmdb_midi/train/195_KonamiWaiWaiWorld_20_21EndingBGM.mid', 'data/nesmdb_midi/train/393_Yoshi_03_04StarmanMusicC.mid', 'data/nesmdb_midi/train/120_FinalMission_07_08Stage42.mid', 'data/nesmdb_midi/train/346_TheJungleBook_01_02TitleScreenLevel1Level6.mid', 'data/nesmdb_midi/train/205_LesChevaliersduZodiaque_LaLegended_Or_00_01Title.mid', 'data/nesmdb_midi/train/046_CastlevaniaIII_Dracula_sCurse_13_14Aquarius.mid', 'data/nesmdb_midi/train/333_Tama_amp_Friends_3ChoumeDaibouken_09_10EndingTheme.mid', 'data/nesmdb_midi/train/266_PoolofRadiance_10_11DungeonTheme2.mid', 'data/nesmdb_midi/train/345_TheGuardianLegend_02_03ApproachingNAJU.mid', 'data/nesmdb_midi/train/245_MoonCrystal_03_04EvilForestStage1.mid', 'data/nesmdb_midi/train/121_FireEmblemGaiden_12_13AllMapChapter3FreedomEachRoad.mid', 'data/nesmdb_midi/train/266_PoolofRadiance_26_27EndingTheme.mid', 'data/nesmdb_midi/train/254_Nobunaga_sAmbitionII_12_13WarCloudsRoadtoSupremacy2Field.mid', 'data/nesmdb_midi/train/042_CaptainTsubasaVol_II_SuperStriker_05_06ThemeofCharlie.mid', 'data/nesmdb_midi/train/119_FinalFantasyIII_29_30EliatheMaidenofWater.mid', 'data/nesmdb_midi/train/123_Fire_nIce_12_13World7FarthestLake.mid', 'data/nesmdb_midi/train/138_Gargoyle_sQuestII_00_01Title.mid', 'data/nesmdb_midi/train/275_RadRacer_00_01BGM1.mid', 'data/nesmdb_midi/train/119_FinalFantasyIII_28_29TheBoundlessOcean.mid', 'data/nesmdb_midi/train/129_FreedomForce_05_06Stage2.mid', 'data/nesmdb_midi/train/172_IkariWarriorsII_VictoryRoad_03_04RuntoTheFieldArea3.mid', 'data/nesmdb_midi/train/226_MegaMan3_07_08HardManStage.mid', 'data/nesmdb_midi/train/077_DonkeyKongJr__14_15Stage3BGMVariation4.mid', 'data/nesmdb_midi/train/010_AlienSyndrome_04_05KillerInstinct.mid', 'data/nesmdb_midi/train/119_FinalFantasyIII_50_51TheCrystalTower.mid', 'data/nesmdb_midi/train/157_HikariShinwa_PalutenanoKagami_00_01TitleBGM.mid', 'data/nesmdb_midi/train/317_SuperC_05_06JungleJunctureArea3.mid', 'data/nesmdb_midi/train/320_SuperHIK300in1_00_01Menu.mid', 'data/nesmdb_midi/train/088_DragonWarrior_00_01Overture.mid', 'data/nesmdb_midi/train/263_PhantomFighter_04_05Town.mid', 'data/nesmdb_midi/train/026_Batman_ReturnofTheJoker_07_08SnowyNightStage4.mid', 'data/nesmdb_midi/train/371_VegasDream_06_07GamblerMode.mid', 'data/nesmdb_midi/train/027_Batman_TheVideoGame_06_07Stage4.mid', 'data/nesmdb_midi/train/100_Falsion_06_07TheFinalSpaceFightStage6BGM.mid', 'data/nesmdb_midi/train/156_HigemaruMakaijima_NanatsunoShimaDaibouken_10_11JackknifeIsland.mid', 'data/nesmdb_midi/train/155_HeraclesnoEikouII_TitannoMetsubou_10_11HouseofWaitingTheMonsters.mid', 'data/nesmdb_midi/train/165_HolyDiver_00_01Title.mid', 'data/nesmdb_midi/train/121_FireEmblemGaiden_29_30BattleMap8LastMapBGMCP.mid', 'data/nesmdb_midi/train/348_TheLegendofZelda_01_02OverworldBGM.mid', 'data/nesmdb_midi/train/228_MegaMan5_09_10StarManStage.mid', 'data/nesmdb_midi/train/161_HiryunoKenII_DragonnoTsubasa_06_07NightCave.mid', 'data/nesmdb_midi/train/246_Mother_13_14Cave.mid', 'data/nesmdb_midi/train/310_StarWars_TheEmpireStrikesBack_00_01Title.mid', 'data/nesmdb_midi/train/206_LifeForce_07_08DestroyThemAll.mid', 'data/nesmdb_midi/train/345_TheGuardianLegend_00_01TitleScreen.mid', 'data/nesmdb_midi/train/314_SummerCarnival_92_Recca_09_10DeepspaceArea4.mid', 'data/nesmdb_midi/train/268_PowerBlade2_00_01Intro.mid', 'data/nesmdb_midi/train/380_WaronWheels_00_01TitleScreen.mid', 'data/nesmdb_midi/train/367_Ultima_Exodus_10_11UltimaHitominoKnife.mid', 'data/nesmdb_midi/train/202_LawnMower_00_01Title.mid', 'data/nesmdb_midi/train/119_FinalFantasyIII_56_57TheEverlastingWorld2.mid', 'data/nesmdb_midi/train/119_FinalFantasyIII_44_45BeneathTheHorizon.mid', 'data/nesmdb_midi/train/298_SolarJetman_HuntfortheGoldenWarpship_20_21ChorltonGameplay.mid', 'data/nesmdb_midi/train/250_NinjaGaiden_12_13TheAmazingRyu.mid', 'data/nesmdb_midi/train/363_TwinBee3_PokoPokoDaimaou_12_134stNormalBGM.mid', 'data/nesmdb_midi/train/104_FamicomJumpII_Saikyono7_nin_15_16BurningSpiritBattle.mid', 'data/nesmdb_midi/train/335_TecmoCupSoccerGame_05_06Newscast.mid', 'data/nesmdb_midi/train/046_CastlevaniaIII_Dracula_sCurse_07_08MadForest.mid', 'data/nesmdb_midi/train/051_ChesterField_EpisodeIIAnkokuShinenoChousen_02_03Ground.mid', 'data/nesmdb_midi/train/397_YsII_AncientYsVanishedTheFinalChapter_02_03Lilia.mid', 'data/nesmdb_midi/train/303_SpaceHarrier_12_13LakeSideMemory.mid', 'data/nesmdb_midi/train/345_TheGuardianLegend_21_22StellarAreaCorridor.mid', 'data/nesmdb_midi/train/005_Abadox_TheDeadlyInnerWar_03_04Stage2.mid', 'data/nesmdb_midi/train/117_FinalFantasy_15_16Battle.mid', 'data/nesmdb_midi/train/127_FlyingWarriors_19_20PeacefulVillage.mid', 'data/nesmdb_midi/train/181_KainoBouken_TheQuestofKi_04_05MainBGM.mid', 'data/nesmdb_midi/train/103_FamicomGrandPrixII_3DHotRally_04_05WindCommander.mid', 'data/nesmdb_midi/train/091_DragonWarriorIV_29_30Elegy.mid', 'data/nesmdb_midi/train/227_MegaMan4_23_24DrWilyStage2.mid', 'data/nesmdb_midi/train/206_LifeForce_03_04Thunderbolt.mid', 'data/nesmdb_midi/train/226_MegaMan3_10_11SparkManStage.mid', 'data/nesmdb_midi/train/051_ChesterField_EpisodeIIAnkokuShinenoChousen_18_19EndingBetaVersion.mid', 'data/nesmdb_midi/train/049_Challenger_03_04GetKeyword.mid', 'data/nesmdb_midi/train/405_ZombieNation_01_02OldNickOpening2.mid', 'data/nesmdb_midi/train/119_FinalFantasyIII_55_56TheEverlastingWorld1.mid', 'data/nesmdb_midi/train/339_Tetris_04_05Troika.mid', 'data/nesmdb_midi/train/368_Ultima_QuestoftheAvatar_00_01Title.mid', 'data/nesmdb_midi/train/226_MegaMan3_15_16GetAWeapon.mid', 'data/nesmdb_midi/train/403_ZhongGuoXiangQi_01_02MainBGM.mid', 'data/nesmdb_midi/train/395_YoukaiDouchuuki_01_02BGM.mid', 'data/nesmdb_midi/train/161_HiryunoKenII_DragonnoTsubasa_01_02Password.mid', 'data/nesmdb_midi/train/230_Meiky_JiinDababa_07_08Area2.mid', 'data/nesmdb_midi/train/089_DragonWarriorII_08_09FrightinDungeon.mid', 'data/nesmdb_midi/train/163_HittheIce_03_04MainBGMVS.mid', 'data/nesmdb_midi/train/140_GetsuFuumaDen_12_13ApocalypseEnding.mid', 'data/nesmdb_midi/train/335_TecmoCupSoccerGame_18_19AwardsCeremonyJPVer.mid', 'data/nesmdb_midi/train/378_WaiWaiWorld2_SOS__ParsleyJou_28_29InvitationtotheWorldofDemons2.mid', 'data/nesmdb_midi/train/061_DarkLord_08_09ScenarioClear.mid', 'data/nesmdb_midi/train/351_ThePandaPrince_10_11JungleGrooveunused.mid', 'data/nesmdb_midi/train/393_Yoshi_01_02MushroomMusicA.mid', 'data/nesmdb_midi/train/083_DraculaII_NoroinoFuuin_03_04TheSilenceoftheDaylightTownbyDayBGM.mid', 'data/nesmdb_midi/train/229_MegaMan6_20_21DrWilyStage.mid', 'data/nesmdb_midi/train/148_GradiusII_05_06HeavyBlowStage31.mid', 'data/nesmdb_midi/train/134_GanbareGoemon2_05_06KarakuriCastleStage10.mid', 'data/nesmdb_midi/train/062_DeadlyTowers_00_01Opening.mid', 'data/nesmdb_midi/train/136_GanbareGoemon_KarakuriDouchuu_11_12SeaMansionStage4610.mid', 'data/nesmdb_midi/train/254_Nobunaga_sAmbitionII_13_14WarCloudsRoadtoSupremacy3SiegeBattle.mid', 'data/nesmdb_midi/train/100_Falsion_08_09FarewelltoJourneyEnding.mid', 'data/nesmdb_midi/train/232_MetalGear_04_05WarningIntruderDetected.mid', 'data/nesmdb_midi/train/321_SuperLodeRunner_00_01TitleScreen.mid', 'data/nesmdb_midi/train/091_DragonWarriorIV_03_04SolitaryWarrior.mid', 'data/nesmdb_midi/train/078_Doraemon_09_10World21.mid', 'data/nesmdb_midi/train/318_SuperDonkeyKong_06_07KlompsRomp.mid', 'data/nesmdb_midi/train/311_StarshipHector_07_08Ending.mid', 'data/nesmdb_midi/train/072_DonDokoDon_08_09BadEnd.mid', 'data/nesmdb_midi/train/174_ImageFight_05_06LooseLooseLooseStage3.mid', 'data/nesmdb_midi/train/396_YsIII_WanderersfromYs_02_03Title.mid', 'data/nesmdb_midi/train/288_SaintSeiya_OugonDensetsu_01_02MainTheme.mid', 'data/nesmdb_midi/train/400_YuuMaze_00_01MainTheme1.mid', 'data/nesmdb_midi/train/066_DestinyofanEmperor_16_17FinalBattle.mid', 'data/nesmdb_midi/train/398_Ys_AncientYsVanishedOmen_04_05FirstStepTowardsWars.mid', 'data/nesmdb_midi/train/091_DragonWarriorIV_18_19APleasantCasino.mid', 'data/nesmdb_midi/train/061_DarkLord_11_12LittleDefenseLine.mid', 'data/nesmdb_midi/train/087_DragonSpirit_TheNewLegend_12_13GlaceirLandArea6.mid', 'data/nesmdb_midi/train/203_LegacyofTheWizard_03_04GroundTheme.mid', 'data/nesmdb_midi/train/396_YsIII_WanderersfromYs_09_10IlbernsRuins.mid', 'data/nesmdb_midi/train/236_MickeyMousecapade_08_09TheCastle.mid', 'data/nesmdb_midi/train/230_Meiky_JiinDababa_08_09Area4.mid', 'data/nesmdb_midi/train/090_DragonWarriorIII_03_04Rondo.mid', 'data/nesmdb_midi/train/327_SuperStarForce_JikuurekinoHimitsu_05_06EarthLemuriaContinent.mid', 'data/nesmdb_midi/train/122_FireEmblem_AnkokuRyutoHikarinoTsurugi_00_01OpeningTitleDemo.mid', 'data/nesmdb_midi/train/250_NinjaGaiden_26_27Credits.mid', 'data/nesmdb_midi/train/393_Yoshi_07_082PGameSetup.mid', 'data/nesmdb_midi/train/064_DeepDungeonII_YuushinoMonshou_00_01Title.mid', 'data/nesmdb_midi/train/126_FlyingHero_07_08Ending.mid', 'data/nesmdb_midi/train/201_LanMaster_02_03Done.mid', 'data/nesmdb_midi/train/240_Milon_sSecretCastle_03_04InsidetheCastleBGM1.mid', 'data/nesmdb_midi/train/313_Strider_05_06Egypt2.mid', 'data/nesmdb_midi/train/022_BabelnoTou_02_03MainBGM.mid', 'data/nesmdb_midi/train/091_DragonWarriorIV_04_05Town.mid', 'data/nesmdb_midi/train/346_TheJungleBook_07_08CutsceneLevel9.mid', 'data/nesmdb_midi/train/138_Gargoyle_sQuestII_17_18BreagersPalace.mid', 'data/nesmdb_midi/train/189_KingKong2_IkarinoMegatonPunch_02_03BGM3.mid', 'data/nesmdb_midi/train/144_GingaDenshou_GalaxyOdyssey_05_06Daalthe2ndSatellite.mid', 'data/nesmdb_midi/train/336_TenchioKurauII_ShokatsuKoumeiDen_00_01Title.mid', 'data/nesmdb_midi/train/179_JourneytoSilius_02_03Stage1FinalStage.mid', 'data/nesmdb_midi/train/046_CastlevaniaIII_Dracula_sCurse_02_03Beginning.mid', 'data/nesmdb_midi/train/344_TheGooniesII_02_03BasementTheme.mid', 'data/nesmdb_midi/train/227_MegaMan4_02_03Title.mid', 'data/nesmdb_midi/train/276_RadiaSenki_ReimeiHen_32_33RadiaTower.mid', 'data/nesmdb_midi/train/136_GanbareGoemon_KarakuriDouchuu_13_14CastleStage13.mid', 'data/nesmdb_midi/train/121_FireEmblemGaiden_16_17AllMapChapter4EarthofGrief.mid', 'data/nesmdb_midi/train/068_Dezaemon_02_03SampleGameStage1.mid', 'data/nesmdb_midi/train/042_CaptainTsubasaVol_II_SuperStriker_02_03FirstScene.mid', 'data/nesmdb_midi/train/119_FinalFantasyIII_19_20TowerofOwen.mid', 'data/nesmdb_midi/train/368_Ultima_QuestoftheAvatar_07_08Combat.mid', 'data/nesmdb_midi/train/059_ContraForce_07_08Stage3.mid', 'data/nesmdb_midi/train/235_Metroid_11_12Ending.mid', 'data/nesmdb_midi/train/398_Ys_AncientYsVanishedOmen_05_06ZepikVillage.mid', 'data/nesmdb_midi/train/340_Tetris_02_03Kalinka.mid', 'data/nesmdb_midi/train/313_Strider_03_04Kazakh.mid', 'data/nesmdb_midi/train/193_Klax_00_01TitleScreen.mid', 'data/nesmdb_midi/train/325_SuperMarioWorld_02_03Overworld.mid', 'data/nesmdb_midi/train/154_HappilyEverAfter_09_10Ending.mid', 'data/nesmdb_midi/train/278_Renegade_07_08Mission22.mid', 'data/nesmdb_midi/train/123_Fire_nIce_13_14World8BoneCanyon.mid', 'data/nesmdb_midi/train/121_FireEmblemGaiden_02_03Story5Village.mid', 'data/nesmdb_midi/train/138_Gargoyle_sQuestII_19_20Ending.mid', 'data/nesmdb_midi/train/076_DonkeyKongCountry4_03_04BonusRoomBlitz.mid', 'data/nesmdb_midi/train/364_TwinCobra_09_10EndingJP.mid', 'data/nesmdb_midi/train/388_Wizards_amp_Warriors_11_12FireCaverns.mid', 'data/nesmdb_midi/train/091_DragonWarriorIV_16_17ArmsMerchantToruneko.mid', 'data/nesmdb_midi/train/386_Wizardry_KnightofDiamonds_TheSecondScenario_00_01KnightofDiamondsOpeningTheme.mid', 'data/nesmdb_midi/train/246_Mother_17_18QueenMarysCastle.mid', 'data/nesmdb_midi/train/260_Pac_Mania_07_08Congratulation.mid', 'data/nesmdb_midi/train/058_Contra_06_07WaterfallofBloodshedStage3.mid', 'data/nesmdb_midi/train/118_FinalFantasyII_01_02BattleTheme1.mid', 'data/nesmdb_midi/train/106_FamicomMukashiBanashi_ShinOnigashima_22_23NinthChapterFinalScene.mid', 'data/nesmdb_midi/train/199_Labyrinth_MaounoMeikyu_13_14RescuedToby.mid', 'data/nesmdb_midi/train/387_Wizardry_ProvingGroundsofTheMadOverlord_14_15Exterminated.mid', 'data/nesmdb_midi/train/246_Mother_37_38QueenMarysSong.mid', 'data/nesmdb_midi/train/232_MetalGear_09_10ReturnofFoxHounder.mid', 'data/nesmdb_midi/train/119_FinalFantasyIII_51_52TheDarkCrystals.mid', 'data/nesmdb_midi/train/284_RollingThunder_02_03BGM2.mid', 'data/nesmdb_midi/train/378_WaiWaiWorld2_SOS__ParsleyJou_39_40MagicalAction1.mid', 'data/nesmdb_midi/train/229_MegaMan6_01_02Opening.mid', 'data/nesmdb_midi/train/127_FlyingWarriors_21_22CaveofChaos.mid', 'data/nesmdb_midi/train/227_MegaMan4_13_14SkullManStage.mid', 'data/nesmdb_midi/train/174_ImageFight_04_05FlightovertheCityStage2.mid', 'data/nesmdb_midi/train/135_GanbareGoemonGaiden2_TenkanoZaih__04_05WorldThiefTournamentingame.mid', 'data/nesmdb_midi/train/053_ChoujinSentaiJetman_13_14FinalBoss.mid', 'data/nesmdb_midi/train/203_LegacyofTheWizard_09_10LyllWorzen.mid', 'data/nesmdb_midi/train/405_ZombieNation_13_14DelusionRound32WarPlant2.mid', 'data/nesmdb_midi/train/138_Gargoyle_sQuestII_12_13GazasCavern.mid', 'data/nesmdb_midi/train/087_DragonSpirit_TheNewLegend_17_18Ending.mid', 'data/nesmdb_midi/train/046_CastlevaniaIII_Dracula_sCurse_00_01Prelude.mid', 'data/nesmdb_midi/train/104_FamicomJumpII_Saikyono7_nin_11_12BraveMoving.mid', 'data/nesmdb_midi/train/193_Klax_01_02LedFut.mid', 'data/nesmdb_midi/train/398_Ys_AncientYsVanishedOmen_12_13TowerofTheShadowofDeath2.mid', 'data/nesmdb_midi/train/330_TMNetwork_LiveinPowerBowl_12_13InTheForest.mid', 'data/nesmdb_midi/train/061_DarkLord_05_06Battle.mid', 'data/nesmdb_midi/train/276_RadiaSenki_ReimeiHen_15_16UndergroundDwellingKhvat.mid', 'data/nesmdb_midi/train/160_HiryunoKenIII_5NinnoRyuSenshi_15_16TheJourney2.mid', 'data/nesmdb_midi/train/401_ZeldaII_TheAdventureofLink_01_02OverworldBGM.mid', 'data/nesmdb_midi/train/378_WaiWaiWorld2_SOS__ParsleyJou_21_22SweetsDance2.mid', 'data/nesmdb_midi/train/203_LegacyofTheWizard_11_12Dilgyos.mid', 'data/nesmdb_midi/train/090_DragonWarriorIII_17_18Jipang.mid', 'data/nesmdb_midi/train/335_TecmoCupSoccerGame_00_01OpeningCreditRoll.mid', 'data/nesmdb_midi/train/106_FamicomMukashiBanashi_ShinOnigashima_18_19SeventhChapterShinohara.mid', 'data/nesmdb_midi/train/137_GansoSaiyuuki_SuperMonkeyDaibouken_00_01TitleScreen.mid', 'data/nesmdb_midi/train/005_Abadox_TheDeadlyInnerWar_09_10Escape.mid', 'data/nesmdb_midi/train/089_DragonWarriorII_23_24DeadorAlive.mid', 'data/nesmdb_midi/train/050_ChaosWorld_19_20SettingOfffortheFinalBattle.mid', 'data/nesmdb_midi/train/008_AfterBurnerII_02_03RedOut.mid', 'data/nesmdb_midi/train/089_DragonWarriorII_14_15EndlessWorld.mid', 'data/nesmdb_midi/train/061_DarkLord_01_02Title.mid', 'data/nesmdb_midi/train/233_MetalMax_07_08MetallicShaker.mid', 'data/nesmdb_midi/train/255_NobunaganoYabou_BushouFuunroku_09_10AshikagasTheme.mid', 'data/nesmdb_midi/train/276_RadiaSenki_ReimeiHen_05_06UnknownVillageElfas.mid', 'data/nesmdb_midi/train/199_Labyrinth_MaounoMeikyu_12_13Castle.mid', 'data/nesmdb_midi/train/224_MegaMan_07_08ElecmanStage.mid', 'data/nesmdb_midi/train/367_Ultima_Exodus_01_02TheHeroesJourney.mid', 'data/nesmdb_midi/train/250_NinjaGaiden_18_19Requiem.mid', 'data/nesmdb_midi/train/314_SummerCarnival_92_Recca_17_18ThrobbinYouUnused.mid', 'data/nesmdb_midi/train/312_Stinger_16_17StaffRoll.mid', 'data/nesmdb_midi/train/064_DeepDungeonII_YuushinoMonshou_10_11DungeonFloor4.mid', 'data/nesmdb_midi/train/284_RollingThunder_00_01StartBGM1.mid', 'data/nesmdb_midi/train/199_Labyrinth_MaounoMeikyu_10_11ChillyDown.mid', 'data/nesmdb_midi/train/082_Dr_Mario_07_08Level20Clear.mid', 'data/nesmdb_midi/train/215_Magician_09_10PuzzleRoom.mid', 'data/nesmdb_midi/train/378_WaiWaiWorld2_SOS__ParsleyJou_05_06RickleShooterGO1.mid', 'data/nesmdb_midi/train/036_BombermanII_02_03SelectGameMode.mid', 'data/nesmdb_midi/train/405_ZombieNation_19_20LovePeaceCreditRoll.mid', 'data/nesmdb_midi/train/032_BioSenshiDan_IncreasertonoTatakai_07_08Stage52.mid', 'data/nesmdb_midi/train/042_CaptainTsubasaVol_II_SuperStriker_32_33CycloneLearning.mid', 'data/nesmdb_midi/train/378_WaiWaiWorld2_SOS__ParsleyJou_19_20FightingJungle2.mid', 'data/nesmdb_midi/train/139_GenpeiToumaden_ComputerBoardgame_17_18Unknown6.mid', 'data/nesmdb_midi/train/255_NobunaganoYabou_BushouFuunroku_03_04TheWickedGodsFirstVolumeOdasTheme.mid', 'data/nesmdb_midi/train/110_Famista_93_15_16Unknown1.mid', 'data/nesmdb_midi/train/368_Ultima_QuestoftheAvatar_08_09Sailing.mid', 'data/nesmdb_midi/train/311_StarshipHector_04_05History246.mid', 'data/nesmdb_midi/train/276_RadiaSenki_ReimeiHen_25_26WaterTower.mid', 'data/nesmdb_midi/train/232_MetalGear_01_02JungleInfiltration.mid', 'data/nesmdb_midi/train/277_RainbowIslands_TheStoryofBubbleBobble2_14_15BubbleBobbleIslandBGM.mid', 'data/nesmdb_midi/train/226_MegaMan3_17_18DrWilyStage1.mid', 'data/nesmdb_midi/train/077_DonkeyKongJr__13_14Stage3BGMVariation3.mid', 'data/nesmdb_midi/train/254_Nobunaga_sAmbitionII_15_16ToDistantFriendsUnification.mid', 'data/nesmdb_midi/train/011_Aliens_Alien2_05_06Stage4.mid', 'data/nesmdb_midi/train/157_HikariShinwa_PalutenanoKagami_04_05Labyrinth.mid', 'data/nesmdb_midi/train/156_HigemaruMakaijima_NanatsunoShimaDaibouken_08_09DokuroIsland.mid', 'data/nesmdb_midi/train/138_Gargoyle_sQuestII_02_03Mansion.mid', 'data/nesmdb_midi/train/342_TheFlintstones_TheSurpriseatDinosaurPeak__11_12InsideDinosaurPeak.mid', 'data/nesmdb_midi/train/050_ChaosWorld_18_19SaradisCastleintheSky.mid', 'data/nesmdb_midi/train/162_HiryunoKenSpecial_FightingWars_11_12Unused1.mid', 'data/nesmdb_midi/train/215_Magician_03_04Wilderness.mid', 'data/nesmdb_midi/train/385_WizardryII_LlylgamynnoIsan_06_07AnnihilationRequiem.mid', 'data/nesmdb_midi/train/138_Gargoyle_sQuestII_13_14DesertedRuins.mid', 'data/nesmdb_midi/train/204_Lemmings_05_06Tim6.mid', 'data/nesmdb_midi/train/348_TheLegendofZelda_14_15EndingTheme.mid', 'data/nesmdb_midi/train/233_MetalMax_37_38StaffRollShortVer.mid', 'data/nesmdb_midi/train/227_MegaMan4_07_08ToadManStage.mid', 'data/nesmdb_midi/train/397_YsII_AncientYsVanishedTheFinalChapter_16_17PalaceofSalmon.mid', 'data/nesmdb_midi/train/155_HeraclesnoEikouII_TitannoMetsubou_03_04TheWindBlowsinThewilderness.mid', 'data/nesmdb_midi/train/126_FlyingHero_01_02MainBGM.mid', 'data/nesmdb_midi/train/119_FinalFantasyIII_57_58TheEverlastingWorld3.mid', 'data/nesmdb_midi/train/396_YsIII_WanderersfromYs_07_08TheBoysGotWings.mid', 'data/nesmdb_midi/train/226_MegaMan3_23_24CreditRoll.mid', 'data/nesmdb_midi/train/185_KickMaster_00_01TitleOpeningScroll.mid', 'data/nesmdb_midi/train/359_Town_amp_CountrySurfDesigns_Wood_amp_WaterRage_01_02InGame.mid', 'data/nesmdb_midi/train/325_SuperMarioWorld_06_07Underworld.mid', 'data/nesmdb_midi/train/278_Renegade_15_16TheNekketsuStalwart2.mid', 'data/nesmdb_midi/train/058_Contra_07_08FortressofIceStage5.mid', 'data/nesmdb_midi/train/139_GenpeiToumaden_ComputerBoardgame_05_06ThemeofYoshitsune.mid', 'data/nesmdb_midi/train/053_ChoujinSentaiJetman_09_10Boss.mid', 'data/nesmdb_midi/train/384_Wit_s_01_02Opening.mid', 'data/nesmdb_midi/train/003_720__00_01TitleScreenRampSlalomTheme.mid', 'data/nesmdb_midi/train/123_Fire_nIce_14_15World9Volcano.mid', 'data/nesmdb_midi/train/336_TenchioKurauII_ShokatsuKoumeiDen_19_20Mountain.mid', 'data/nesmdb_midi/train/120_FinalMission_01_02Stage1.mid', 'data/nesmdb_midi/train/188_KidouSenshiZ_Gundam_HotScramble_04_05HoshizoranoBelieveGameOver.mid', 'data/nesmdb_midi/train/179_JourneytoSilius_04_05Stage3.mid', 'data/nesmdb_midi/train/387_Wizardry_ProvingGroundsofTheMadOverlord_06_07TempleofCant.mid', 'data/nesmdb_midi/train/039_BuraiFighter_05_06Stage4.mid', 'data/nesmdb_midi/train/254_Nobunaga_sAmbitionII_07_08EndingDeath.mid', 'data/nesmdb_midi/train/036_BombermanII_09_10BonusStageVSCompetitionBGM.mid', 'data/nesmdb_midi/train/134_GanbareGoemon2_19_20GoemonPathosofJourneyEending.mid', 'data/nesmdb_midi/train/060_CrisisForce_02_03Stage16.mid', 'data/nesmdb_midi/train/378_WaiWaiWorld2_SOS__ParsleyJou_00_01Opening.mid', 'data/nesmdb_midi/train/313_Strider_00_01Opening.mid', 'data/nesmdb_midi/train/165_HolyDiver_12_13Ending.mid', 'data/nesmdb_midi/train/388_Wizards_amp_Warriors_12_13InnerCastle.mid', 'data/nesmdb_midi/train/283_Robocop_06_07Ending.mid', 'data/nesmdb_midi/train/341_TheFlintstones_TheRescueofDino_amp_Hoppy_09_10DrButlersLaboratory.mid', 'data/nesmdb_midi/train/254_Nobunaga_sAmbitionII_08_09BecauseIamNearSuccessorSelection.mid', 'data/nesmdb_midi/train/174_ImageFight_08_09OrganicZoneStage5.mid', 'data/nesmdb_midi/train/327_SuperStarForce_JikuurekinoHimitsu_09_10SupremeRulerofSpaceTimeFin.mid', 'data/nesmdb_midi/train/313_Strider_09_10Africa.mid', 'data/nesmdb_midi/train/159_HinoToriHououhen_GaounoBouken_05_06Boss.mid', 'data/nesmdb_midi/train/031_BioMiracleBokutteUpa_00_01Overworld.mid', 'data/nesmdb_midi/train/042_CaptainTsubasaVol_II_SuperStriker_37_38LastScene.mid', 'data/nesmdb_midi/train/072_DonDokoDon_03_04SweetLand.mid', 'data/nesmdb_midi/train/266_PoolofRadiance_18_19TyranthraxusLair.mid', 'data/nesmdb_midi/train/189_KingKong2_IkarinoMegatonPunch_03_04BGM4.mid', 'data/nesmdb_midi/train/027_Batman_TheVideoGame_01_02OpeningCreditRoll.mid', 'data/nesmdb_midi/train/287_S_C_A_T__SpecialCyberneticAttackTeam_05_06Stage2.mid', 'data/nesmdb_midi/train/140_GetsuFuumaDen_01_02Storytellers.mid', 'data/nesmdb_midi/train/118_FinalFantasyII_06_07MainTheme.mid', 'data/nesmdb_midi/train/366_Ufouria_TheSaga_04_05HebeintheColdArea.mid', 'data/nesmdb_midi/train/121_FireEmblemGaiden_11_12Encounter.mid', 'data/nesmdb_midi/train/364_TwinCobra_05_06OurLife.mid', 'data/nesmdb_midi/train/139_GenpeiToumaden_ComputerBoardgame_09_10Ending.mid', 'data/nesmdb_midi/train/083_DraculaII_NoroinoFuuin_08_09ARequiemEnding.mid', 'data/nesmdb_midi/train/246_Mother_33_34MtItoi.mid', 'data/nesmdb_midi/train/340_Tetris_04_05Celebration1.mid', 'data/nesmdb_midi/train/378_WaiWaiWorld2_SOS__ParsleyJou_07_08RickleShooterGO3.mid', 'data/nesmdb_midi/train/213_MachRider_05_06MainBGM2.mid', 'data/nesmdb_midi/train/046_CastlevaniaIII_Dracula_sCurse_18_19Overture.mid', 'data/nesmdb_midi/train/032_BioSenshiDan_IncreasertonoTatakai_04_05Stage3.mid', 'data/nesmdb_midi/train/366_Ufouria_TheSaga_05_06HebeUnderground.mid', 'data/nesmdb_midi/train/172_IkariWarriorsII_VictoryRoad_02_03CruelKillersArea2.mid', 'data/nesmdb_midi/train/328_SuperXevious_GAMPnoNazo_16_17Ending.mid', 'data/nesmdb_midi/train/034_BlasterMaster_07_08Area8.mid', 'data/nesmdb_midi/train/157_HikariShinwa_PalutenanoKagami_02_03TheOverworld.mid', 'data/nesmdb_midi/train/133_GallForce_EternalStory_00_01TitleBGM.mid', 'data/nesmdb_midi/train/036_BombermanII_06_07Area24.mid', 'data/nesmdb_midi/train/026_Batman_ReturnofTheJoker_04_05HighAboveandDeepBelowStage2151.mid', 'data/nesmdb_midi/train/317_SuperC_09_10HotterThanHellArea6.mid', 'data/nesmdb_midi/train/397_YsII_AncientYsVanishedTheFinalChapter_07_08RuinsofMoondoria.mid', 'data/nesmdb_midi/train/089_DragonWarriorII_07_08Town.mid', 'data/nesmdb_midi/train/090_DragonWarriorIII_16_17Sailing.mid', 'data/nesmdb_midi/train/289_SaintSeiya_OugonDensetsuKanketsuHen_10_11Ending.mid', 'data/nesmdb_midi/train/380_WaronWheels_10_11ResultsTheme.mid', 'data/nesmdb_midi/train/046_CastlevaniaIII_Dracula_sCurse_16_17Riddle.mid', 'data/nesmdb_midi/train/091_DragonWarriorIV_27_28ExpandingtheSeaMap.mid', 'data/nesmdb_midi/train/106_FamicomMukashiBanashi_ShinOnigashima_14_15FifthChapterOgresGateKeeper.mid', 'data/nesmdb_midi/train/061_DarkLord_13_14CursedOrb.mid', 'data/nesmdb_midi/train/276_RadiaSenki_ReimeiHen_38_39GameOver.mid', 'data/nesmdb_midi/train/225_MegaMan2_08_09QuickManStage.mid', 'data/nesmdb_midi/train/225_MegaMan2_24_25CreditRoll.mid', 'data/nesmdb_midi/train/149_GreenBeret_15_16LastBossBattlewithintro.mid', 'data/nesmdb_midi/train/148_GradiusII_04_05FortressStage2.mid', 'data/nesmdb_midi/train/277_RainbowIslands_TheStoryofBubbleBobble2_12_13DariusIslandBGM.mid', 'data/nesmdb_midi/train/045_Castlevania_05_06HeartofFire.mid', 'data/nesmdb_midi/train/106_FamicomMukashiBanashi_ShinOnigashima_02_03FirstChapterOnthePathtotheMountain.mid', 'data/nesmdb_midi/train/020_Athena_03_04WorldofForestStage1Ending.mid', 'data/nesmdb_midi/train/370_ValkyrienoBouken_TokinoKagiDensetsu_06_07BGMBUnderground.mid', 'data/nesmdb_midi/train/153_Gyromite_08_09GameBBGM.mid', 'data/nesmdb_midi/train/064_DeepDungeonII_YuushinoMonshou_05_06TowerFloor3.mid', 'data/nesmdb_midi/train/336_TenchioKurauII_ShokatsuKoumeiDen_20_21YamataiKingdom.mid', 'data/nesmdb_midi/train/228_MegaMan5_00_01Opening.mid', 'data/nesmdb_midi/train/066_DestinyofanEmperor_14_15Fortress.mid', 'data/nesmdb_midi/train/191_Kirby_sAdventure_15_16CraneFever.mid', 'data/nesmdb_midi/train/385_WizardryII_LlylgamynnoIsan_07_08TempleofCantII.mid', 'data/nesmdb_midi/train/117_FinalFantasy_00_01Prelude.mid', 'data/nesmdb_midi/train/254_Nobunaga_sAmbitionII_11_12AncientEyesOthersCommand.mid', 'data/nesmdb_midi/train/031_BioMiracleBokutteUpa_08_09Climbing.mid', 'data/nesmdb_midi/train/255_NobunaganoYabou_BushouFuunroku_00_01EleganceOpening.mid', 'data/nesmdb_midi/train/364_TwinCobra_04_05Tsugaru.mid', 'data/nesmdb_midi/train/229_MegaMan6_10_11PlantManStage.mid', 'data/nesmdb_midi/train/228_MegaMan5_23_24Ending.mid', 'data/nesmdb_midi/train/386_Wizardry_KnightofDiamonds_TheSecondScenario_03_04AdventurersInnIII.mid', 'data/nesmdb_midi/train/334_Target_Renegade_06_07ThePigPenStage7.mid', 'data/nesmdb_midi/train/405_ZombieNation_16_17CreamZoneRound4Boss.mid', 'data/nesmdb_midi/train/034_BlasterMaster_03_04Area4.mid', 'data/nesmdb_midi/train/396_YsIII_WanderersfromYs_06_07PreludetoTheAdventure.mid', 'data/nesmdb_midi/train/151_Gumshoe_00_01Intro.mid', 'data/nesmdb_midi/train/111_FantasyZone_05_06KeepOnTheBeat.mid', 'data/nesmdb_midi/train/383_Wily_amp_RightnoRockBoard_That_sParadise_05_06Megalopolis.mid', 'data/nesmdb_midi/train/378_WaiWaiWorld2_SOS__ParsleyJou_18_19FightingJungle1.mid', 'data/nesmdb_midi/train/161_HiryunoKenII_DragonnoTsubasa_25_26Daimajin.mid', 'data/nesmdb_midi/train/135_GanbareGoemonGaiden2_TenkanoZaih__05_06TownofOedo.mid', 'data/nesmdb_midi/train/051_ChesterField_EpisodeIIAnkokuShinenoChousen_00_01Title.mid', 'data/nesmdb_midi/train/345_TheGuardianLegend_26_27Ending.mid', 'data/nesmdb_midi/train/233_MetalMax_20_21BattlewiththeWanted.mid', 'data/nesmdb_midi/train/325_SuperMarioWorld_08_09HauntedHouse.mid', 'data/nesmdb_midi/train/055_CircusCaper_14_08bStage5.mid', 'data/nesmdb_midi/train/340_Tetris_01_02Technotris.mid', 'data/nesmdb_midi/train/278_Renegade_03_04Mission11.mid', 'data/nesmdb_midi/train/276_RadiaSenki_ReimeiHen_13_14ElfasCastle.mid', 'data/nesmdb_midi/train/135_GanbareGoemonGaiden2_TenkanoZaih__89_90HopeMountain.mid', 'data/nesmdb_midi/train/087_DragonSpirit_TheNewLegend_05_06ThePaleozoicEraArea1.mid', 'data/nesmdb_midi/train/195_KonamiWaiWaiWorld_09_10KongBGM.mid', 'data/nesmdb_midi/train/192_KiwiKraze_08_09EntranceofHeaven.mid', 'data/nesmdb_midi/train/121_FireEmblemGaiden_28_29BattleMap5LastMAPBGMPlayerSide.mid', 'data/nesmdb_midi/train/123_Fire_nIce_08_09World3GoldenCastle.mid', 'data/nesmdb_midi/train/007_AfterBurner_02_03RedOut.mid', 'data/nesmdb_midi/train/240_Milon_sSecretCastle_18_19BonusStageMusicalInstrument15.mid', 'data/nesmdb_midi/train/276_RadiaSenki_ReimeiHen_19_20Lusicadied.mid', 'data/nesmdb_midi/train/298_SolarJetman_HuntfortheGoldenWarpship_26_27ShammyGenGameplay.mid', 'data/nesmdb_midi/train/245_MoonCrystal_14_15Credits.mid', 'data/nesmdb_midi/train/266_PoolofRadiance_17_18StojanowGateValjevoCastle.mid', 'data/nesmdb_midi/train/151_Gumshoe_01_02Stage1.mid', 'data/nesmdb_midi/train/383_Wily_amp_RightnoRockBoard_That_sParadise_04_05SandContinent.mid', 'data/nesmdb_midi/train/082_Dr_Mario_09_10VsModeClear.mid', 'data/nesmdb_midi/train/161_HiryunoKenII_DragonnoTsubasa_03_04Talk.mid', 'data/nesmdb_midi/train/348_TheLegendofZelda_00_01TitleBGM.mid', 'data/nesmdb_midi/train/367_Ultima_Exodus_09_10TheReturnoftheChampions.mid', 'data/nesmdb_midi/train/025_BatmanReturns_05_06GothamPlazaStage1.mid', 'data/nesmdb_midi/train/266_PoolofRadiance_09_10DungeonTheme1.mid', 'data/nesmdb_midi/train/042_CaptainTsubasaVol_II_SuperStriker_34_35BrazilGameMeeting.mid', 'data/nesmdb_midi/train/278_Renegade_04_05Mission12.mid', 'data/nesmdb_midi/train/344_TheGooniesII_04_05IceCavernTheme.mid', 'data/nesmdb_midi/train/081_Dr_JekyllandMr_Hyde_02_03DrJekyllStage.mid', 'data/nesmdb_midi/train/191_Kirby_sAdventure_06_07Boss.mid', 'data/nesmdb_midi/train/089_DragonWarriorII_00_01Overture.mid', 'data/nesmdb_midi/train/294_SidePocket_06_07PointsCalculationTrickShot.mid', 'data/nesmdb_midi/train/119_FinalFantasyIII_12_13CuteLittleTozas.mid', 'data/nesmdb_midi/train/196_KujakuOu_05_06LocationBGM2.mid', 'data/nesmdb_midi/train/325_SuperMarioWorld_04_05Fortress.mid', 'data/nesmdb_midi/train/163_HittheIce_00_01TitleScreenCharacterSelect.mid', 'data/nesmdb_midi/train/151_Gumshoe_02_03DiamondAppears.mid', 'data/nesmdb_midi/train/134_GanbareGoemon2_06_07KarakuriPuppetBoss.mid', 'data/nesmdb_midi/train/255_NobunaganoYabou_BushouFuunroku_05_06TheWorthyTigerFirstVolumeTakedasTheme.mid', 'data/nesmdb_midi/train/149_GreenBeret_21_22Ending.mid', 'data/nesmdb_midi/train/093_DuckTales_04_05AfricanMines.mid', 'data/nesmdb_midi/train/228_MegaMan5_12_13CrystalManStage.mid', 'data/nesmdb_midi/train/282_RoboWarrior_02_03Underground.mid', 'data/nesmdb_midi/train/335_TecmoCupSoccerGame_22_23TeamTopsJrJPVer.mid', 'data/nesmdb_midi/train/160_HiryunoKenIII_5NinnoRyuSenshi_13_14CrimsonEvilStar.mid', 'data/nesmdb_midi/train/251_NinjaHattori_kun_01_02Main.mid', 'data/nesmdb_midi/train/096_ExcitingBasket_03_04HalfTime.mid', 'data/nesmdb_midi/train/386_Wizardry_KnightofDiamonds_TheSecondScenario_09_10DungeonofFear.mid', 'data/nesmdb_midi/train/276_RadiaSenki_ReimeiHen_09_10Encounter.mid', 'data/nesmdb_midi/train/366_Ufouria_TheSaga_09_10HereComesUnyohnFinalBoss.mid', 'data/nesmdb_midi/train/235_Metroid_02_03Brinstar.mid', 'data/nesmdb_midi/train/267_Pooyan_00_01Title.mid', 'data/nesmdb_midi/train/091_DragonWarriorIV_02_03Minuet.mid', 'data/nesmdb_midi/train/367_Ultima_Exodus_03_04VoyagetoTheUnknown.mid', 'data/nesmdb_midi/train/064_DeepDungeonII_YuushinoMonshou_17_18Ending.mid', 'data/nesmdb_midi/train/291_ShadowoftheNinja_05_06Stage2.mid', 'data/nesmdb_midi/train/162_HiryunoKenSpecial_FightingWars_16_17Unused6.mid', 'data/nesmdb_midi/train/005_Abadox_TheDeadlyInnerWar_04_05Stage3.mid', 'data/nesmdb_midi/train/335_TecmoCupSoccerGame_06_07NewscastJPVer.mid', 'data/nesmdb_midi/train/396_YsIII_WanderersfromYs_22_23Behold.mid', 'data/nesmdb_midi/train/398_Ys_AncientYsVanishedOmen_17_18TheLastMomentofTheDark.mid', 'data/nesmdb_midi/train/080_DoubleDribble_06_07HalfTime.mid', 'data/nesmdb_midi/train/367_Ultima_Exodus_08_09TheEternalCastleBritannia.mid', 'data/nesmdb_midi/train/336_TenchioKurauII_ShokatsuKoumeiDen_05_06Town.mid', 'data/nesmdb_midi/train/224_MegaMan_02_03CutmanStage.mid', 'data/nesmdb_midi/train/027_Batman_TheVideoGame_04_05Stage2.mid', 'data/nesmdb_midi/train/385_WizardryII_LlylgamynnoIsan_02_03GilgameshsTavernII.mid', 'data/nesmdb_midi/train/246_Mother_22_23Snowman.mid', 'data/nesmdb_midi/train/215_Magician_07_08CaveRoom.mid', 'data/nesmdb_midi/train/204_Lemmings_07_08Tim9.mid', 'data/nesmdb_midi/train/220_MarbleMadness_01_02Level2.mid', 'data/nesmdb_midi/train/219_Mappy_00_01Main.mid', 'data/nesmdb_midi/train/311_StarshipHector_01_02History1.mid', 'data/nesmdb_midi/train/009_AighinanoYogen_BalubalouknoDensetsuYori_00_01OpeningShopTalk.mid', 'data/nesmdb_midi/train/066_DestinyofanEmperor_06_07Battle.mid', 'data/nesmdb_midi/train/042_CaptainTsubasaVol_II_SuperStriker_04_05MainBGM.mid', 'data/nesmdb_midi/train/106_FamicomMukashiBanashi_ShinOnigashima_23_24Ending.mid', 'data/nesmdb_midi/train/339_Tetris_02_03Bradinsky.mid', 'data/nesmdb_midi/train/225_MegaMan2_05_06MetalManStage.mid', 'data/nesmdb_midi/train/268_PowerBlade2_11_12Cutscene1.mid', 'data/nesmdb_midi/train/350_TheMafatConspiracy_12_13InAfghanistanAct51.mid', 'data/nesmdb_midi/train/255_NobunaganoYabou_BushouFuunroku_23_24Function.mid', 'data/nesmdb_midi/train/044_CastleofDragon_12_13Ending.mid', 'data/nesmdb_midi/train/312_Stinger_03_04MainBGM.mid', 'data/nesmdb_midi/train/091_DragonWarriorIV_34_35WagonWheelsMarch.mid', 'data/nesmdb_midi/train/126_FlyingHero_00_01TitleScreen.mid', 'data/nesmdb_midi/train/229_MegaMan6_12_13WindManStage.mid', 'data/nesmdb_midi/train/378_WaiWaiWorld2_SOS__ParsleyJou_06_07RickleShooterGO2.mid', 'data/nesmdb_midi/train/201_LanMaster_00_01Title.mid', 'data/nesmdb_midi/train/371_VegasDream_15_16EndingTheme.mid', 'data/nesmdb_midi/train/321_SuperLodeRunner_05_06Unknown3.mid', 'data/nesmdb_midi/train/087_DragonSpirit_TheNewLegend_08_09VolcanoArea2.mid', 'data/nesmdb_midi/train/051_ChesterField_EpisodeIIAnkokuShinenoChousen_12_13HolyWater.mid', 'data/nesmdb_midi/train/304_SpaceHunter_01_02Dungeon.mid', 'data/nesmdb_midi/train/042_CaptainTsubasaVol_II_SuperStriker_13_14RumorisTrue.mid', 'data/nesmdb_midi/train/305_SpartanX2_11_12Ending.mid', 'data/nesmdb_midi/train/170_IkariIII_TheRescue_14_15Unused1.mid', 'data/nesmdb_midi/train/405_ZombieNation_06_07ExodusRound12NewYork2.mid', 'data/nesmdb_midi/train/284_RollingThunder_04_05Congratulations.mid', 'data/nesmdb_midi/train/127_FlyingWarriors_24_25AngelsTears.mid', 'data/nesmdb_midi/train/011_Aliens_Alien2_03_04Boss.mid', 'data/nesmdb_midi/train/050_ChaosWorld_03_04PeacefulTown.mid', 'data/nesmdb_midi/train/203_LegacyofTheWizard_06_07XemnWorzen.mid', 'data/nesmdb_midi/train/186_KidIcarus_02_03TheOverworld.mid', 'data/nesmdb_midi/train/191_Kirby_sAdventure_24_25BlackandWhitePlainsLevel.mid', 'data/nesmdb_midi/train/351_ThePandaPrince_13_14AquaticAmbiencefastunused.mid', 'data/nesmdb_midi/train/050_ChaosWorld_08_09WelcometotheVillage.mid', 'data/nesmdb_midi/train/350_TheMafatConspiracy_09_10InVeneziaAct3.mid', 'data/nesmdb_midi/train/151_Gumshoe_08_09FinalStage.mid', 'data/nesmdb_midi/train/032_BioSenshiDan_IncreasertonoTatakai_02_03Stage1.mid', 'data/nesmdb_midi/train/093_DuckTales_05_06TheHimalayas.mid', 'data/nesmdb_midi/train/206_LifeForce_01_02PowerofAnger.mid', 'data/nesmdb_midi/train/066_DestinyofanEmperor_17_18Luoyang.mid', 'data/nesmdb_midi/train/122_FireEmblem_AnkokuRyutoHikarinoTsurugi_07_08Story5Encounter.mid', 'data/nesmdb_midi/train/289_SaintSeiya_OugonDensetsuKanketsuHen_01_02Opening.mid', 'data/nesmdb_midi/train/226_MegaMan3_08_09TopManStage.mid', 'data/nesmdb_midi/train/334_Target_Renegade_08_09NameEntry.mid', 'data/nesmdb_midi/train/156_HigemaruMakaijima_NanatsunoShimaDaibouken_02_03PirateShipGhostShip.mid', 'data/nesmdb_midi/train/076_DonkeyKongCountry4_09_10FearFactory.mid', 'data/nesmdb_midi/train/005_Abadox_TheDeadlyInnerWar_08_09Rescued.mid', 'data/nesmdb_midi/train/147_Gradius_07_08MechanicalGlobule.mid', 'data/nesmdb_midi/train/091_DragonWarriorIV_32_33CursedTower.mid', 'data/nesmdb_midi/train/395_YoukaiDouchuuki_05_06UpperRegionElysium.mid', 'data/nesmdb_midi/train/317_SuperC_03_04InATightSqueezeArea2.mid', 'data/nesmdb_midi/train/060_CrisisForce_07_08Stage4.mid', 'data/nesmdb_midi/train/227_MegaMan4_20_21DrCossackStage2.mid', 'data/nesmdb_midi/train/392_Yo_Noid_14_15AlleyWildWest.mid', 'data/nesmdb_midi/train/121_FireEmblemGaiden_10_11BattleMap7FightMapBGM2CP.mid', 'data/nesmdb_midi/test/338_TerraCresta_06_07Mandler.mid', 'data/nesmdb_midi/test/286_Rygar_06_07Garloz.mid', 'data/nesmdb_midi/test/286_Rygar_02_03GranMountains.mid', 'data/nesmdb_midi/test/037_BoobyKids_07_08BoobyMarch.mid', 'data/nesmdb_midi/test/071_DigitalDevilStory_MegamiTensei_16_17AnfiniAnfiniPalace.mid', 'data/nesmdb_midi/test/002_1943_TheBattleofMidway_03_04AirBattleA.mid', 'data/nesmdb_midi/test/265_PokerJ_ngl_ng_00_01AVPokerTitleScreen.mid', 'data/nesmdb_midi/test/214_MadoolanoTsubasa_00_01Title.mid', 'data/nesmdb_midi/test/265_PokerJ_ngl_ng_04_05AVPokerMainBGM1.mid', 'data/nesmdb_midi/test/241_MiracleRopit_sAdventurein2100_07_08ThemeofBonusZone.mid', 'data/nesmdb_midi/test/013_AlterEgo_05_06Level4.mid', 'data/nesmdb_midi/test/038_BubbleBobble_00_01IntroductionMainTheme.mid', 'data/nesmdb_midi/test/361_Transformers_ConvoynoNazo_06_07Ending.mid', 'data/nesmdb_midi/test/286_Rygar_14_15Lapis.mid', 'data/nesmdb_midi/test/085_DragonBusterII_YaminoFuuin_09_10LakeShoreRound5.mid', 'data/nesmdb_midi/test/116_FelixtheCat_12_13Ending.mid', 'data/nesmdb_midi/test/194_KnightMove_02_03Train.mid', 'data/nesmdb_midi/test/071_DigitalDevilStory_MegamiTensei_19_20RecollectionsEnding.mid', 'data/nesmdb_midi/test/286_Rygar_04_05IndoraGod.mid', 'data/nesmdb_midi/test/116_FelixtheCat_06_07UnderwaterPlanet.mid', 'data/nesmdb_midi/test/145_Golgo13_TopSecretEpisode_19_20ActionStage3LastBoss.mid', 'data/nesmdb_midi/test/379_WardnernoMori_01_02MainTheme.mid', 'data/nesmdb_midi/test/071_DigitalDevilStory_MegamiTensei_06_07VienVienCity.mid', 'data/nesmdb_midi/test/286_Rygar_17_18SkyCastle.mid', 'data/nesmdb_midi/test/286_Rygar_05_06IndoraGodJPVersion.mid', 'data/nesmdb_midi/test/194_KnightMove_03_04HorseMan.mid', 'data/nesmdb_midi/test/241_MiracleRopit_sAdventurein2100_04_05ThemeofMaritime.mid', 'data/nesmdb_midi/test/338_TerraCresta_08_09MarchingRaster.mid', 'data/nesmdb_midi/test/145_Golgo13_TopSecretEpisode_07_08ActionStage2.mid', 'data/nesmdb_midi/test/124_FleetCommander_01_02Ending.mid', 'data/nesmdb_midi/test/241_MiracleRopit_sAdventurein2100_00_01ThemeofMiracleRopittitlescreenversion.mid', 'data/nesmdb_midi/test/241_MiracleRopit_sAdventurein2100_03_04ThemeoftheEnemyBaseandCave.mid', 'data/nesmdb_midi/test/242_MississippiSatsujinJiken_00_01MainTheme.mid', 'data/nesmdb_midi/test/037_BoobyKids_06_07BoobyCastleTown.mid', 'data/nesmdb_midi/test/286_Rygar_11_12SagilasCaveJPVersion.mid', 'data/nesmdb_midi/test/338_TerraCresta_04_05Tubo.mid', 'data/nesmdb_midi/test/085_DragonBusterII_YaminoFuuin_01_02Demo.mid', 'data/nesmdb_midi/test/286_Rygar_13_14DoragosPalaceJPVersion.mid', 'data/nesmdb_midi/test/013_AlterEgo_01_02Level1.mid', 'data/nesmdb_midi/test/071_DigitalDevilStory_MegamiTensei_17_18LastBattleLastBoss.mid', 'data/nesmdb_midi/test/116_FelixtheCat_04_05Mountains.mid', 'data/nesmdb_midi/test/002_1943_TheBattleofMidway_09_10AirBattleD.mid', 'data/nesmdb_midi/test/037_BoobyKids_02_03BoobySamba.mid', 'data/nesmdb_midi/test/002_1943_TheBattleofMidway_08_09AntishipBattleC.mid', 'data/nesmdb_midi/test/389_WreckingCrew_00_01StartPhaseBGM.mid', 'data/nesmdb_midi/test/145_Golgo13_TopSecretEpisode_13_14CherryGrace.mid', 'data/nesmdb_midi/test/116_FelixtheCat_00_01TitleScreen.mid', 'data/nesmdb_midi/test/214_MadoolanoTsubasa_02_03MainAboveground.mid', 'data/nesmdb_midi/test/286_Rygar_01_02StartingPointSunsetJPVersion.mid', 'data/nesmdb_midi/test/241_MiracleRopit_sAdventurein2100_06_07ThemeoftheOldCastleandLake.mid', 'data/nesmdb_midi/test/037_BoobyKids_08_09WildStreet.mid', 'data/nesmdb_midi/test/286_Rygar_07_08ErugasForest.mid', 'data/nesmdb_midi/test/286_Rygar_10_11SagilasCave.mid', 'data/nesmdb_midi/test/002_1943_TheBattleofMidway_13_14Ending.mid', 'data/nesmdb_midi/test/194_KnightMove_00_01MenuOption.mid', 'data/nesmdb_midi/test/071_DigitalDevilStory_MegamiTensei_10_11PowerAttackBoss.mid', 'data/nesmdb_midi/test/038_BubbleBobble_02_03SecretRoom.mid', 'data/nesmdb_midi/test/002_1943_TheBattleofMidway_07_08AirBattleC.mid', 'data/nesmdb_midi/test/194_KnightMove_07_08Congratulations.mid', 'data/nesmdb_midi/test/389_WreckingCrew_02_03BonusStage.mid', 'data/nesmdb_midi/test/071_DigitalDevilStory_MegamiTensei_13_14HellfireCorrodingSeaofFlames.mid', 'data/nesmdb_midi/test/194_KnightMove_06_07ChampionScore.mid', 'data/nesmdb_midi/test/158_HikarinoSenshiPhoton_WakuseiZoldiasnoTatakai_18_19Area42.mid', 'data/nesmdb_midi/test/037_BoobyKids_05_06FunnyDragon.mid', 'data/nesmdb_midi/test/038_BubbleBobble_05_06RealEnding.mid', 'data/nesmdb_midi/test/013_AlterEgo_06_07Level5.mid', 'data/nesmdb_midi/test/290_Seicross_03_04BGM2.mid', 'data/nesmdb_midi/test/145_Golgo13_TopSecretEpisode_20_21Ending.mid', 'data/nesmdb_midi/test/272_Quarth_01_02TheThemeofQuarth.mid', 'data/nesmdb_midi/test/237_MightyBombJack_03_04ThroneRoom.mid', 'data/nesmdb_midi/test/158_HikarinoSenshiPhoton_WakuseiZoldiasnoTatakai_09_10Area23.mid', 'data/nesmdb_midi/test/338_TerraCresta_09_10EditMode.mid', 'data/nesmdb_midi/test/085_DragonBusterII_YaminoFuuin_03_04ForestRound12.mid', 'data/nesmdb_midi/test/338_TerraCresta_05_06Dycoon.mid', 'data/nesmdb_midi/test/071_DigitalDevilStory_MegamiTensei_14_15IzanamiBurialChamberofIzanami.mid', 'data/nesmdb_midi/test/071_DigitalDevilStory_MegamiTensei_02_03MicomStartingMicomCity.mid', 'data/nesmdb_midi/test/071_DigitalDevilStory_MegamiTensei_09_10ValhallaValhallaCorridor.mid', 'data/nesmdb_midi/test/338_TerraCresta_01_02ThemeofTerracresta.mid', 'data/nesmdb_midi/test/116_FelixtheCat_05_06Islands.mid', 'data/nesmdb_midi/test/241_MiracleRopit_sAdventurein2100_01_02ThemeofMiracleRopitstageversion.mid', 'data/nesmdb_midi/test/013_AlterEgo_03_04Level2Alternate.mid', 'data/nesmdb_midi/test/085_DragonBusterII_YaminoFuuin_05_06DragonMountainClearDemo.mid', 'data/nesmdb_midi/test/116_FelixtheCat_09_10Space.mid', 'data/nesmdb_midi/test/241_MiracleRopit_sAdventurein2100_02_03ThemeofGirl.mid', 'data/nesmdb_midi/test/145_Golgo13_TopSecretEpisode_04_05ActionStage1.mid', 'data/nesmdb_midi/test/265_PokerJ_ngl_ng_01_02PokerJinglingTitleScreen.mid', 'data/nesmdb_midi/test/242_MississippiSatsujinJiken_10_11MainThemeExtended.mid', 'data/nesmdb_midi/test/013_AlterEgo_02_03Level2.mid', 'data/nesmdb_midi/test/145_Golgo13_TopSecretEpisode_03_04Cutscene1ActionStage4.mid', 'data/nesmdb_midi/test/389_WreckingCrew_04_05GoldenHammer.mid', 'data/nesmdb_midi/test/272_Quarth_02_03TheMenaceoftheBlock.mid', 'data/nesmdb_midi/test/116_FelixtheCat_07_08Tropics.mid', 'data/nesmdb_midi/test/141_Ghostbusters_01_02MainBGM.mid', 'data/nesmdb_midi/test/071_DigitalDevilStory_MegamiTensei_18_19IzanamiIIEpilogue.mid', 'data/nesmdb_midi/test/241_MiracleRopit_sAdventurein2100_08_09ThemeofMiracleRopitunusedversion.mid', 'data/nesmdb_midi/test/013_AlterEgo_04_05Level3.mid', 'data/nesmdb_midi/test/145_Golgo13_TopSecretEpisode_02_03MainTheme.mid', 'data/nesmdb_midi/test/214_MadoolanoTsubasa_04_05MainTowerCastle.mid', 'data/nesmdb_midi/test/037_BoobyKids_10_11BoobieWoogie.mid', 'data/nesmdb_midi/test/286_Rygar_03_04GranMountainsJPVersion.mid', 'data/nesmdb_midi/test/286_Rygar_19_20Ending.mid', 'data/nesmdb_midi/test/085_DragonBusterII_YaminoFuuin_14_15Ending.mid', 'data/nesmdb_midi/test/194_KnightMove_08_092PlayersWin.mid', 'data/nesmdb_midi/test/194_KnightMove_04_05Umasakaba.mid', 'data/nesmdb_midi/test/194_KnightMove_05_06HighScoreBoard.mid', 'data/nesmdb_midi/test/085_DragonBusterII_YaminoFuuin_06_07DesertRound3.mid', 'data/nesmdb_midi/test/002_1943_TheBattleofMidway_04_05AntishipBattleA.mid', 'data/nesmdb_midi/test/158_HikarinoSenshiPhoton_WakuseiZoldiasnoTatakai_19_20Area43.mid', 'data/nesmdb_midi/test/379_WardnernoMori_02_03Shop.mid', 'data/nesmdb_midi/test/071_DigitalDevilStory_MegamiTensei_03_04DaedalusDaedalusTower.mid', 'data/nesmdb_midi/test/037_BoobyKids_09_10EvilDante.mid', 'data/nesmdb_midi/test/116_FelixtheCat_03_04Egypt.mid', 'data/nesmdb_midi/valid/114_Faxanadu_12_13DemonHillArea.mid', 'data/nesmdb_midi/valid/258_P_O_W__PrisonersofWar_03_04Room1.mid', 'data/nesmdb_midi/valid/166_Hu_ngd__Zhu_l_zh_Zh_n_09_10Stage3.mid', 'data/nesmdb_midi/valid/054_ChukaTaisen_09_10Ending.mid', 'data/nesmdb_midi/valid/029_Battleship_02_03GameTheme.mid', 'data/nesmdb_midi/valid/324_SuperMarioBros_3_28_29Ending.mid', 'data/nesmdb_midi/valid/293_Shinobi_02_03BGM3.mid', 'data/nesmdb_midi/valid/293_Shinobi_08_09BossBGM2.mid', 'data/nesmdb_midi/valid/257_OverHorizon_06_07Stage4.mid', 'data/nesmdb_midi/valid/132_Galaxian_03_04Music4.mid', 'data/nesmdb_midi/valid/218_ManiacMansion_07_08Jeff.mid', 'data/nesmdb_midi/valid/079_DoubleDragonIII_TheSacredStones_15_16CursedForestMission52.mid', 'data/nesmdb_midi/valid/132_Galaxian_00_01Music1.mid', 'data/nesmdb_midi/valid/258_P_O_W__PrisonersofWar_06_07Stage2.mid', 'data/nesmdb_midi/valid/218_ManiacMansion_06_07Wendy.mid', 'data/nesmdb_midi/valid/357_ToujinMakyouDen_HeraclesnoEikou_01_02Title2Field.mid', 'data/nesmdb_midi/valid/218_ManiacMansion_03_04Razor.mid', 'data/nesmdb_midi/valid/166_Hu_ngd__Zhu_l_zh_Zh_n_02_03Map.mid', 'data/nesmdb_midi/valid/177_IronTank_TheInvasionofNormandy_03_04LastArea.mid', 'data/nesmdb_midi/valid/012_AlphaMission_01_02SYDsThemeArea.mid', 'data/nesmdb_midi/valid/402_ZeldanoDensetsu_08_09EndingTheme.mid', 'data/nesmdb_midi/valid/394_Yoshi_sCookie_15_16VSMusicTypeC.mid', 'data/nesmdb_midi/valid/258_P_O_W__PrisonersofWar_10_11Boss3.mid', 'data/nesmdb_midi/valid/177_IronTank_TheInvasionofNormandy_04_05LastBase.mid', 'data/nesmdb_midi/valid/166_Hu_ngd__Zhu_l_zh_Zh_n_04_05Stage1.mid', 'data/nesmdb_midi/valid/324_SuperMarioBros_3_05_06AthleticBGM.mid', 'data/nesmdb_midi/valid/293_Shinobi_05_06BossBGM1.mid', 'data/nesmdb_midi/valid/257_OverHorizon_10_11FinalBoss.mid', 'data/nesmdb_midi/valid/293_Shinobi_10_11Continue.mid', 'data/nesmdb_midi/valid/029_Battleship_05_06EndingTheme.mid', 'data/nesmdb_midi/valid/402_ZeldanoDensetsu_01_02OverworldBGM.mid', 'data/nesmdb_midi/valid/168_Hydlide3_YamiKaranoHoumonsha_10_11BattleInTheSplashCaveForbiddenCaves.mid', 'data/nesmdb_midi/valid/079_DoubleDragonIII_TheSacredStones_17_18The20000YearOldMonsterArisesBoss51.mid', 'data/nesmdb_midi/valid/257_OverHorizon_03_04Boss.mid', 'data/nesmdb_midi/valid/166_Hu_ngd__Zhu_l_zh_Zh_n_08_09Stage2.mid', 'data/nesmdb_midi/valid/394_Yoshi_sCookie_00_01TitleTheme.mid', 'data/nesmdb_midi/valid/293_Shinobi_00_01BGM1.mid', 'data/nesmdb_midi/valid/168_Hydlide3_YamiKaranoHoumonsha_07_08BigMonsterBoss.mid', 'data/nesmdb_midi/valid/357_ToujinMakyouDen_HeraclesnoEikou_17_18Ending.mid', 'data/nesmdb_midi/valid/394_Yoshi_sCookie_02_031PMusicTypeA.mid', 'data/nesmdb_midi/valid/173_Ikki_01_02MainBGM.mid', 'data/nesmdb_midi/valid/079_DoubleDragonIII_TheSacredStones_12_13InItalyMission4.mid', 'data/nesmdb_midi/valid/166_Hu_ngd__Zhu_l_zh_Zh_n_00_01Introduction.mid', 'data/nesmdb_midi/valid/218_ManiacMansion_01_02Ending.mid', 'data/nesmdb_midi/valid/257_OverHorizon_04_05Stage2.mid', 'data/nesmdb_midi/valid/132_Galaxian_04_05Music5.mid', 'data/nesmdb_midi/valid/029_Battleship_00_01TitleScreen.mid', 'data/nesmdb_midi/valid/323_SuperMarioBros_2_11_12Ending.mid', 'data/nesmdb_midi/valid/356_TimesofLore_00_01Title.mid', 'data/nesmdb_midi/valid/114_Faxanadu_08_09Tower.mid', 'data/nesmdb_midi/valid/257_OverHorizon_08_09Stage61.mid', 'data/nesmdb_midi/valid/257_OverHorizon_02_03Stage1.mid', 'data/nesmdb_midi/valid/177_IronTank_TheInvasionofNormandy_07_08Ending.mid', 'data/nesmdb_midi/valid/166_Hu_ngd__Zhu_l_zh_Zh_n_12_13Stage5.mid', 'data/nesmdb_midi/valid/399_YumeKoujou_DokiDokiPanic_02_03Overworld.mid', 'data/nesmdb_midi/valid/399_YumeKoujou_DokiDokiPanic_12_13Ending.mid', 'data/nesmdb_midi/valid/257_OverHorizon_11_12StaffRoll.mid', 'data/nesmdb_midi/valid/168_Hydlide3_YamiKaranoHoumonsha_12_13GayzacLastBoss.mid', 'data/nesmdb_midi/valid/114_Faxanadu_07_08Town.mid', 'data/nesmdb_midi/valid/132_Galaxian_02_03Music3.mid', 'data/nesmdb_midi/valid/218_ManiacMansion_12_13PlayerDemoTape.mid', 'data/nesmdb_midi/valid/357_ToujinMakyouDen_HeraclesnoEikou_00_01Title.mid', 'data/nesmdb_midi/valid/356_TimesofLore_04_05Dungeons.mid', 'data/nesmdb_midi/valid/177_IronTank_TheInvasionofNormandy_02_03MainBGM.mid', 'data/nesmdb_midi/valid/029_Battleship_08_09UnusedSong3.mid', 'data/nesmdb_midi/valid/218_ManiacMansion_00_01Title.mid', 'data/nesmdb_midi/valid/382_Wayne_sWorld_03_04Level4.mid', 'data/nesmdb_midi/valid/079_DoubleDragonIII_TheSacredStones_09_10InJapanMission31.mid', 'data/nesmdb_midi/valid/258_P_O_W__PrisonersofWar_02_03Stage1.mid', 'data/nesmdb_midi/valid/114_Faxanadu_14_15Ending.mid', 'data/nesmdb_midi/valid/258_P_O_W__PrisonersofWar_14_15Ending.mid', 'data/nesmdb_midi/valid/168_Hydlide3_YamiKaranoHoumonsha_13_14DisappearEnding1.mid', 'data/nesmdb_midi/valid/166_Hu_ngd__Zhu_l_zh_Zh_n_10_11FightagainstWangliangChimei.mid', 'data/nesmdb_midi/valid/356_TimesofLore_06_07Ending2.mid', 'data/nesmdb_midi/valid/168_Hydlide3_YamiKaranoHoumonsha_05_06TheSkyscraperTowerofHabel.mid', 'data/nesmdb_midi/valid/168_Hydlide3_YamiKaranoHoumonsha_04_05FairylandField.mid', 'data/nesmdb_midi/valid/258_P_O_W__PrisonersofWar_08_09Stage3.mid', 'data/nesmdb_midi/valid/079_DoubleDragonIII_TheSacredStones_19_20ToChildrenintheWorldEnding.mid', 'data/nesmdb_midi/valid/323_SuperMarioBros_2_14_15UnderworldPrototype.mid', 'data/nesmdb_midi/valid/114_Faxanadu_13_14ZenisFortress.mid', 'data/nesmdb_midi/valid/356_TimesofLore_02_03Overworld.mid', 'data/nesmdb_midi/valid/218_ManiacMansion_05_06Syd.mid', 'data/nesmdb_midi/valid/356_TimesofLore_03_04Chamber.mid', 'data/nesmdb_midi/valid/394_Yoshi_sCookie_14_15Blind.mid', 'data/nesmdb_midi/valid/402_ZeldanoDensetsu_00_01TitleBGM.mid', 'data/nesmdb_midi/valid/041_Caesar_sPalace_01_02CasinoFloorTheme1.mid', 'data/nesmdb_midi/valid/177_IronTank_TheInvasionofNormandy_00_01Opening.mid', 'data/nesmdb_midi/valid/399_YumeKoujou_DokiDokiPanic_00_01Title.mid', 'data/nesmdb_midi/valid/252_NintendoWorldChampionships1990_02_03Results.mid', 'data/nesmdb_midi/valid/079_DoubleDragonIII_TheSacredStones_08_09ChinsThemeBoss2.mid', 'data/nesmdb_midi/valid/079_DoubleDragonIII_TheSacredStones_16_17Mission53.mid', 'data/nesmdb_midi/valid/332_TakeshinoChousenjou_00_01MainBGM.mid', 'data/nesmdb_midi/valid/166_Hu_ngd__Zhu_l_zh_Zh_n_06_07FightagainstLeishouShenhui.mid', 'data/nesmdb_midi/valid/168_Hydlide3_YamiKaranoHoumonsha_06_07DragonCaveofDead.mid', 'data/nesmdb_midi/valid/150_GuerrillaWar_04_05Area2.mid', 'data/nesmdb_midi/valid/054_ChukaTaisen_05_06MtTaiRound4.mid', 'data/nesmdb_midi/valid/079_DoubleDragonIII_TheSacredStones_14_15EntertheDragonMission51.mid', 'data/nesmdb_midi/valid/029_Battleship_01_02SetUpTheme.mid', 'data/nesmdb_midi/valid/258_P_O_W__PrisonersofWar_11_12Stage4.mid', 'data/nesmdb_midi/valid/150_GuerrillaWar_11_12Area7.mid', 'data/nesmdb_midi/valid/168_Hydlide3_YamiKaranoHoumonsha_11_12ChaosSeparaterLastDungeon.mid', 'data/nesmdb_midi/valid/168_Hydlide3_YamiKaranoHoumonsha_08_09LightMetalTechFortress.mid', 'data/nesmdb_midi/valid/399_YumeKoujou_DokiDokiPanic_11_12FileClear.mid', 'data/nesmdb_midi/valid/150_GuerrillaWar_12_13Ending.mid', 'data/nesmdb_midi/valid/168_Hydlide3_YamiKaranoHoumonsha_00_01TheSpaceMemoriesMainTheme.mid', 'data/nesmdb_midi/valid/079_DoubleDragonIII_TheSacredStones_00_01Title.mid', 'data/nesmdb_midi/valid/218_ManiacMansion_11_12WinkSmileysTalkShow.mid', 'data/nesmdb_midi/valid/257_OverHorizon_05_06Stage3.mid', 'data/nesmdb_midi/valid/257_OverHorizon_07_08Stage5.mid', 'data/nesmdb_midi/valid/041_Caesar_sPalace_02_03CasinoFloorTheme2.mid', 'data/nesmdb_midi/valid/150_GuerrillaWar_09_10Area5.mid', 'data/nesmdb_midi/valid/218_ManiacMansion_14_15Unused.mid', 'data/nesmdb_midi/valid/218_ManiacMansion_04_05Bernard.mid', 'data/nesmdb_midi/valid/114_Faxanadu_06_07StemArea.mid', 'data/nesmdb_midi/valid/323_SuperMarioBros_2_02_03Overworld.mid', 'data/nesmdb_midi/valid/394_Yoshi_sCookie_07_081PMusicTypeD.mid', 'data/nesmdb_midi/valid/218_ManiacMansion_08_09Michael.mid', 'data/nesmdb_midi/valid/168_Hydlide3_YamiKaranoHoumonsha_02_03OutofFreedomTown.mid', 'data/nesmdb_midi/valid/114_Faxanadu_01_02PasswordDeath.mid', 'data/nesmdb_midi/valid/166_Hu_ngd__Zhu_l_zh_Zh_n_11_12Stage4.mid', 'data/nesmdb_midi/valid/150_GuerrillaWar_01_02Area1Area9.mid', 'data/nesmdb_midi/valid/166_Hu_ngd__Zhu_l_zh_Zh_n_01_02GameOptions.mid', 'data/nesmdb_midi/valid/293_Shinobi_01_02BGM2.mid', 'data/nesmdb_midi/valid/114_Faxanadu_10_11FogArea.mid', 'data/nesmdb_midi/valid/114_Faxanadu_04_05Church.mid', 'data/nesmdb_midi/valid/150_GuerrillaWar_10_11Area6Area8.mid', 'data/nesmdb_midi/valid/332_TakeshinoChousenjou_02_03RainofTears.mid', 'data/nesmdb_midi/valid/114_Faxanadu_11_12BranchArea.mid', 'data/nesmdb_midi/valid/218_ManiacMansion_09_10EdisonFamily.mid', 'data/nesmdb_midi/valid/079_DoubleDragonIII_TheSacredStones_10_11RanzousThemeMission32.mid', 'data/nesmdb_midi/valid/114_Faxanadu_00_01Title.mid', 'data/nesmdb_midi/valid/218_ManiacMansion_02_03Dave.mid', 'data/nesmdb_midi/valid/079_DoubleDragonIII_TheSacredStones_18_19RoppetheStonemanBoss52.mid', 'data/nesmdb_midi/valid/114_Faxanadu_02_03Eolis.mid', 'data/nesmdb_midi/valid/257_OverHorizon_00_01Title.mid', 'data/nesmdb_midi/valid/218_ManiacMansion_13_14GreenTentacleDemoTape.mid', 'data/nesmdb_midi/valid/356_TimesofLore_05_06Ending1.mid', 'data/nesmdb_midi/valid/150_GuerrillaWar_06_07Area3.mid', 'data/nesmdb_midi/valid/079_DoubleDragonIII_TheSacredStones_03_04InAmericaMission12.mid', 'data/nesmdb_midi/valid/262_Penguin_KunWars_00_01MainBGM.mid', 'data/nesmdb_midi/valid/168_Hydlide3_YamiKaranoHoumonsha_14_15TheNewCreatorEnding2.mid', 'data/nesmdb_midi/valid/029_Battleship_06_07UnusedSong1.mid', 'data/nesmdb_midi/valid/166_Hu_ngd__Zhu_l_zh_Zh_n_17_18Ending.mid', 'data/nesmdb_midi/valid/041_Caesar_sPalace_00_01TitleScreen.mid', 'data/nesmdb_midi/valid/394_Yoshi_sCookie_03_041PMusicTypeB.mid']\n"
     ]
    },
    {
     "data": {
      "text/html": [
       "<div>\n",
       "<style scoped>\n",
       "    .dataframe tbody tr th:only-of-type {\n",
       "        vertical-align: middle;\n",
       "    }\n",
       "\n",
       "    .dataframe tbody tr th {\n",
       "        vertical-align: top;\n",
       "    }\n",
       "\n",
       "    .dataframe thead th {\n",
       "        text-align: right;\n",
       "    }\n",
       "</style>\n",
       "<table border=\"1\" class=\"dataframe\">\n",
       "  <thead>\n",
       "    <tr style=\"text-align: right;\">\n",
       "      <th></th>\n",
       "      <th>duration_s</th>\n",
       "      <th>total_notes</th>\n",
       "      <th>unique_pitches</th>\n",
       "      <th>avg_velocity</th>\n",
       "      <th>num_instruments</th>\n",
       "      <th>note_density</th>\n",
       "    </tr>\n",
       "  </thead>\n",
       "  <tbody>\n",
       "    <tr>\n",
       "      <th>count</th>\n",
       "      <td>2013.000000</td>\n",
       "      <td>2013.000000</td>\n",
       "      <td>2013.000000</td>\n",
       "      <td>2013.000000</td>\n",
       "      <td>2013.000000</td>\n",
       "      <td>2013.000000</td>\n",
       "    </tr>\n",
       "    <tr>\n",
       "      <th>mean</th>\n",
       "      <td>57.250304</td>\n",
       "      <td>1189.710383</td>\n",
       "      <td>40.232489</td>\n",
       "      <td>5.909758</td>\n",
       "      <td>3.635867</td>\n",
       "      <td>21.218514</td>\n",
       "    </tr>\n",
       "    <tr>\n",
       "      <th>std</th>\n",
       "      <td>29.878490</td>\n",
       "      <td>1084.553276</td>\n",
       "      <td>12.940051</td>\n",
       "      <td>2.373904</td>\n",
       "      <td>0.594077</td>\n",
       "      <td>14.958237</td>\n",
       "    </tr>\n",
       "    <tr>\n",
       "      <th>min</th>\n",
       "      <td>30.006848</td>\n",
       "      <td>17.000000</td>\n",
       "      <td>2.000000</td>\n",
       "      <td>1.000000</td>\n",
       "      <td>1.000000</td>\n",
       "      <td>0.480332</td>\n",
       "    </tr>\n",
       "    <tr>\n",
       "      <th>25%</th>\n",
       "      <td>38.338231</td>\n",
       "      <td>519.000000</td>\n",
       "      <td>31.000000</td>\n",
       "      <td>4.232335</td>\n",
       "      <td>3.000000</td>\n",
       "      <td>10.514910</td>\n",
       "    </tr>\n",
       "    <tr>\n",
       "      <th>50%</th>\n",
       "      <td>47.923605</td>\n",
       "      <td>874.000000</td>\n",
       "      <td>39.000000</td>\n",
       "      <td>5.662162</td>\n",
       "      <td>4.000000</td>\n",
       "      <td>16.855626</td>\n",
       "    </tr>\n",
       "    <tr>\n",
       "      <th>75%</th>\n",
       "      <td>64.494649</td>\n",
       "      <td>1516.000000</td>\n",
       "      <td>49.000000</td>\n",
       "      <td>7.461399</td>\n",
       "      <td>4.000000</td>\n",
       "      <td>28.186114</td>\n",
       "    </tr>\n",
       "    <tr>\n",
       "      <th>max</th>\n",
       "      <td>225.764853</td>\n",
       "      <td>10454.000000</td>\n",
       "      <td>92.000000</td>\n",
       "      <td>15.000000</td>\n",
       "      <td>4.000000</td>\n",
       "      <td>113.199653</td>\n",
       "    </tr>\n",
       "  </tbody>\n",
       "</table>\n",
       "</div>"
      ],
      "text/plain": [
       "        duration_s   total_notes  unique_pitches  avg_velocity  \\\n",
       "count  2013.000000   2013.000000     2013.000000   2013.000000   \n",
       "mean     57.250304   1189.710383       40.232489      5.909758   \n",
       "std      29.878490   1084.553276       12.940051      2.373904   \n",
       "min      30.006848     17.000000        2.000000      1.000000   \n",
       "25%      38.338231    519.000000       31.000000      4.232335   \n",
       "50%      47.923605    874.000000       39.000000      5.662162   \n",
       "75%      64.494649   1516.000000       49.000000      7.461399   \n",
       "max     225.764853  10454.000000       92.000000     15.000000   \n",
       "\n",
       "       num_instruments  note_density  \n",
       "count      2013.000000   2013.000000  \n",
       "mean          3.635867     21.218514  \n",
       "std           0.594077     14.958237  \n",
       "min           1.000000      0.480332  \n",
       "25%           3.000000     10.514910  \n",
       "50%           4.000000     16.855626  \n",
       "75%           4.000000     28.186114  \n",
       "max           4.000000    113.199653  "
      ]
     },
     "execution_count": 13,
     "metadata": {},
     "output_type": "execute_result"
    }
   ],
   "source": [
    "df = pd.DataFrame(records)\n",
    "cleaned_paths = df['path'].tolist()\n",
    "print(cleaned_paths)\n",
    "df.head()\n",
    "df.describe()"
   ]
  },
  {
   "cell_type": "code",
   "execution_count": 14,
   "metadata": {},
   "outputs": [
    {
     "data": {
      "text/html": [
       "<div>\n",
       "<style scoped>\n",
       "    .dataframe tbody tr th:only-of-type {\n",
       "        vertical-align: middle;\n",
       "    }\n",
       "\n",
       "    .dataframe tbody tr th {\n",
       "        vertical-align: top;\n",
       "    }\n",
       "\n",
       "    .dataframe thead th {\n",
       "        text-align: right;\n",
       "    }\n",
       "</style>\n",
       "<table border=\"1\" class=\"dataframe\">\n",
       "  <thead>\n",
       "    <tr style=\"text-align: right;\">\n",
       "      <th></th>\n",
       "      <th>file</th>\n",
       "      <th>note_density</th>\n",
       "      <th>total_notes</th>\n",
       "      <th>duration_s</th>\n",
       "    </tr>\n",
       "  </thead>\n",
       "  <tbody>\n",
       "    <tr>\n",
       "      <th>1679</th>\n",
       "      <td>267_Pooyan_00_01Title.mid</td>\n",
       "      <td>113.199653</td>\n",
       "      <td>4782</td>\n",
       "      <td>42.243946</td>\n",
       "    </tr>\n",
       "    <tr>\n",
       "      <th>1014</th>\n",
       "      <td>129_FreedomForce_11_12Stage3.mid</td>\n",
       "      <td>108.432576</td>\n",
       "      <td>6582</td>\n",
       "      <td>60.701315</td>\n",
       "    </tr>\n",
       "    <tr>\n",
       "      <th>782</th>\n",
       "      <td>295_SilverSurfer_04_05SectionBGM2.mid</td>\n",
       "      <td>91.923910</td>\n",
       "      <td>9127</td>\n",
       "      <td>99.288639</td>\n",
       "    </tr>\n",
       "    <tr>\n",
       "      <th>886</th>\n",
       "      <td>129_FreedomForce_13_14Stage5.mid</td>\n",
       "      <td>89.846765</td>\n",
       "      <td>4784</td>\n",
       "      <td>53.246213</td>\n",
       "    </tr>\n",
       "    <tr>\n",
       "      <th>167</th>\n",
       "      <td>295_SilverSurfer_03_04SectionBGM1.mid</td>\n",
       "      <td>89.820428</td>\n",
       "      <td>7754</td>\n",
       "      <td>86.327800</td>\n",
       "    </tr>\n",
       "    <tr>\n",
       "      <th>557</th>\n",
       "      <td>295_SilverSurfer_00_01Title.mid</td>\n",
       "      <td>86.151937</td>\n",
       "      <td>8508</td>\n",
       "      <td>98.755760</td>\n",
       "    </tr>\n",
       "    <tr>\n",
       "      <th>1261</th>\n",
       "      <td>295_SilverSurfer_08_09Ranking.mid</td>\n",
       "      <td>84.776989</td>\n",
       "      <td>6149</td>\n",
       "      <td>72.531474</td>\n",
       "    </tr>\n",
       "    <tr>\n",
       "      <th>1267</th>\n",
       "      <td>346_TheJungleBook_01_02TitleScreenLevel1Level6...</td>\n",
       "      <td>83.414042</td>\n",
       "      <td>4477</td>\n",
       "      <td>53.672018</td>\n",
       "    </tr>\n",
       "    <tr>\n",
       "      <th>1283</th>\n",
       "      <td>129_FreedomForce_05_06Stage2.mid</td>\n",
       "      <td>83.195356</td>\n",
       "      <td>4661</td>\n",
       "      <td>56.024762</td>\n",
       "    </tr>\n",
       "    <tr>\n",
       "      <th>1960</th>\n",
       "      <td>166_Hu_ngd__Zhu_l_zh_Zh_n_06_07FightagainstLei...</td>\n",
       "      <td>81.414518</td>\n",
       "      <td>2601</td>\n",
       "      <td>31.947619</td>\n",
       "    </tr>\n",
       "  </tbody>\n",
       "</table>\n",
       "</div>"
      ],
      "text/plain": [
       "                                                   file  note_density  \\\n",
       "1679                          267_Pooyan_00_01Title.mid    113.199653   \n",
       "1014                   129_FreedomForce_11_12Stage3.mid    108.432576   \n",
       "782               295_SilverSurfer_04_05SectionBGM2.mid     91.923910   \n",
       "886                    129_FreedomForce_13_14Stage5.mid     89.846765   \n",
       "167               295_SilverSurfer_03_04SectionBGM1.mid     89.820428   \n",
       "557                     295_SilverSurfer_00_01Title.mid     86.151937   \n",
       "1261                  295_SilverSurfer_08_09Ranking.mid     84.776989   \n",
       "1267  346_TheJungleBook_01_02TitleScreenLevel1Level6...     83.414042   \n",
       "1283                   129_FreedomForce_05_06Stage2.mid     83.195356   \n",
       "1960  166_Hu_ngd__Zhu_l_zh_Zh_n_06_07FightagainstLei...     81.414518   \n",
       "\n",
       "      total_notes  duration_s  \n",
       "1679         4782   42.243946  \n",
       "1014         6582   60.701315  \n",
       "782          9127   99.288639  \n",
       "886          4784   53.246213  \n",
       "167          7754   86.327800  \n",
       "557          8508   98.755760  \n",
       "1261         6149   72.531474  \n",
       "1267         4477   53.672018  \n",
       "1283         4661   56.024762  \n",
       "1960         2601   31.947619  "
      ]
     },
     "execution_count": 14,
     "metadata": {},
     "output_type": "execute_result"
    }
   ],
   "source": [
    "df.nlargest(10, 'note_density')[['file', 'note_density', 'total_notes', 'duration_s']]"
   ]
  },
  {
   "cell_type": "code",
   "execution_count": 15,
   "metadata": {},
   "outputs": [
    {
     "data": {
      "image/png": "[encoded data removed]",
      "text/plain": [
       "<Figure size 1200x800 with 5 Axes>"
      ]
     },
     "metadata": {},
     "output_type": "display_data"
    }
   ],
   "source": [
    "metrics = ['duration_s', 'total_notes', 'unique_pitches', 'avg_velocity', 'note_density']\n",
    "plt.figure(figsize=(12, 8))\n",
    "for i, m in enumerate(metrics, 1):\n",
    "    plt.subplot(2, 3, i)\n",
    "    sns.histplot(df[m].dropna(), bins=30, kde=False)\n",
    "    plt.title(m)\n",
    "plt.tight_layout()\n",
    "plt.show()"
   ]
  },
  {
   "cell_type": "markdown",
   "metadata": {},
   "source": [
    "## Statistics to note:\n",
    "- Most pieces are around the 30-60 seconds range.\n",
    "- The mean for notes is around 1200 notes per piece.\n",
    "- There is a relatively large distribution for unique pitches across the songs with a mean of 40\n",
    "- Most velocities are around 3 to 8, with a mean of 6.\n",
    "- The note density is quite varied between 0-100 but a majority are in the 0-25 range. "
   ]
  },
  {
   "cell_type": "markdown",
   "metadata": {},
   "source": [
    "# More Specific Data"
   ]
  },
  {
   "cell_type": "code",
   "execution_count": 16,
   "metadata": {},
   "outputs": [
    {
     "data": {
      "application/vnd.jupyter.widget-view+json": {
       "model_id": "e2bf69a918e549a197df73e68a908155",
       "version_major": 2,
       "version_minor": 0
      },
      "text/plain": [
       "  0%|          | 0/2013 [00:00<?, ?it/s]"
      ]
     },
     "metadata": {},
     "output_type": "display_data"
    }
   ],
   "source": [
    "ext_records = []\n",
    "for path in tqdm(cleaned_paths):\n",
    "    pm = pretty_midi.PrettyMIDI(path)\n",
    "    # Polyphony: sample time grid for active note counts\n",
    "    times = np.linspace(0, pm.get_end_time(), num=500)\n",
    "    active_counts = [sum(1 for inst in pm.instruments for note in inst.notes if note.start <= t < note.end) for t in times]\n",
    "    max_poly = int(max(active_counts))\n",
    "    avg_poly = float(np.mean(active_counts))\n",
    "\n",
    "    # Tempo\n",
    "    tempo_changes, tempi = pm.get_tempo_changes()\n",
    "    mean_tempo = float(np.mean(tempi)) if len(tempi)>0 else np.nan\n",
    "    tempo_range = float(np.max(tempi)-np.min(tempi)) if len(tempi)>1 else 0.0\n",
    "\n",
    "    # Key and time signature events\n",
    "    key_sigs = [ks.key_number for ks in pm.key_signature_changes]\n",
    "    time_sigs = [(ts.numerator, ts.denominator) for ts in pm.time_signature_changes]\n",
    "    key_mode = key_sigs[0] if key_sigs else None\n",
    "    time_sig = time_sigs[0] if time_sigs else (None, None)\n",
    "\n",
    "    # Note durations and IOIs\n",
    "    note_durs = np.array([note.end-note.start for inst in pm.instruments for note in inst.notes])\n",
    "    ioi = np.diff([note.start for inst in pm.instruments for note in inst.notes])\n",
    "    dur_q = np.quantile(note_durs, [0.25, 0.5, 0.75]) if note_durs.size>0 else [np.nan]*3\n",
    "    ioi_mean = float(np.mean(ioi)) if ioi.size>0 else np.nan\n",
    "    ioi_var = float(np.var(ioi)) if ioi.size>0 else np.nan\n",
    "\n",
    "    # Pitch-class histogram\n",
    "    pitches = [note.pitch % 12 for inst in pm.instruments for note in inst.notes]\n",
    "    pc_hist = np.bincount(pitches, minlength=12)\n",
    "    pc_hist_norm = pc_hist / pc_hist.sum() if pc_hist.sum()>0 else pc_hist\n",
    "\n",
    "    ext_records.append({\n",
    "        'file': os.path.basename(path),\n",
    "        'max_polyphony': max_poly,\n",
    "        'avg_polyphony': avg_poly,\n",
    "        'mean_tempo_bpm': mean_tempo,\n",
    "        'tempo_range_bpm': tempo_range,\n",
    "        'key_signature': key_mode,\n",
    "        'time_signature': f\"{time_sig[0]}/{time_sig[1]}\",\n",
    "        'dur_q1': dur_q[0], 'dur_q2': dur_q[1], 'dur_q3': dur_q[2],\n",
    "        'ioi_mean': ioi_mean, 'ioi_var': ioi_var,\n",
    "        **{f'pc_{i}': pc_hist_norm[i] for i in range(12)}\n",
    "    })"
   ]
  },
  {
   "cell_type": "code",
   "execution_count": 17,
   "metadata": {},
   "outputs": [
    {
     "data": {
      "text/html": [
       "<div>\n",
       "<style scoped>\n",
       "    .dataframe tbody tr th:only-of-type {\n",
       "        vertical-align: middle;\n",
       "    }\n",
       "\n",
       "    .dataframe tbody tr th {\n",
       "        vertical-align: top;\n",
       "    }\n",
       "\n",
       "    .dataframe thead th {\n",
       "        text-align: right;\n",
       "    }\n",
       "</style>\n",
       "<table border=\"1\" class=\"dataframe\">\n",
       "  <thead>\n",
       "    <tr style=\"text-align: right;\">\n",
       "      <th></th>\n",
       "      <th>file</th>\n",
       "      <th>max_polyphony</th>\n",
       "      <th>avg_polyphony</th>\n",
       "      <th>mean_tempo_bpm</th>\n",
       "      <th>tempo_range_bpm</th>\n",
       "      <th>key_signature</th>\n",
       "      <th>time_signature</th>\n",
       "      <th>dur_q1</th>\n",
       "      <th>dur_q2</th>\n",
       "      <th>dur_q3</th>\n",
       "      <th>...</th>\n",
       "      <th>pc_2</th>\n",
       "      <th>pc_3</th>\n",
       "      <th>pc_4</th>\n",
       "      <th>pc_5</th>\n",
       "      <th>pc_6</th>\n",
       "      <th>pc_7</th>\n",
       "      <th>pc_8</th>\n",
       "      <th>pc_9</th>\n",
       "      <th>pc_10</th>\n",
       "      <th>pc_11</th>\n",
       "    </tr>\n",
       "  </thead>\n",
       "  <tbody>\n",
       "    <tr>\n",
       "      <th>count</th>\n",
       "      <td>2013</td>\n",
       "      <td>2013.000000</td>\n",
       "      <td>2013.000000</td>\n",
       "      <td>2013.0</td>\n",
       "      <td>2013.0</td>\n",
       "      <td>0</td>\n",
       "      <td>2013</td>\n",
       "      <td>2013.000000</td>\n",
       "      <td>2013.000000</td>\n",
       "      <td>2013.000000</td>\n",
       "      <td>...</td>\n",
       "      <td>2013.000000</td>\n",
       "      <td>2013.000000</td>\n",
       "      <td>2013.000000</td>\n",
       "      <td>2013.000000</td>\n",
       "      <td>2013.000000</td>\n",
       "      <td>2013.000000</td>\n",
       "      <td>2013.000000</td>\n",
       "      <td>2013.000000</td>\n",
       "      <td>2013.000000</td>\n",
       "      <td>2013.000000</td>\n",
       "    </tr>\n",
       "    <tr>\n",
       "      <th>unique</th>\n",
       "      <td>2013</td>\n",
       "      <td>NaN</td>\n",
       "      <td>NaN</td>\n",
       "      <td>NaN</td>\n",
       "      <td>NaN</td>\n",
       "      <td>0</td>\n",
       "      <td>1</td>\n",
       "      <td>NaN</td>\n",
       "      <td>NaN</td>\n",
       "      <td>NaN</td>\n",
       "      <td>...</td>\n",
       "      <td>NaN</td>\n",
       "      <td>NaN</td>\n",
       "      <td>NaN</td>\n",
       "      <td>NaN</td>\n",
       "      <td>NaN</td>\n",
       "      <td>NaN</td>\n",
       "      <td>NaN</td>\n",
       "      <td>NaN</td>\n",
       "      <td>NaN</td>\n",
       "      <td>NaN</td>\n",
       "    </tr>\n",
       "    <tr>\n",
       "      <th>top</th>\n",
       "      <td>387_Wizardry_ProvingGroundsofTheMadOverlord_16...</td>\n",
       "      <td>NaN</td>\n",
       "      <td>NaN</td>\n",
       "      <td>NaN</td>\n",
       "      <td>NaN</td>\n",
       "      <td>NaN</td>\n",
       "      <td>4/4</td>\n",
       "      <td>NaN</td>\n",
       "      <td>NaN</td>\n",
       "      <td>NaN</td>\n",
       "      <td>...</td>\n",
       "      <td>NaN</td>\n",
       "      <td>NaN</td>\n",
       "      <td>NaN</td>\n",
       "      <td>NaN</td>\n",
       "      <td>NaN</td>\n",
       "      <td>NaN</td>\n",
       "      <td>NaN</td>\n",
       "      <td>NaN</td>\n",
       "      <td>NaN</td>\n",
       "      <td>NaN</td>\n",
       "    </tr>\n",
       "    <tr>\n",
       "      <th>freq</th>\n",
       "      <td>1</td>\n",
       "      <td>NaN</td>\n",
       "      <td>NaN</td>\n",
       "      <td>NaN</td>\n",
       "      <td>NaN</td>\n",
       "      <td>NaN</td>\n",
       "      <td>2013</td>\n",
       "      <td>NaN</td>\n",
       "      <td>NaN</td>\n",
       "      <td>NaN</td>\n",
       "      <td>...</td>\n",
       "      <td>NaN</td>\n",
       "      <td>NaN</td>\n",
       "      <td>NaN</td>\n",
       "      <td>NaN</td>\n",
       "      <td>NaN</td>\n",
       "      <td>NaN</td>\n",
       "      <td>NaN</td>\n",
       "      <td>NaN</td>\n",
       "      <td>NaN</td>\n",
       "      <td>NaN</td>\n",
       "    </tr>\n",
       "    <tr>\n",
       "      <th>mean</th>\n",
       "      <td>NaN</td>\n",
       "      <td>3.615499</td>\n",
       "      <td>2.566905</td>\n",
       "      <td>120.0</td>\n",
       "      <td>0.0</td>\n",
       "      <td>NaN</td>\n",
       "      <td>NaN</td>\n",
       "      <td>0.071504</td>\n",
       "      <td>0.121002</td>\n",
       "      <td>0.207422</td>\n",
       "      <td>...</td>\n",
       "      <td>0.120876</td>\n",
       "      <td>0.095489</td>\n",
       "      <td>0.103206</td>\n",
       "      <td>0.068060</td>\n",
       "      <td>0.052516</td>\n",
       "      <td>0.087178</td>\n",
       "      <td>0.051729</td>\n",
       "      <td>0.106990</td>\n",
       "      <td>0.068094</td>\n",
       "      <td>0.071102</td>\n",
       "    </tr>\n",
       "    <tr>\n",
       "      <th>std</th>\n",
       "      <td>NaN</td>\n",
       "      <td>0.607441</td>\n",
       "      <td>0.564088</td>\n",
       "      <td>0.0</td>\n",
       "      <td>0.0</td>\n",
       "      <td>NaN</td>\n",
       "      <td>NaN</td>\n",
       "      <td>0.144511</td>\n",
       "      <td>0.164656</td>\n",
       "      <td>0.219424</td>\n",
       "      <td>...</td>\n",
       "      <td>0.085997</td>\n",
       "      <td>0.096298</td>\n",
       "      <td>0.087674</td>\n",
       "      <td>0.056704</td>\n",
       "      <td>0.057619</td>\n",
       "      <td>0.061306</td>\n",
       "      <td>0.055128</td>\n",
       "      <td>0.080382</td>\n",
       "      <td>0.062338</td>\n",
       "      <td>0.066379</td>\n",
       "    </tr>\n",
       "    <tr>\n",
       "      <th>min</th>\n",
       "      <td>NaN</td>\n",
       "      <td>1.000000</td>\n",
       "      <td>0.384000</td>\n",
       "      <td>120.0</td>\n",
       "      <td>0.0</td>\n",
       "      <td>NaN</td>\n",
       "      <td>NaN</td>\n",
       "      <td>0.000023</td>\n",
       "      <td>0.002041</td>\n",
       "      <td>0.006281</td>\n",
       "      <td>...</td>\n",
       "      <td>0.000000</td>\n",
       "      <td>0.000000</td>\n",
       "      <td>0.000000</td>\n",
       "      <td>0.000000</td>\n",
       "      <td>0.000000</td>\n",
       "      <td>0.000000</td>\n",
       "      <td>0.000000</td>\n",
       "      <td>0.000000</td>\n",
       "      <td>0.000000</td>\n",
       "      <td>0.000000</td>\n",
       "    </tr>\n",
       "    <tr>\n",
       "      <th>25%</th>\n",
       "      <td>NaN</td>\n",
       "      <td>3.000000</td>\n",
       "      <td>2.240000</td>\n",
       "      <td>120.0</td>\n",
       "      <td>0.0</td>\n",
       "      <td>NaN</td>\n",
       "      <td>NaN</td>\n",
       "      <td>0.016429</td>\n",
       "      <td>0.049841</td>\n",
       "      <td>0.099955</td>\n",
       "      <td>...</td>\n",
       "      <td>0.059701</td>\n",
       "      <td>0.019355</td>\n",
       "      <td>0.040268</td>\n",
       "      <td>0.025203</td>\n",
       "      <td>0.009272</td>\n",
       "      <td>0.040640</td>\n",
       "      <td>0.009794</td>\n",
       "      <td>0.051724</td>\n",
       "      <td>0.022414</td>\n",
       "      <td>0.024913</td>\n",
       "    </tr>\n",
       "    <tr>\n",
       "      <th>50%</th>\n",
       "      <td>NaN</td>\n",
       "      <td>4.000000</td>\n",
       "      <td>2.646000</td>\n",
       "      <td>120.0</td>\n",
       "      <td>0.0</td>\n",
       "      <td>NaN</td>\n",
       "      <td>NaN</td>\n",
       "      <td>0.049070</td>\n",
       "      <td>0.099365</td>\n",
       "      <td>0.150000</td>\n",
       "      <td>...</td>\n",
       "      <td>0.104874</td>\n",
       "      <td>0.066667</td>\n",
       "      <td>0.084026</td>\n",
       "      <td>0.059091</td>\n",
       "      <td>0.035907</td>\n",
       "      <td>0.080402</td>\n",
       "      <td>0.037929</td>\n",
       "      <td>0.091451</td>\n",
       "      <td>0.054429</td>\n",
       "      <td>0.056497</td>\n",
       "    </tr>\n",
       "    <tr>\n",
       "      <th>75%</th>\n",
       "      <td>NaN</td>\n",
       "      <td>4.000000</td>\n",
       "      <td>2.952000</td>\n",
       "      <td>120.0</td>\n",
       "      <td>0.0</td>\n",
       "      <td>NaN</td>\n",
       "      <td>NaN</td>\n",
       "      <td>0.095385</td>\n",
       "      <td>0.149342</td>\n",
       "      <td>0.232925</td>\n",
       "      <td>...</td>\n",
       "      <td>0.162775</td>\n",
       "      <td>0.142649</td>\n",
       "      <td>0.143312</td>\n",
       "      <td>0.095238</td>\n",
       "      <td>0.076305</td>\n",
       "      <td>0.120805</td>\n",
       "      <td>0.075479</td>\n",
       "      <td>0.143897</td>\n",
       "      <td>0.097521</td>\n",
       "      <td>0.097826</td>\n",
       "    </tr>\n",
       "    <tr>\n",
       "      <th>max</th>\n",
       "      <td>NaN</td>\n",
       "      <td>4.000000</td>\n",
       "      <td>3.982000</td>\n",
       "      <td>120.0</td>\n",
       "      <td>0.0</td>\n",
       "      <td>NaN</td>\n",
       "      <td>NaN</td>\n",
       "      <td>3.926893</td>\n",
       "      <td>3.926939</td>\n",
       "      <td>3.943560</td>\n",
       "      <td>...</td>\n",
       "      <td>0.565460</td>\n",
       "      <td>0.512252</td>\n",
       "      <td>0.628378</td>\n",
       "      <td>0.574273</td>\n",
       "      <td>0.520161</td>\n",
       "      <td>0.461914</td>\n",
       "      <td>0.514323</td>\n",
       "      <td>0.582781</td>\n",
       "      <td>0.696970</td>\n",
       "      <td>0.826087</td>\n",
       "    </tr>\n",
       "  </tbody>\n",
       "</table>\n",
       "<p>11 rows × 24 columns</p>\n",
       "</div>"
      ],
      "text/plain": [
       "                                                     file  max_polyphony  \\\n",
       "count                                                2013    2013.000000   \n",
       "unique                                               2013            NaN   \n",
       "top     387_Wizardry_ProvingGroundsofTheMadOverlord_16...            NaN   \n",
       "freq                                                    1            NaN   \n",
       "mean                                                  NaN       3.615499   \n",
       "std                                                   NaN       0.607441   \n",
       "min                                                   NaN       1.000000   \n",
       "25%                                                   NaN       3.000000   \n",
       "50%                                                   NaN       4.000000   \n",
       "75%                                                   NaN       4.000000   \n",
       "max                                                   NaN       4.000000   \n",
       "\n",
       "        avg_polyphony  mean_tempo_bpm  tempo_range_bpm key_signature  \\\n",
       "count     2013.000000          2013.0           2013.0             0   \n",
       "unique            NaN             NaN              NaN             0   \n",
       "top               NaN             NaN              NaN           NaN   \n",
       "freq              NaN             NaN              NaN           NaN   \n",
       "mean         2.566905           120.0              0.0           NaN   \n",
       "std          0.564088             0.0              0.0           NaN   \n",
       "min          0.384000           120.0              0.0           NaN   \n",
       "25%          2.240000           120.0              0.0           NaN   \n",
       "50%          2.646000           120.0              0.0           NaN   \n",
       "75%          2.952000           120.0              0.0           NaN   \n",
       "max          3.982000           120.0              0.0           NaN   \n",
       "\n",
       "       time_signature       dur_q1       dur_q2       dur_q3  ...  \\\n",
       "count            2013  2013.000000  2013.000000  2013.000000  ...   \n",
       "unique              1          NaN          NaN          NaN  ...   \n",
       "top               4/4          NaN          NaN          NaN  ...   \n",
       "freq             2013          NaN          NaN          NaN  ...   \n",
       "mean              NaN     0.071504     0.121002     0.207422  ...   \n",
       "std               NaN     0.144511     0.164656     0.219424  ...   \n",
       "min               NaN     0.000023     0.002041     0.006281  ...   \n",
       "25%               NaN     0.016429     0.049841     0.099955  ...   \n",
       "50%               NaN     0.049070     0.099365     0.150000  ...   \n",
       "75%               NaN     0.095385     0.149342     0.232925  ...   \n",
       "max               NaN     3.926893     3.926939     3.943560  ...   \n",
       "\n",
       "               pc_2         pc_3         pc_4         pc_5         pc_6  \\\n",
       "count   2013.000000  2013.000000  2013.000000  2013.000000  2013.000000   \n",
       "unique          NaN          NaN          NaN          NaN          NaN   \n",
       "top             NaN          NaN          NaN          NaN          NaN   \n",
       "freq            NaN          NaN          NaN          NaN          NaN   \n",
       "mean       0.120876     0.095489     0.103206     0.068060     0.052516   \n",
       "std        0.085997     0.096298     0.087674     0.056704     0.057619   \n",
       "min        0.000000     0.000000     0.000000     0.000000     0.000000   \n",
       "25%        0.059701     0.019355     0.040268     0.025203     0.009272   \n",
       "50%        0.104874     0.066667     0.084026     0.059091     0.035907   \n",
       "75%        0.162775     0.142649     0.143312     0.095238     0.076305   \n",
       "max        0.565460     0.512252     0.628378     0.574273     0.520161   \n",
       "\n",
       "               pc_7         pc_8         pc_9        pc_10        pc_11  \n",
       "count   2013.000000  2013.000000  2013.000000  2013.000000  2013.000000  \n",
       "unique          NaN          NaN          NaN          NaN          NaN  \n",
       "top             NaN          NaN          NaN          NaN          NaN  \n",
       "freq            NaN          NaN          NaN          NaN          NaN  \n",
       "mean       0.087178     0.051729     0.106990     0.068094     0.071102  \n",
       "std        0.061306     0.055128     0.080382     0.062338     0.066379  \n",
       "min        0.000000     0.000000     0.000000     0.000000     0.000000  \n",
       "25%        0.040640     0.009794     0.051724     0.022414     0.024913  \n",
       "50%        0.080402     0.037929     0.091451     0.054429     0.056497  \n",
       "75%        0.120805     0.075479     0.143897     0.097521     0.097826  \n",
       "max        0.461914     0.514323     0.582781     0.696970     0.826087  \n",
       "\n",
       "[11 rows x 24 columns]"
      ]
     },
     "metadata": {},
     "output_type": "display_data"
    },
    {
     "data": {
      "image/png": "[encoded data removed]",
      "text/plain": [
       "<Figure size 1500x1200 with 9 Axes>"
      ]
     },
     "metadata": {},
     "output_type": "display_data"
    },
    {
     "data": {
      "image/png": "[encoded data removed]",
      "text/plain": [
       "<Figure size 800x400 with 1 Axes>"
      ]
     },
     "metadata": {},
     "output_type": "display_data"
    }
   ],
   "source": [
    "df_ext = pd.DataFrame(ext_records)\n",
    "display(df_ext.describe(include='all'))\n",
    "\n",
    "# Histogram plots for extended metrics\n",
    "ext_metrics = [\n",
    "    'avg_polyphony', 'max_polyphony',\n",
    "    'mean_tempo_bpm', 'tempo_range_bpm',\n",
    "    'dur_q1', 'dur_q2', 'dur_q3',\n",
    "    'ioi_mean', 'ioi_var'\n",
    "]\n",
    "plt.figure(figsize=(15, 12))\n",
    "for i, m in enumerate(ext_metrics, 1):\n",
    "    plt.subplot(3, 3, i)\n",
    "    sns.histplot(df_ext[m].dropna(), bins=30)\n",
    "    plt.title(m)\n",
    "plt.tight_layout()\n",
    "plt.show()\n",
    "\n",
    "# Average pitch-class distribution\n",
    "pc_cols = [f'pc_{i}' for i in range(12)]\n",
    "pc_mean = df_ext[pc_cols].mean()\n",
    "plt.figure(figsize=(8, 4))\n",
    "sns.barplot(x=list(range(12)), y=pc_mean.values)\n",
    "plt.title('Average Pitch-Class Distribution')\n",
    "plt.xlabel('Pitch Class')\n",
    "plt.ylabel('Proportion')\n",
    "plt.show()"
   ]
  },
  {
   "cell_type": "markdown",
   "metadata": {},
   "source": [
    "## Statistics to Note\n",
    "- Average simultaneous notes (polyphony) peaks around 2.5-3.0; maximum polyphony is frequently 4.\n",
    "- Songs are consistently at 120 BPM with very little tempo variation.\n",
    "- Prominent pitch classes include D (most frequent), C, D#, E, G, and A. This suggests keys like D Major or G Major might be common. Assumed 4/4 time.\n",
    "- Note durations: 25% of notes are shorter than ~0.25s, the median is ~0.5s, and 75% of notes are shorter than ~0.75s.\n",
    "- The average time between the start of consecutive notes (IOI) is low, peaking around 0.25-0.3 seconds."
   ]
  },
  {
   "cell_type": "markdown",
   "metadata": {},
   "source": [
    "# Section 2: Modeling \n",
    "1. Context\n",
    "- ...\n",
    "\n",
    "2. Discussion\n",
    "- Baseline Model:\n",
    "  - \n",
    "  - Pros: \n",
    "    - \n",
    "  - Cons:\n",
    "    - \n",
    "- Markov\n",
    "  - \n",
    "  - Pros\n",
    "    - \n",
    "  - Cons:\n",
    "    - \n",
    "- LSTM \n",
    "  - \n",
    "    - Pros: \n",
    "      - \n",
    "    - Cons:\n",
    "      - \n",
    "- Transformer\n",
    "  - \n",
    "    - Pros:\n",
    "      -\n",
    "    - Cons:\n",
    "      -\n",
    "- Complexity: \n",
    "- Efficiency: \n",
    "- Implementaiton challenges:\n",
    "  - Random:\n",
    "  - Markov: \n",
    "  - LSTM: \n",
    "  - Transformer\n",
    "\n",
    "# Code Walk Through"
   ]
  },
  {
   "cell_type": "code",
   "execution_count": 20,
   "metadata": {},
   "outputs": [],
   "source": [
    "import os\n",
    "import glob\n",
    "import random\n",
    "from collections import defaultdict\n",
    "\n",
    "import numpy as np\n",
    "import torch\n",
    "import torch.nn as nn\n",
    "import torch.nn.functional as F\n",
    "from torch.utils.data import Dataset, DataLoader\n",
    "\n",
    "import pretty_midi\n",
    "import mido\n",
    "from symusic import Score\n",
    "from miditok import REMI, TokenizerConfig\n",
    "from midiutil import MIDIFile\n",
    "from tqdm import tqdm\n",
    "setattr(np, 'int', int)"
   ]
  },
  {
   "cell_type": "code",
   "execution_count": 22,
   "metadata": {},
   "outputs": [
    {
     "name": "stdout",
     "output_type": "stream",
     "text": [
      "[INFO] Using device: mps\n",
      "\n"
     ]
    }
   ],
   "source": [
    "device = torch.device(\"mps\" if torch.mps.is_available() else\"cpu\")\n",
    "print(f\"[INFO] Using device: {device}\\n\")"
   ]
  },
  {
   "cell_type": "code",
   "execution_count": 23,
   "metadata": {},
   "outputs": [
    {
     "data": {
      "text/plain": [
       "<torch._C.Generator at 0x336e16750>"
      ]
     },
     "execution_count": 23,
     "metadata": {},
     "output_type": "execute_result"
    }
   ],
   "source": [
    "random.seed(1)\n",
    "np.random.seed(1)\n",
    "torch.manual_seed(1)"
   ]
  },
  {
   "cell_type": "code",
   "execution_count": 86,
   "metadata": {},
   "outputs": [
    {
     "name": "stdout",
     "output_type": "stream",
     "text": [
      "\n",
      "\n",
      "\n"
     ]
    }
   ],
   "source": [
    "# Initial tokenization happening in this block\n",
    "midi_files = cleaned_paths\n",
    "len(midi_files)\n",
    "config = TokenizerConfig(num_velocities=1, use_chords=False)\n",
    "tokenizer = REMI(config) \n",
    "tokenizer.train(vocab_size=1000, files_paths=midi_files)"
   ]
  },
  {
   "cell_type": "code",
   "execution_count": 87,
   "metadata": {},
   "outputs": [],
   "source": [
    "random.seed(1)\n",
    "random.shuffle(midi_files)\n",
    "split = int(0.9 * len(midi_files))\n",
    "train_files = midi_files[:split]\n",
    "eval_files = midi_files[split:]"
   ]
  },
  {
   "cell_type": "code",
   "execution_count": 88,
   "metadata": {},
   "outputs": [
    {
     "data": {
      "text/plain": [
       "['Bar_None',\n",
       " 'Position_31',\n",
       " 'Pitch_73',\n",
       " 'Velocity_127',\n",
       " 'Duration_0.2.8',\n",
       " 'Bar_None',\n",
       " 'Position_1',\n",
       " 'Pitch_74',\n",
       " 'Velocity_127',\n",
       " 'Duration_0.3.8']"
      ]
     },
     "execution_count": 88,
     "metadata": {},
     "output_type": "execute_result"
    }
   ],
   "source": [
    "midi = Score(midi_files[0])\n",
    "tokens = tokenizer(midi)[0].tokens\n",
    "tokens[:10]"
   ]
  },
  {
   "cell_type": "code",
   "execution_count": 89,
   "metadata": {},
   "outputs": [
    {
     "name": "stdout",
     "output_type": "stream",
     "text": [
      "{80, 81, 38, 121}\n",
      "{'no', 'p2', 'tr', 'p1'}\n",
      "{(81, 'p2'), (38, 'tr'), (121, 'no'), (80, 'p1')}\n"
     ]
    }
   ],
   "source": [
    "from symusic import Score\n",
    "import os\n",
    "\n",
    "# Path to your MIDI file\n",
    "programs = set()\n",
    "names = set()\n",
    "pair = set()\n",
    "for path in cleaned_paths:\n",
    "    score = Score(path)\n",
    "    if score.tracks:\n",
    "        for track in score.tracks:\n",
    "            programs.add(track.program)\n",
    "            names.add(track.name)\n",
    "            pair.add((track.program, track.name))\n",
    "\n",
    "print(programs)\n",
    "print(names)\n",
    "print(pair)\n"
   ]
  },
  {
   "cell_type": "code",
   "execution_count": 90,
   "metadata": {},
   "outputs": [],
   "source": [
    "def note_extraction(midi_file):\n",
    "    score = Score(midi_file)\n",
    "    tokens = tokenizer(score)[0].tokens\n",
    "    pitches = [int(t.split('_')[1]) for t in tokens if t.startswith(\"Pitch_\")]\n",
    "    return pitches\n",
    "\n",
    "def note_frequency(train_files):\n",
    "    freq = defaultdict(int)\n",
    "    for file in tqdm(train_files):\n",
    "        for pitch in note_extraction(file):\n",
    "            freq[pitch] += 1\n",
    "    return dict(freq)\n",
    "\n",
    "def note_unigram_probability(train_files):\n",
    "    note_counts = note_frequency(train_files)\n",
    "    totalNotes = sum(note_counts.values())\n",
    "    unigramProbabilities = {note : count/ totalNotes for note, count in note_counts.items()}\n",
    "\n",
    "    \n",
    "    return unigramProbabilities\n",
    "\n",
    "def note_bigram_probability(train_files):\n",
    "\n",
    "    bigramTransitions = defaultdict(list)\n",
    "    bigramTransitionProbabilities = defaultdict(list)\n",
    "\n",
    "    bigramCounts = defaultdict(lambda: defaultdict(int))\n",
    "    for file in train_files:\n",
    "        pitches = note_extraction(file)\n",
    "        for i, j in zip(pitches, pitches[1:]):\n",
    "            bigramCounts[i][j] += 1\n",
    "\n",
    "    T = {}\n",
    "    P = {}\n",
    "    for prev, next in bigramCounts.items():\n",
    "        nextNotes = list(next.keys())\n",
    "        counts = list(next.values())\n",
    "        total = sum(counts)\n",
    "        prob = [c/total for c in counts]\n",
    "        bigramTransitions[prev] = nextNotes\n",
    "        bigramTransitionProbabilities[prev] =  prob \n",
    "\n",
    "    \n",
    "\n",
    "    return bigramTransitions, bigramTransitionProbabilities\n",
    "\n",
    "def sample_next_note(note):\n",
    "    bigramTransitions, bigramTransitionProbabilities = note_bigram_probability(train_files)\n",
    "    next = bigramTransitions.get(note)\n",
    "    probs = bigramTransitionProbabilities.get(note)\n",
    "    return random.choices(next, weights=probs, k=1)[0]\n",
    "\n",
    "def note_trigram_probability(train_files):\n",
    "    trigramTransitions = defaultdict(list)\n",
    "    trigramTransitionProbabilities = defaultdict(list)\n",
    "    \n",
    "    trigram_counts = defaultdict(lambda: defaultdict(int))\n",
    "    for file in train_files:\n",
    "        pitch = note_extraction(file)\n",
    "        for i in range(2, len(pitch)):\n",
    "            note = (pitch[i-2], pitch[i-1])\n",
    "            trigram_counts[note][pitch[i]] += 1\n",
    "    for note, next_dict in trigram_counts.items():\n",
    "        notes  = list(next_dict.keys())\n",
    "        counts = list(next_dict.values())\n",
    "        total  = sum(counts)\n",
    "        probs  = [c/total for c in counts]\n",
    "\n",
    "        trigramTransitions[note] = notes\n",
    "        trigramTransitionProbabilities[note] = probs\n",
    "\n",
    "    return trigramTransitions, trigramTransitionProbabilities\n",
    "\n",
    "duration2length = {\n",
    "    '0.1.8': 1, '0.2.8': 2,'0.3.8': 3,'0.4.8': 4,'0.5.8': 5,'0.6.8': 6,'0.7.8': 7,'1.0.8': 8,'1.1.8': 9,'1.2.8': 10,'1.3.8': 11,\n",
    "    '1.4.8': 12,'1.5.8': 13,'1.6.8': 14,'1.7.8': 15,'2.0.8': 16,'2.1.8': 17,'2.2.8': 18,'2.3.8': 19,'2.4.8': 20,'2.5.8': 21,\n",
    "    '2.6.8': 22,'2.7.8': 23,'3.0.8': 24,'3.1.8': 25,'3.2.8': 26,'3.3.8': 27,'3.4.8': 28,'3.5.8': 29,'3.6.8': 30,'3.7.8': 31,\n",
    "    '4.0.4': 32,'4.1.4': 34,'4.2.4': 36,'4.3.4': 38,'5.0.4': 40,'5.1.4': 42,'5.2.4': 44,'5.3.4': 46,'6.0.4': 48,'6.1.4': 50,\n",
    "    '6.2.4': 52,'6.3.4': 54,'7.0.4': 56,'7.1.4': 58,'7.2.4': 60,'7.3.4': 62,'8.0.4': 64,'8.1.4': 66,'8.2.4': 68,'8.3.4': 70,\n",
    "    '9.0.4': 72,'9.1.4': 74,'9.2.4': 76,'9.3.4': 78,'10.0.4': 80,'10.1.4': 82,'10.2.4': 84,'10.3.4': 86,'11.0.4': 88,\n",
    "    '11.1.4': 90,'11.2.4': 92,'11.3.4': 94,'12.0.4': 96\n",
    "}\n",
    "\n",
    "def beat_extraction(midi_file):\n",
    "    score  = Score(midi_file)\n",
    "    tokens = tokenizer(score)[0].tokens\n",
    "    output = []\n",
    "\n",
    "    for i, tok in enumerate(tokens):\n",
    "        if tok.startswith(\"Position_\"):\n",
    "            position = int(tok.split(\"_\",1)[1])\n",
    "\n",
    "            if i+3 < len(tokens) and tokens[i+3].startswith(\"Duration_\"):\n",
    "                dur_str = tokens[i+3].split(\"_\",1)[1]\n",
    "                length = duration2length.get(dur_str, 0)\n",
    "\n",
    "                if length > 0:\n",
    "                    output.append((position, length))\n",
    "    return output\n",
    "\n",
    "def mapped_length_frequency(train_files):\n",
    "    freq = defaultdict(int)\n",
    "    for file_path in tqdm(train_files):\n",
    "        extracted_beats = beat_extraction(file_path) \n",
    "        for _, length_val in extracted_beats:\n",
    "            freq[length_val] += 1\n",
    "    return dict(freq)\n",
    "\n",
    "def beat_bigram_probability(train_files):\n",
    "    bigramBeatTransitions = defaultdict(list)\n",
    "    bigramBeatTransitionProbabilities = defaultdict(list)\n",
    "    counts = defaultdict(lambda: defaultdict(int))\n",
    "    for file in train_files:\n",
    "        beat = beat_extraction(file)\n",
    "        lengths = [length for _,length in beat]\n",
    "        for i,j in zip(lengths, lengths[1:]):\n",
    "            counts[i][j] += 1\n",
    "    for prev, next in counts.items():\n",
    "        nextVal = list(next.keys())\n",
    "        cnts = list(next.values())\n",
    "        total = sum(cnts)\n",
    "        probs = [c/total for c in cnts]\n",
    "        bigramBeatTransitions[prev] = nextVal\n",
    "        bigramBeatTransitionProbabilities[prev] = probs\n",
    "    \n",
    "    return bigramBeatTransitions, bigramBeatTransitionProbabilities\n",
    "\n",
    "def beat_pos_bigram_probability(train_files):\n",
    "    bigramBeatPosTransitions = defaultdict(list)\n",
    "    bigramBeatPosTransitionProbabilities = defaultdict(list)\n",
    "    \n",
    "    counts = defaultdict(lambda: defaultdict(int))\n",
    "    for file in train_files:\n",
    "        for position, length in beat_extraction(file):\n",
    "            counts[position][length] += 1\n",
    "\n",
    "    \n",
    "    for position, length in counts.items():\n",
    "        vals  = list(length.keys())\n",
    "        cnts  = list(length.values())\n",
    "        total = sum(cnts)\n",
    "        probs = [c/total for c in cnts]\n",
    "        bigramBeatPosTransitions[position]= vals\n",
    "        bigramBeatPosTransitionProbabilities[position] = probs\n",
    "\n",
    "    return bigramBeatPosTransitions, bigramBeatPosTransitionProbabilities\n",
    "\n",
    "def beat_trigram_probability(train_files):\n",
    "    trigramBeatTransitions = defaultdict(list)\n",
    "    trigramBeatTransitionProbabilities = defaultdict(list)\n",
    "\n",
    "    trigram_counts = defaultdict(lambda: defaultdict(int))\n",
    "    for file in train_files:\n",
    "        beats = beat_extraction(file)\n",
    "        for (prev_pos, prev_len), (pos, length) in zip(beats, beats[1:]):\n",
    "            pair = (prev_len, pos)\n",
    "            trigram_counts[pair][length] += 1\n",
    "\n",
    "    trigramBeatTransitions = {}\n",
    "    trigramBeatTransitionProbabilities = {}\n",
    "    for pair, next in trigram_counts.items():\n",
    "        next_lengths = list(next.keys())\n",
    "        counts = list(next.values())\n",
    "        total = sum(counts)\n",
    "        probs = [c/total for c in counts]\n",
    "        trigramBeatTransitions[pair] = next_lengths\n",
    "        trigramBeatTransitionProbabilities[pair] = probs\n",
    "    return trigramBeatTransitions, trigramBeatTransitionProbabilities"
   ]
  },
  {
   "cell_type": "markdown",
   "metadata": {},
   "source": [
    "# Baseline Random Model"
   ]
  },
  {
   "cell_type": "code",
   "execution_count": 91,
   "metadata": {},
   "outputs": [
    {
     "name": "stderr",
     "output_type": "stream",
     "text": [
      "100%|██████████| 1811/1811 [00:19<00:00, 93.62it/s] \n"
     ]
    },
    {
     "name": "stdout",
     "output_type": "stream",
     "text": [
      "unigram pitch distribution complete\n",
      "{73: 11462, 74: 18101, 71: 17539, 69: 24922, 79: 12572, 81: 11176, 82: 5768, 77: 11947, 75: 10871, 70: 13538, 72: 19493, 66: 12477, 65: 17058, 68: 12022, 58: 11668, 98: 1986, 59: 10771, 78: 9001, 61: 8755, 57: 18980, 86: 4640, 85: 4041, 83: 6144, 84: 7107, 80: 6868, 63: 10827, 56: 5668, 54: 5237, 64: 17301, 67: 21679, 76: 16178, 60: 15378, 51: 6306, 62: 17975, 93: 3386, 106: 2379, 92: 2013, 105: 1074, 94: 1462, 55: 9417, 107: 1274, 99: 981, 95: 1456, 87: 2950, 97: 1313, 104: 659, 89: 2619, 101: 510, 90: 1721, 100: 515, 88: 5300, 91: 2516, 103: 453, 96: 1282, 102: 309, 108: 267, 52: 6140, 53: 7706, 50: 7166, 49: 4416, 48: 5614, 47: 4188, 46: 3625, 45: 4949, 44: 1831, 43: 3568, 42: 1501, 41: 2680, 40: 1681, 39: 1940, 38: 2110, 37: 818, 36: 1518, 35: 428, 34: 186, 33: 97}\n"
     ]
    },
    {
     "name": "stderr",
     "output_type": "stream",
     "text": [
      "100%|██████████| 1811/1811 [00:18<00:00, 96.92it/s] "
     ]
    },
    {
     "name": "stdout",
     "output_type": "stream",
     "text": [
      "bigram beat length distribution complete\n",
      "{2: 87502, 3: 45246, 5: 13809, 26: 1050, 24: 390, 21: 627, 8: 2997, 11: 2444, 18: 441, 19: 1318, 1: 157009, 10: 3423, 68: 36, 9: 3483, 4: 20628, 20: 393, 17: 951, 28: 320, 30: 246, 15: 1361, 6: 12961, 7: 5658, 29: 252, 14: 984, 36: 132, 40: 86, 13: 3657, 12: 913, 25: 213, 32: 221, 50: 27, 52: 195, 38: 218, 16: 1243, 70: 13, 62: 8, 22: 647, 46: 192, 54: 32, 96: 86, 27: 211, 23: 296, 60: 54, 34: 315, 48: 98, 56: 41, 31: 71, 66: 10, 86: 7, 58: 37, 42: 98, 44: 100, 64: 32, 78: 19, 84: 1, 80: 3, 94: 4, 90: 7, 76: 7, 72: 9, 92: 1, 74: 2, 88: 11, 82: 5}\n"
     ]
    },
    {
     "name": "stderr",
     "output_type": "stream",
     "text": [
      "\n"
     ]
    }
   ],
   "source": [
    "# Create a unigram pitch distribution\n",
    "pitch_distribution = note_frequency(train_files)\n",
    "print(f'unigram pitch distribution complete')\n",
    "print(pitch_distribution)\n",
    "# Create a unigram beat length distribution\n",
    "bl_distribution = mapped_length_frequency(train_files)\n",
    "print(f'unigram beat length distribution complete')\n",
    "print(bl_distribution)"
   ]
  },
  {
   "cell_type": "code",
   "execution_count": 96,
   "metadata": {},
   "outputs": [],
   "source": [
    "def generate_unigram_8bit_midi(\n",
    "    out_path: str,\n",
    "    pitch_distribution: dict,\n",
    "    bl_distribution: dict,\n",
    "    num_notes: int = 100,\n",
    "    program: int = 80,\n",
    "    channel: int = 0,\n",
    "    velocity: int = 100,\n",
    "    tpb: int = 480\n",
    "):\n",
    "    # Initialize MIDI file\n",
    "    mid = mido.MidiFile()\n",
    "    mid.ticks_per_beat = tpb\n",
    "    \n",
    "    # Create a new track\n",
    "    track = mido.MidiTrack()\n",
    "    mid.tracks.append(track)\n",
    "\n",
    "    # Add a program change message\n",
    "    track.append(mido.Message(\n",
    "        'program_change',\n",
    "        program=program,\n",
    "        time=0,\n",
    "        channel=channel\n",
    "    ))\n",
    "    # Unigram pitches\n",
    "    pitches = list(pitch_distribution.keys())\n",
    "    pitch_weights = np.array(list(pitch_distribution.values()), dtype=float)\n",
    "    pitch_probabilities = pitch_weights / np.sum(pitch_weights)\n",
    "\n",
    "    # Unigram beat lengths\n",
    "    bl_values = list(bl_distribution.keys())\n",
    "    bl_weights = np.array(list(bl_distribution.values()), dtype=float)\n",
    "    bl_probabilities = bl_weights / np.sum(bl_weights)\n",
    "\n",
    "    # Generate correct number of notes\n",
    "    for _ in range(num_notes):\n",
    "        # Randomly choose a pitch\n",
    "        chosen_pitch = random.choices(pitches, weights=pitch_probabilities, k=1)[0]\n",
    "\n",
    "        # Randomly choose a beat length\n",
    "        chosen_bl = random.choices(bl_values, weights=bl_probabilities, k=1)[0]\n",
    "        \n",
    "        # Calculate note duration in ticks\n",
    "        note_duration_ticks = int((chosen_bl / 8.0) * tpb)\n",
    "\n",
    "        # Add note_on message\n",
    "        track.append(mido.Message(\n",
    "            'note_on',\n",
    "            note=chosen_pitch,\n",
    "            velocity=velocity,\n",
    "            time=0, \n",
    "            channel=channel\n",
    "        ))\n",
    "        \n",
    "        # Add note_off message\n",
    "        track.append(mido.Message(\n",
    "            'note_off',\n",
    "            note=chosen_pitch,\n",
    "            velocity=0,\n",
    "            time=note_duration_ticks,\n",
    "            channel=channel\n",
    "        ))\n",
    "\n",
    "    # Add End-Of-Track meta message\n",
    "    track.append(mido.MetaMessage('end_of_track', time=0))\n",
    "    \n",
    "    # Save the MIDI file\n",
    "    mid.save(out_path)\n",
    "    print(f\"Generated MIDI file saved to: {out_path}\")"
   ]
  },
  {
   "cell_type": "code",
   "execution_count": 97,
   "metadata": {},
   "outputs": [
    {
     "name": "stdout",
     "output_type": "stream",
     "text": [
      "Generated MIDI file saved to: unigram_8bit_midi.mid\n"
     ]
    }
   ],
   "source": [
    "generate_unigram_8bit_midi(\n",
    "    out_path = 'unigram_8bit_midi.mid',\n",
    "    pitch_distribution = pitch_distribution,\n",
    "    bl_distribution = bl_distribution,\n",
    "    num_notes = 100,\n",
    ")"
   ]
  },
  {
   "cell_type": "markdown",
   "metadata": {},
   "source": [
    "# Markov Chain Generation"
   ]
  },
  {
   "cell_type": "code",
   "execution_count": 104,
   "metadata": {},
   "outputs": [
    {
     "name": "stderr",
     "output_type": "stream",
     "text": [
      "100%|██████████| 1811/1811 [00:18<00:00, 99.31it/s] \n"
     ]
    },
    {
     "name": "stdout",
     "output_type": "stream",
     "text": [
      "ngram probabilities complete\n",
      "beat probabilities complete\n"
     ]
    }
   ],
   "source": [
    "# Calculate ngram probabilities for notes\n",
    "unigram_pitches_probs = note_unigram_probability(train_files)\n",
    "bigram_pitches_transitions, bigram_pitches_probs_map = note_bigram_probability(train_files)\n",
    "trigram_pitches_transitions, trigram_pitches_probs_map = note_trigram_probability(train_files)\n",
    "print(f'ngram probabilities complete')\n",
    "\n",
    "# Calculate probabilities for beats (durations)\n",
    "beat_pos_transitions, beat_pos_probs_map = beat_pos_bigram_probability(train_files)\n",
    "print(f'beat probabilities complete')\n",
    "notes_sequence = []\n",
    "beat_lengths_bl_sequence = []\n",
    "\n",
    "def generate_markov_8bit_midi(\n",
    "    out_path: str,\n",
    "    train_files: list,\n",
    "    num_events: int = 100,\n",
    "    program: int = 80,\n",
    "    channel: int = 0,\n",
    "    velocity: int = 100,\n",
    "    tpb: int = 480\n",
    "):\n",
    "    # Initialize MIDI file\n",
    "    mid = mido.MidiFile()\n",
    "    mid.ticks_per_beat = tpb\n",
    "    \n",
    "    # Create a new track\n",
    "    track = mido.MidiTrack()\n",
    "    mid.tracks.append(track)\n",
    "\n",
    "    # Add program change \n",
    "    track.append(mido.Message(\n",
    "        'program_change',\n",
    "        program=program,\n",
    "        time=0,\n",
    "        channel=channel\n",
    "    ))\n",
    "\n",
    "    # Generate notes\n",
    "    for i in tqdm(range(num_events)):\n",
    "        next_possible_pitches = []\n",
    "        weights = []\n",
    "        \n",
    "        if i == 0:\n",
    "            next_possible_pitches = list(unigram_pitches_probs.keys())\n",
    "            weights = list(unigram_pitches_probs.values())\n",
    "        elif i == 1:\n",
    "            prev_note = notes_sequence[-1]\n",
    "            next_possible_pitches = bigram_pitches_transitions.get(prev_note)\n",
    "            weights = bigram_pitches_probs_map.get(prev_note)\n",
    "        else:\n",
    "            prev_prev_note = notes_sequence[-2]\n",
    "            prev_note = notes_sequence[-1]\n",
    "            current_trigram_pair = (prev_prev_note, prev_note)\n",
    "            \n",
    "            next_possible_pitches = trigram_pitches_transitions.get(current_trigram_pair)\n",
    "            weights = trigram_pitches_probs_map.get(current_trigram_pair)\n",
    "        \n",
    "        # Choose a note\n",
    "        chosen_note = random.choices(next_possible_pitches, weights=weights, k=1)[0]\n",
    "        notes_sequence.append(chosen_note)\n",
    "\n",
    "    # Generate beats\n",
    "    current_beat_position = 0\n",
    "    for _ in tqdm(range(num_events)):\n",
    "        next_possible_bls = beat_pos_transitions.get(current_beat_position)\n",
    "        beat_weights = beat_pos_probs_map.get(current_beat_position)\n",
    "        chosen_bl = random.choices(next_possible_bls, weights=beat_weights, k=1)[0]\n",
    "        \n",
    "        beat_lengths_bl_sequence.append(chosen_bl)\n",
    "        current_beat_position = (current_beat_position + chosen_bl) % 32\n",
    "\n",
    "    # Append notes to MIDI track\n",
    "    for pitch, bl_value in tqdm(zip(notes_sequence, beat_lengths_bl_sequence)):\n",
    "        dur_beats = bl_value / 8.0 \n",
    "        note_duration_ticks = int(dur_beats * tpb)\n",
    "\n",
    "        track.append(mido.Message(\n",
    "            'note_on',\n",
    "            note=pitch,\n",
    "            velocity=velocity,\n",
    "            time=0, \n",
    "            channel=channel\n",
    "        ))\n",
    "        \n",
    "        track.append(mido.Message(\n",
    "            'note_off',\n",
    "            note=pitch,\n",
    "            velocity=0,\n",
    "            time=note_duration_ticks,\n",
    "            channel=channel\n",
    "        ))\n",
    "\n",
    "    track.append(mido.MetaMessage('end_of_track', time=0))\n",
    "    \n",
    "    mid.save(out_path)"
   ]
  },
  {
   "cell_type": "code",
   "execution_count": 105,
   "metadata": {},
   "outputs": [
    {
     "name": "stderr",
     "output_type": "stream",
     "text": [
      "100%|██████████| 100/100 [00:00<00:00, 396437.05it/s]\n",
      "100%|██████████| 100/100 [00:00<00:00, 271651.81it/s]\n",
      "100it [00:00, 158037.08it/s]\n"
     ]
    }
   ],
   "source": [
    "generate_markov_8bit_midi(\n",
    "    out_path = 'markov_8bit_midi.mid',\n",
    "    train_files = train_files,\n",
    "    num_events = 100,\n",
    ")"
   ]
  },
  {
   "cell_type": "markdown",
   "metadata": {},
   "source": [
    "# LSTM Model Generation"
   ]
  },
  {
   "cell_type": "code",
   "execution_count": 111,
   "metadata": {},
   "outputs": [],
   "source": [
    "# helper function to convert midi to token ids\n",
    "def midi_to_token_ids(path, tokenizer):\n",
    "    score  = Score(path)\n",
    "    tokens = tokenizer(score)[0].tokens\n",
    "    # look up each token in the tokenizer’s vocab\n",
    "    return [tokenizer.vocab[t] for t in tokens]\n",
    "\n",
    "# LSTM model\n",
    "class REMILanguageModel(nn.Module):\n",
    "    def __init__(self, vocab_size, emb_size=256, hidden_size=512, n_layers=2, dropout=0.1): # Added dropout, renamed hidden\n",
    "        super().__init__()\n",
    "        self.vocab_size = vocab_size\n",
    "        self.emb_size = emb_size\n",
    "        self.hidden_size = hidden_size\n",
    "        self.n_layers = n_layers\n",
    "\n",
    "        # Create token embedding layer, map the tokens to the emb_size, \n",
    "        # will learn tokens such as pitch, duration, etc.\n",
    "        self.embedding = nn.Embedding(vocab_size, emb_size)\n",
    "        # Create LSTM layers\n",
    "        self.lstm = nn.LSTM(emb_size, hidden_size, n_layers, \n",
    "                            batch_first=True, dropout=dropout if n_layers > 1 else 0)\n",
    "        # Decrease overfit\n",
    "        self.dropout = nn.Dropout(dropout)\n",
    "        # Project vector back into logits for classification and generation\n",
    "        self.fc = nn.Linear(hidden_size, vocab_size)\n",
    "\n",
    "    def forward(self, x, hidden_state=None):\n",
    "        # Get embedding\n",
    "        embedded = self.embedding(x)\n",
    "        # Run LSTM\n",
    "        lstm_out, hidden_state = self.lstm(embedded, hidden_state)\n",
    "        # Dropout\n",
    "        out_dropped = self.dropout(lstm_out)\n",
    "        # Project output\n",
    "        logits = self.fc(out_dropped)\n",
    "        return logits, hidden_state"
   ]
  },
  {
   "cell_type": "code",
   "execution_count": 112,
   "metadata": {},
   "outputs": [],
   "source": [
    "# --- Dataset Class (Your version) ---\n",
    "class SeqDataset(Dataset):\n",
    "    def __init__(self, data, seq_len=128):\n",
    "        self.token_ids_tensor = torch.tensor(data, dtype=torch.long) # Ensure dtype is long for embedding\n",
    "        self.corpus_len = len(self.token_ids_tensor)\n",
    "        self.seq_len = seq_len\n",
    "\n",
    "    def __len__(self):\n",
    "        # Number of sequences we can create\n",
    "        return (self.corpus_len - 1) // self.seq_len \n",
    "\n",
    "    def __getitem__(self, i):\n",
    "        start_idx = i * self.seq_len\n",
    "        # Input sequence\n",
    "        x = self.token_ids_tensor[start_idx : start_idx + self.seq_len]\n",
    "        # Target sequence (shifted by one token)\n",
    "        y = self.token_ids_tensor[start_idx + 1 : start_idx + 1 + self.seq_len]\n",
    "        return x, y"
   ]
  },
  {
   "cell_type": "code",
   "execution_count": 113,
   "metadata": {},
   "outputs": [],
   "source": [
    "def train_epoch(model, dataloader, optimizer, criterion, device, vocab_size_for_loss_reshape):\n",
    "    model.train()\n",
    "    total_loss = 0\n",
    "    for x, y in tqdm(dataloader):\n",
    "        x = x.to(device) # Target shape: [batch_size, seq_len]\n",
    "        y = y.to(device) # Target shape: [batch_size, seq_len]\n",
    "        \n",
    "        logits, _ = model(x)\n",
    "        \n",
    "        # Reshape logits and y\n",
    "        loss = criterion(logits.view(-1, vocab_size_for_loss_reshape), y.view(-1))\n",
    "        \n",
    "        # Carry out step\n",
    "        optimizer.zero_grad()\n",
    "        loss.backward()\n",
    "        torch.nn.utils.clip_grad_norm_(model.parameters(), 0.5) # Optional: Gradient clipping\n",
    "        optimizer.step()\n",
    "        \n",
    "        total_loss += loss.item()\n",
    "        \n",
    "    return total_loss / len(dataloader)\n",
    "\n",
    "def evaluate_model(model, dataloader, criterion, device, vocab_size_for_loss_reshape):\n",
    "    model.eval()\n",
    "    total_loss = 0\n",
    "    with torch.no_grad():\n",
    "        for x, y in dataloader:\n",
    "            x = x.to(device)\n",
    "            y = y.to(device)\n",
    "            \n",
    "            logits, _ = model(x) # logits shape: [batch_size, seq_len, vocab_size]\n",
    "            \n",
    "            loss = criterion(logits.view(-1, vocab_size_for_loss_reshape), y.view(-1))\n",
    "            total_loss += loss.item()\n",
    "            \n",
    "    return total_loss / len(dataloader)"
   ]
  },
  {
   "cell_type": "code",
   "execution_count": 116,
   "metadata": {},
   "outputs": [
    {
     "data": {
      "application/vnd.jupyter.widget-view+json": {
       "model_id": "a22b577726a04da49c7267780dd74186",
       "version_major": 2,
       "version_minor": 0
      },
      "text/plain": [
       "  0%|          | 0/1811 [00:00<?, ?it/s]"
      ]
     },
     "metadata": {},
     "output_type": "display_data"
    },
    {
     "name": "stdout",
     "output_type": "stream",
     "text": [
      "Finish preparing train files\n"
     ]
    },
    {
     "data": {
      "application/vnd.jupyter.widget-view+json": {
       "model_id": "f017aa14d2f140aaa63391c31a8672a5",
       "version_major": 2,
       "version_minor": 0
      },
      "text/plain": [
       "  0%|          | 0/202 [00:00<?, ?it/s]"
      ]
     },
     "metadata": {},
     "output_type": "display_data"
    },
    {
     "name": "stdout",
     "output_type": "stream",
     "text": [
      "Finish preparing eval files\n"
     ]
    }
   ],
   "source": [
    "all_ids_train = []\n",
    "bar_id   = tokenizer.vocab[\"Bar_None\"]\n",
    "\n",
    "for f in tqdm(train_files):\n",
    "    all_ids_train.extend(midi_to_token_ids(f, tokenizer))\n",
    "    all_ids_train.append(bar_id)\n",
    "print('Finish preparing train files')\n",
    "\n",
    "all_ids_eval = []\n",
    "for f in tqdm(eval_files):\n",
    "    all_ids_eval.extend(midi_to_token_ids(f, tokenizer))\n",
    "    all_ids_eval.append(bar_id)\n",
    "print('Finish preparing eval files')\n",
    "\n",
    "train_ds = SeqDataset(all_ids_train, seq_len=256)\n",
    "val_ds   = SeqDataset(all_ids_eval,   seq_len=256)\n",
    "train_loader = DataLoader(train_ds, batch_size=16, shuffle=True,  drop_last=True)\n",
    "val_loader   = DataLoader(val_ds,   batch_size=16, shuffle=False, drop_last=True)\n"
   ]
  },
  {
   "cell_type": "code",
   "execution_count": 160,
   "metadata": {},
   "outputs": [
    {
     "name": "stdout",
     "output_type": "stream",
     "text": [
      "\n",
      "--- Training for 10 epochs ---\n",
      "\tEpoch 1/10 - Train Loss: 1.8606 (PPL: 6.43) | Val Loss: 1.3932 (PPL: 4.03) | LR: 0.001000\n",
      "\tEpoch 2/10 - Train Loss: 1.2909 (PPL: 3.64) | Val Loss: 1.2485 (PPL: 3.49) | LR: 0.001000\n",
      "\tEpoch 3/10 - Train Loss: 1.1576 (PPL: 3.18) | Val Loss: 1.1739 (PPL: 3.23) | LR: 0.001000\n",
      "\tEpoch 4/10 - Train Loss: 1.0792 (PPL: 2.94) | Val Loss: 1.1447 (PPL: 3.14) | LR: 0.001000\n",
      "\tEpoch 5/10 - Train Loss: 1.0256 (PPL: 2.79) | Val Loss: 1.1264 (PPL: 3.08) | LR: 0.001000\n",
      "\tEpoch 6/10 - Train Loss: 0.9854 (PPL: 2.68) | Val Loss: 1.1132 (PPL: 3.04) | LR: 0.001000\n",
      "\tEpoch 7/10 - Train Loss: 0.9526 (PPL: 2.59) | Val Loss: 1.1069 (PPL: 3.03) | LR: 0.001000\n",
      "\tEpoch 8/10 - Train Loss: 0.9247 (PPL: 2.52) | Val Loss: 1.1070 (PPL: 3.03) | LR: 0.001000\n",
      "\tEpoch 9/10 - Train Loss: 0.9003 (PPL: 2.46) | Val Loss: 1.1080 (PPL: 3.03) | LR: 0.001000\n",
      "\tEpoch 10/10 - Train Loss: 0.8801 (PPL: 2.41) | Val Loss: 1.1087 (PPL: 3.03) | LR: 0.000700\n",
      "Training finished.\n"
     ]
    }
   ],
   "source": [
    "\n",
    "model = REMILanguageModel(tokenizer.vocab_size).to(device)\n",
    "opt   = torch.optim.Adam(model.parameters(), 1e-3)\n",
    "sch   = torch.optim.lr_scheduler.StepLR(opt, step_size=10, gamma=0.7)\n",
    "ce    = nn.CrossEntropyLoss()\n",
    "\n",
    "NUM_EPOCHS = 10 # Define or get from elsewhere\n",
    "train_loss_history = []\n",
    "val_loss_history = []\n",
    "# Optional: Learning Rate Scheduler\n",
    "# scheduler = torch.optim.lr_scheduler.StepLR(opt, step_size=1, gamma=0.90) \n",
    "\n",
    "print(f\"\\n--- Training for {NUM_EPOCHS} epochs ---\")\n",
    "# Ensure vocab_size used in train_epoch and evaluate_model matches model's output dimension\n",
    "# This should be the same vocab_size used when defining the model.\n",
    "effective_vocab_size = model.fc.out_features # Get vocab_size from the model's last layer\n",
    "\n",
    "for epoch in range(1, NUM_EPOCHS + 1): # Start epoch from 1 for printing\n",
    "    avg_train_loss = train_epoch(model, train_loader, opt, ce, device, effective_vocab_size)\n",
    "    avg_val_loss = evaluate_model(model, val_loader, ce, device, effective_vocab_size) # Assuming val_loader exists\n",
    "    \n",
    "    train_loss_history.append(avg_train_loss)\n",
    "    val_loss_history.append(avg_val_loss)\n",
    "\n",
    "    if sch: # If you add a scheduler\n",
    "        sch.step()\n",
    "\n",
    "    # Perplexity calculation (handle potential math errors for display)\n",
    "    try:\n",
    "        train_ppl = math.exp(avg_train_loss)\n",
    "    except (OverflowError, ValueError): # Catches large values or NaN/inf from loss\n",
    "        train_ppl = float('inf') # Or float('nan')\n",
    "        \n",
    "    try:\n",
    "        val_ppl = math.exp(avg_val_loss)\n",
    "    except (OverflowError, ValueError):\n",
    "        val_ppl = float('inf') # Or float('nan')\n",
    "\n",
    "    current_lr = opt.param_groups[0]['lr']\n",
    "\n",
    "    print(f\"\\tEpoch {epoch}/{NUM_EPOCHS} - Train Loss: {avg_train_loss:.4f} (PPL: {train_ppl:.2f}) | \"\n",
    "          f\"Val Loss: {avg_val_loss:.4f} (PPL: {val_ppl:.2f}) | \"\n",
    "          f\"LR: {current_lr:.6f}\")\n",
    "    \n",
    "print(\"Training finished.\")"
   ]
  },
  {
   "cell_type": "code",
   "execution_count": 161,
   "metadata": {},
   "outputs": [
    {
     "data": {
      "image/png": "[encoded data removed]",
      "text/plain": [
       "<Figure size 1200x500 with 2 Axes>"
      ]
     },
     "metadata": {},
     "output_type": "display_data"
    }
   ],
   "source": [
    "# --- Plotting (can be in a separate cell) ---\n",
    "import matplotlib.pyplot as plt\n",
    "plt.figure(figsize=(12, 5))\n",
    "plt.subplot(1, 2, 1)\n",
    "plt.plot(train_loss_history, label='Train Loss')\n",
    "plt.plot(val_loss_history, label='Validation Loss')\n",
    "plt.xlabel('Epoch')\n",
    "plt.ylabel('Loss')\n",
    "plt.legend()\n",
    "plt.title('Loss Over Epochs')\n",
    "\n",
    "plt.subplot(1, 2, 2)\n",
    "train_ppl_history = [math.exp(l) if not (math.isnan(l) or math.isinf(l) or abs(l) > 20) else float('nan') for l in train_loss_history]\n",
    "val_ppl_history = [math.exp(l) if not (math.isnan(l) or math.isinf(l) or abs(l) > 20) else float('nan') for l in val_loss_history]\n",
    "plt.plot(train_ppl_history, label='Train PPL')\n",
    "plt.plot(val_ppl_history, label='Validation PPL')\n",
    "plt.xlabel('Epoch')\n",
    "plt.ylabel('Perplexity')\n",
    "plt.legend()\n",
    "plt.title('Perplexity Over Epochs')\n",
    "plt.tight_layout()\n",
    "plt.show()"
   ]
  },
  {
   "cell_type": "code",
   "execution_count": 162,
   "metadata": {},
   "outputs": [],
   "source": [
    "def sample_tokens_from_start_lstm(\n",
    "    model: REMILanguageModel,      # Your trained LSTM model\n",
    "    tokenizer,                  # Your MidiTok tokenizer (callable for conversions)\n",
    "    device: torch.device,\n",
    "    num_tokens_to_generate: int, # Total number of tokens to generate including start\n",
    "    start_token_str: str = \"BOS_None\", \n",
    "    top_k: int = 10,\n",
    "    temperature: float = 1.0\n",
    "):\n",
    "    model.eval()\n",
    "    model = model.to(device)\n",
    "    \n",
    "    generated_ids = []\n",
    "\n",
    "    # Get the ID for the start token\n",
    "    # try:\n",
    "    #     # Assumes tokenizer(\"token_string\") returns [id]\n",
    "    #     start_id_list = tokenizer(start_token_str) \n",
    "    #     if not (start_id_list and isinstance(start_id_list[0], int)):\n",
    "    #         raise ValueError(f\"Tokenizer did not return a valid ID list for start token '{start_token_str}'\")\n",
    "    #     current_input_id = start_id_list[0]\n",
    "    # except (KeyError, ValueError, TypeError, Exception) as e:\n",
    "    #     print(f\"Error getting ID for start token '{start_token_str}': {e}.\")\n",
    "    #     # Fallback if the preferred start token isn't found or tokenizer call fails\n",
    "    #     try:\n",
    "    #         if hasattr(tokenizer, 'bos_token_id') and tokenizer.bos_token_id is not None: # Check if direct attribute exists\n",
    "    #              current_input_id = tokenizer.bos_token_id\n",
    "    #              print(f\"Using fallback start token: BOS (ID: {current_input_id})\")\n",
    "    #         elif hasattr(tokenizer, 'pad_token_id') and tokenizer.pad_token_id is not None: # Last resort, less ideal\n",
    "    #              current_input_id = tokenizer.pad_token_id\n",
    "    #              print(f\"Using fallback start token: PAD (ID: {current_input_id})\")\n",
    "    #         else: # Absolute fallback\n",
    "    #             current_input_id = 0\n",
    "    #             print(f\"Using absolute fallback start token: ID 0\")\n",
    "    #     except Exception as e2:\n",
    "    #         print(f\"Critical error: Could not determine any start token ID: {e2}. Aborting.\")\n",
    "    #         return []\n",
    "    current_input_id = tokenizer.vocab.get(start_token_str)\n",
    "            \n",
    "    generated_ids.append(current_input_id)\n",
    "    input_tensor = torch.tensor([[current_input_id]], dtype=torch.long, device=device)\n",
    "    # print(f\"Starting generation with token ID: {current_input_id} ('{tokenizer(current_input_id)[0]}')\")\n",
    "\n",
    "\n",
    "    with torch.no_grad():\n",
    "        # Generate num_tokens_to_generate - 1 new tokens, as the start token is already included\n",
    "        hidden_state = None\n",
    "        for _ in tqdm(range(num_tokens_to_generate - 1)): \n",
    "            logits, hidden_state = model(input_tensor, hidden_state)\n",
    "            last_token_logits = logits[0, -1, :] / temperature\n",
    "            \n",
    "            top_k_logits, top_k_indices = torch.topk(last_token_logits, top_k)\n",
    "            top_k_probs = F.softmax(top_k_logits, dim=-1)\n",
    "            \n",
    "            chosen_relative_index = torch.multinomial(top_k_probs, 1)\n",
    "            next_token_id = top_k_indices[chosen_relative_index.item()].item()\n",
    "            \n",
    "            generated_ids.append(next_token_id)\n",
    "            input_tensor = torch.tensor([[next_token_id]], dtype=torch.long, device=device)\n",
    "            \n",
    "            # Optional: Stop if EOS token is generated\n",
    "            # if hasattr(tokenizer, 'eos_token_id') and next_token_id == tokenizer.eos_token_id:\n",
    "            #     print(\"EOS token generated. Stopping generation.\")\n",
    "            #     break\n",
    "                \n",
    "    return generated_ids\n",
    "\n",
    "# Modified note and beat extraction functions below for type checking, so that it runs on our LSTM model without issues.\n",
    "def note_extraction(midi_or_tokens):\n",
    "    # if someone passed in a bare list of tokens, just use it\n",
    "    if isinstance(midi_or_tokens, list):\n",
    "        tokens = midi_or_tokens\n",
    "    else:\n",
    "        # otherwise assume it's a file‐path or MidiFile and run Score()\n",
    "        score  = Score(midi_or_tokens)\n",
    "        tokens = tokenizer(score)[0].tokens\n",
    "\n",
    "    pitches = [int(t.split(\"_\",1)[1])\n",
    "               for t in tokens\n",
    "               if t.startswith(\"Pitch_\")]\n",
    "    return pitches\n",
    "\n",
    "def beat_extraction(midi_or_tokens):\n",
    "    if isinstance(midi_or_tokens, list):\n",
    "        tokens = midi_or_tokens\n",
    "    else:\n",
    "        score  = Score(midi_or_tokens)\n",
    "        tokens = tokenizer(score)[0].tokens\n",
    "\n",
    "    output = []\n",
    "    for i, tok in enumerate(tokens):\n",
    "        if tok.startswith(\"Position_\"):\n",
    "            pos = int(tok.split(\"_\",1)[1])\n",
    "            # find the Duration_\n",
    "            if i+3 < len(tokens) and tokens[i+3].startswith(\"Duration_\"):\n",
    "                dur_str = tokens[i+3].split(\"_\",1)[1]\n",
    "                bl      = duration2length.get(dur_str, 0)\n",
    "                if bl > 0:\n",
    "                    output.append((pos, bl))\n",
    "    return output\n",
    "\n",
    "id2token = {v:k for k,v in tokenizer.vocab.items()}\n",
    "\n",
    "# Convert from tokens back into pitches and beats\n",
    "def notes_beats_from_ids(ids: list[int]):\n",
    "    \n",
    "    # 1) decode into REMI tokens\n",
    "    events = [id2token[i] for i in ids]\n",
    "\n",
    "    # 2) fake‐up a minimal Score-like container for your old extractors\n",
    "    # class FakeScore:\n",
    "    #     def __init__(self, tokens): self.tokens = tokens\n",
    "    # fake = FakeScore(events)\n",
    "\n",
    "    # 3) reuse your existing functions\n",
    "    pitches = note_extraction(events)\n",
    "    beats   = beat_extraction(events)\n",
    "    return pitches, beats\n",
    "\n",
    "def generate_midi_lstm_from_start(\n",
    "    model: REMILanguageModel,\n",
    "    tokenizer,                      # Your trained MidiTok tokenizer instance\n",
    "    out_path: str,\n",
    "    device: torch.device,\n",
    "    notes_beats_from_ids_func,      # Your notes_beats_from_ids function\n",
    "    # sample_from_model_func,      # Not needed if we use sample_tokens_from_start_lstm\n",
    "    generation_length: int = 200,   # Total number of tokens in the generated sequence\n",
    "    start_token_str: str = \"BOS_None\", # Token to start generation from\n",
    "    top_k: int = 10,\n",
    "    temperature: float = 0.8,\n",
    "    program: int = 80,\n",
    "    channel: int = 0,\n",
    "    velocity: int = 100,\n",
    "    tpb: int = 480\n",
    "):\n",
    "    \"\"\"\n",
    "    Generates a new MIDI file from scratch using a trained LSTM model,\n",
    "    starting from a specified token.\n",
    "    Relies on the tokenizer's callable interface and user-provided helper functions.\n",
    "    \"\"\"\n",
    "\n",
    "    model.eval() # Ensure model is in eval mode\n",
    "\n",
    "    # --- Generate Token IDs ---\n",
    "    print(f\"Generating {generation_length} tokens starting with '{start_token_str}'...\")\n",
    "    generated_token_ids = sample_tokens_from_start_lstm(\n",
    "        model=model,\n",
    "        tokenizer=tokenizer,\n",
    "        device=device,\n",
    "        num_tokens_to_generate=generation_length, # Total tokens desired\n",
    "        start_token_str=start_token_str,\n",
    "        top_k=top_k,\n",
    "        temperature=temperature\n",
    "    )\n",
    "\n",
    "    if not generated_token_ids or len(generated_token_ids) < 1: # Check if any tokens were generated\n",
    "        print(\"Generation failed or produced no tokens.\")\n",
    "        return\n",
    "        \n",
    "    print(f\"Successfully generated {len(generated_token_ids)} token IDs.\")\n",
    "\n",
    "    # --- Convert Token IDs to Pitches and Beats ---\n",
    "    # notes_beats_from_ids_func is your function, relying on the global id2token\n",
    "    print(\"Converting generated token IDs to notes and beats...\")\n",
    "    try:\n",
    "        # Your notes_beats_from_ids takes a list of IDs and uses the global id2token\n",
    "        new_pitches, new_beats_pos_len = notes_beats_from_ids_func(generated_token_ids)\n",
    "    except Exception as e:\n",
    "        print(f\"Error during notes_beats_from_ids_func: {e}.\")\n",
    "        print(\"Ensure 'id2token' is correctly populated, and note/beat extraction functions are robust.\")\n",
    "        return\n",
    "        \n",
    "    new_beat_lengths = [length for (_pos, length) in new_beats_pos_len]\n",
    "\n",
    "    if not new_pitches or len(new_pitches) != len(new_beat_lengths):\n",
    "        print(f\"Warning: Mismatch or empty results after musical interpretation. Pitches: {len(new_pitches)}, BeatLs: {len(new_beat_lengths)}. Truncating.\")\n",
    "        min_len = min(len(new_pitches), len(new_beat_lengths))\n",
    "        new_pitches = new_pitches[:min_len]\n",
    "        new_beat_lengths = new_beat_lengths[:min_len]\n",
    "        if not new_pitches:\n",
    "             print(\"No musical events to write to MIDI after aligning. Aborting MIDI creation.\")\n",
    "             # Optionally create a minimal MIDI file here if desired\n",
    "             mid_empty = mido.MidiFile(ticks_per_beat=tpb)\n",
    "             track_empty = mido.MidiTrack()\n",
    "             mid_empty.tracks.append(track_empty)\n",
    "             track_empty.append(mido.Message('program_change', program=program, time=0, channel=channel))\n",
    "             track_empty.append(mido.MetaMessage('end_of_track', time=0))\n",
    "             try:\n",
    "                 mid_empty.save(out_path)\n",
    "                 print(f\"Minimal MIDI (program change only) saved to {out_path}\")\n",
    "             except Exception as e_save: print(f\"Error saving minimal MIDI: {e_save}\")\n",
    "             return\n",
    "\n",
    "\n",
    "    # --- Create New MIDI File ---\n",
    "    print(\"Constructing MIDI file...\")\n",
    "    mid = mido.MidiFile(ticks_per_beat=tpb)\n",
    "    track = mido.MidiTrack()\n",
    "    mid.tracks.append(track)\n",
    "    track.append(mido.Message('program_change', program=program, time=0, channel=channel))\n",
    "\n",
    "    for pitch, bl_value in tqdm(zip(new_pitches, new_beat_lengths)):\n",
    "        dur_beats = bl_value / 8.0 \n",
    "        note_duration_ticks = int(dur_beats * tpb)\n",
    "        track.append(mido.Message('note_on', note=pitch, velocity=velocity, time=0, channel=channel))\n",
    "        track.append(mido.Message('note_off', note=pitch, velocity=0, time=note_duration_ticks, channel=channel))\n",
    "\n",
    "    track.append(mido.MetaMessage('end_of_track', time=0))\n",
    "    \n",
    "    try:\n",
    "        mid.save(out_path)\n",
    "        print(f\"Generated LSTM MIDI file saved to: {out_path}\")\n",
    "    except Exception as e:\n",
    "        print(f\"Error saving MIDI file {out_path}: {e}\")\n"
   ]
  },
  {
   "cell_type": "code",
   "execution_count": 175,
   "metadata": {},
   "outputs": [
    {
     "name": "stdout",
     "output_type": "stream",
     "text": [
      "Generating 2000 tokens starting with 'BOS_None'...\n"
     ]
    },
    {
     "data": {
      "application/vnd.jupyter.widget-view+json": {
       "model_id": "bb045bde1910425a8da479eaf149f261",
       "version_major": 2,
       "version_minor": 0
      },
      "text/plain": [
       "  0%|          | 0/1999 [00:00<?, ?it/s]"
      ]
     },
     "metadata": {},
     "output_type": "display_data"
    },
    {
     "name": "stdout",
     "output_type": "stream",
     "text": [
      "Successfully generated 2000 token IDs.\n",
      "Converting generated token IDs to notes and beats...\n",
      "Warning: Mismatch or empty results after musical interpretation. Pitches: 590, BeatLs: 201. Truncating.\n",
      "Constructing MIDI file...\n"
     ]
    },
    {
     "data": {
      "application/vnd.jupyter.widget-view+json": {
       "model_id": "51b8ab43b1554e28b64233a3823eb5fd",
       "version_major": 2,
       "version_minor": 0
      },
      "text/plain": [
       "0it [00:00, ?it/s]"
      ]
     },
     "metadata": {},
     "output_type": "display_data"
    },
    {
     "name": "stdout",
     "output_type": "stream",
     "text": [
      "Generated LSTM MIDI file saved to: lstm_8bit_midi.mid\n"
     ]
    }
   ],
   "source": [
    "generate_midi_lstm_from_start(\n",
    "    model=model,\n",
    "    tokenizer=tokenizer,\n",
    "    out_path='lstm_8bit_midi.mid',\n",
    "    device=device,\n",
    "    notes_beats_from_ids_func=notes_beats_from_ids,\n",
    "    generation_length=2000,\n",
    "    start_token_str=\"BOS_None\",\n",
    "    top_k=50,\n",
    "    temperature=1.4\n",
    ")"
   ]
  },
  {
   "cell_type": "markdown",
   "metadata": {},
   "source": [
    "# Transformer Model Generation"
   ]
  },
  {
   "cell_type": "code",
   "execution_count": 176,
   "metadata": {},
   "outputs": [],
   "source": [
    "import math\n",
    "import torch\n",
    "import torch.nn as nn\n",
    "import torch.nn.functional as F\n",
    "\n",
    "class PositionalEncoding(nn.Module):\n",
    "    def __init__(self, d_model, dropout=0.1, max_len=5000):\n",
    "        super(PositionalEncoding, self).__init__()\n",
    "        self.dropout = nn.Dropout(p=dropout)\n",
    "\n",
    "        pe = torch.zeros(max_len, d_model)\n",
    "        position = torch.arange(0, max_len, dtype=torch.float).unsqueeze(1)\n",
    "        div_term = torch.exp(torch.arange(0, d_model, 2).float() * (-math.log(10000.0) / d_model))\n",
    "        pe[:, 0::2] = torch.sin(position * div_term)\n",
    "        pe[:, 1::2] = torch.cos(position * div_term)\n",
    "        pe = pe.unsqueeze(0).transpose(0, 1)\n",
    "        self.register_buffer('pe', pe)\n",
    "\n",
    "    def forward(self, x):\n",
    "        # x shape: [seq_len, batch_size, d_model]\n",
    "        x = x + self.pe[:x.size(0), :]\n",
    "        return self.dropout(x)\n",
    "\n",
    "class REMITransformerModel(nn.Module):\n",
    "    def __init__(self, vocab_size, emb_size=256, nhead=8, nhid=512, nlayers=6, dropout=0.2):\n",
    "        super().__init__()\n",
    "        self.model_type = 'Transformer'\n",
    "        self.emb_size = emb_size\n",
    "        self.nhead = nhead\n",
    "        self.nhid = nhid\n",
    "        self.nlayers = nlayers\n",
    "        self.dropout = dropout\n",
    "        self.embedding = nn.Embedding(vocab_size, emb_size)\n",
    "        self.pos_encoder = PositionalEncoding(emb_size, dropout)\n",
    "        \n",
    "        decoder_layers = nn.TransformerDecoderLayer(d_model=emb_size, nhead=nhead, dim_feedforward=nhid, dropout=dropout, batch_first=True)\n",
    "        self.transformer_decoder = nn.TransformerDecoder(decoder_layers, num_layers=nlayers)\n",
    "        \n",
    "        self.fc_out = nn.Linear(emb_size, vocab_size)\n",
    "\n",
    "        self.init_weights()\n",
    "\n",
    "    def _generate_square_subsequent_mask(self, sz):\n",
    "        mask = (torch.triu(torch.ones(sz, sz)) == 1).transpose(0, 1)\n",
    "        mask = mask.float().masked_fill(mask == 0, float('-inf')).masked_fill(mask == 1, float(0.0))\n",
    "        return mask\n",
    "\n",
    "    def init_weights(self):\n",
    "        initrange = 0.1\n",
    "        self.embedding.weight.data.uniform_(-initrange, initrange)\n",
    "        self.fc_out.bias.data.zero_()\n",
    "        self.fc_out.weight.data.uniform_(-initrange, initrange)\n",
    "\n",
    "    def forward(self, tgt, tgt_mask=None, memory_mask=None, tgt_key_padding_mask=None):\n",
    "\n",
    "        \n",
    "        tgt_emb = self.embedding(tgt) * math.sqrt(self.emb_size) # Shape: [batch_size, seq_len, emb_size]\n",
    "        tgt_emb = tgt_emb.transpose(0,1) # Shape: [seq_len, batch_size, emb_size] for pos_encoder\n",
    "        tgt_emb_pos = self.pos_encoder(tgt_emb) # Shape: [seq_len, batch_size, emb_size]\n",
    "        tgt_emb_pos = tgt_emb_pos.transpose(0,1) # Shape: [batch_size, seq_len, emb_size] for decoder layer\n",
    "\n",
    "        if tgt_mask is None:\n",
    "            sz = tgt.size(1) # seq_len\n",
    "            tgt_mask = self._generate_square_subsequent_mask(sz).to(tgt.device)\n",
    "\n",
    "\n",
    "        encoder_layers_for_decoder = nn.TransformerEncoderLayer(d_model=self.emb_size, nhead=self.nhead, dim_feedforward=self.nhid, dropout=self.dropout, batch_first=True)\n",
    "        self.transformer_as_decoder = nn.TransformerEncoder(encoder_layers_for_decoder, num_layers=self.nlayers)\n",
    "\n",
    "        \n",
    "        output = self.transformer_decoder(tgt=tgt_emb_pos, memory=tgt_emb_pos, \n",
    "                                          tgt_mask=tgt_mask, \n",
    "                                          tgt_key_padding_mask=tgt_key_padding_mask)\n",
    "                                          # memory_mask and memory_key_padding_mask could also be tgt_mask etc.\n",
    "\n",
    "        logits = self.fc_out(output) # Shape: [batch_size, seq_len, vocab_size]\n",
    "        return logits, None # Transformer decoder doesn't return 'hidden_state' in the same way LSTM does\n",
    "                           # It manages its state internally via attention. For sampling, we feed generated sequence.\n"
   ]
  },
  {
   "cell_type": "code",
   "execution_count": 177,
   "metadata": {},
   "outputs": [],
   "source": [
    "from tqdm import tqdm # ensure tqdm is imported\n",
    "\n",
    "def train_epoch_transformer(model, dataloader, optimizer, criterion, device, vocab_size_for_loss_reshape, pad_idx):\n",
    "    model.train()\n",
    "    total_loss = 0\n",
    "    for x, y in tqdm(dataloader, desc=\"Training\"): # x is input_seq, y is target_seq\n",
    "        x = x.to(device) # Shape: [batch_size, seq_len]\n",
    "        y = y.to(device) # Shape: [batch_size, seq_len] (shifted input)\n",
    "\n",
    "        # Create target key padding mask for 'x' (our target for the decoder)\n",
    "        # This mask indicates where PAD tokens are in the input 'x'\n",
    "        # Shape: [batch_size, seq_len]\n",
    "        tgt_key_padding_mask = (x == pad_idx) # True where x is pad_idx\n",
    "\n",
    "        # The causal mask is generated inside the model's forward method based on seq_len of x\n",
    "        \n",
    "        logits, _ = model(x, tgt_key_padding_mask=tgt_key_padding_mask) # model's forward needs tgt_mask for causality and optionally tgt_key_padding_mask\n",
    "                                                                    # tgt_mask (causal) is handled internally by model\n",
    "        \n",
    "        # Reshape logits and y for loss calculation\n",
    "        # logits shape: [batch_size, seq_len, vocab_size]\n",
    "        # y shape: [batch_size, seq_len]\n",
    "        loss = criterion(logits.view(-1, vocab_size_for_loss_reshape), y.view(-1))\n",
    "        \n",
    "        optimizer.zero_grad()\n",
    "        loss.backward()\n",
    "        torch.nn.utils.clip_grad_norm_(model.parameters(), 0.5) # Optional\n",
    "        optimizer.step()\n",
    "        \n",
    "        total_loss += loss.item()\n",
    "        \n",
    "    return total_loss / len(dataloader)\n",
    "\n",
    "def evaluate_model_transformer(model, dataloader, criterion, device, vocab_size_for_loss_reshape, pad_idx):\n",
    "    model.eval()\n",
    "    total_loss = 0\n",
    "    with torch.no_grad():\n",
    "        for x, y in tqdm(dataloader, desc=\"Evaluating\"):\n",
    "            x = x.to(device)\n",
    "            y = y.to(device)\n",
    "\n",
    "            tgt_key_padding_mask = (x == pad_idx)\n",
    "            \n",
    "            logits, _ = model(x, tgt_key_padding_mask=tgt_key_padding_mask)\n",
    "            \n",
    "            loss = criterion(logits.view(-1, vocab_size_for_loss_reshape), y.view(-1))\n",
    "            total_loss += loss.item()\n",
    "            \n",
    "    return total_loss / len(dataloader)"
   ]
  },
  {
   "cell_type": "code",
   "execution_count": 187,
   "metadata": {},
   "outputs": [
    {
     "name": "stdout",
     "output_type": "stream",
     "text": [
      "\n",
      "--- Training Transformer for 10 epochs ---\n"
     ]
    },
    {
     "name": "stderr",
     "output_type": "stream",
     "text": [
      "Training:   0%|          | 0/478 [00:00<?, ?it/s]/Users/andrewyang/miniconda3/envs/WAAK/lib/python3.10/site-packages/torch/nn/functional.py:5849: UserWarning: Support for mismatched key_padding_mask and attn_mask is deprecated. Use same type for both instead.\n",
      "  warnings.warn(\n",
      "Training: 100%|██████████| 478/478 [00:20<00:00, 23.52it/s]\n",
      "Evaluating: 100%|██████████| 57/57 [00:01<00:00, 46.92it/s]\n"
     ]
    },
    {
     "name": "stdout",
     "output_type": "stream",
     "text": [
      "\tEpoch 1/10 - Train Loss: nan (PPL: nan) | Val Loss: nan (PPL: nan) | LR: 0.000100\n"
     ]
    },
    {
     "name": "stderr",
     "output_type": "stream",
     "text": [
      "Training:  60%|██████    | 287/478 [00:11<00:07, 25.02it/s]\n"
     ]
    },
    {
     "ename": "KeyboardInterrupt",
     "evalue": "",
     "output_type": "error",
     "traceback": [
      "\u001b[0;31m---------------------------------------------------------------------------\u001b[0m",
      "\u001b[0;31mKeyboardInterrupt\u001b[0m                         Traceback (most recent call last)",
      "Cell \u001b[0;32mIn[187], line 24\u001b[0m\n\u001b[1;32m     22\u001b[0m \u001b[38;5;28mprint\u001b[39m(\u001b[38;5;124mf\u001b[39m\u001b[38;5;124m\"\u001b[39m\u001b[38;5;130;01m\\n\u001b[39;00m\u001b[38;5;124m--- Training Transformer for \u001b[39m\u001b[38;5;132;01m{\u001b[39;00mNUM_EPOCHS\u001b[38;5;132;01m}\u001b[39;00m\u001b[38;5;124m epochs ---\u001b[39m\u001b[38;5;124m\"\u001b[39m)\n\u001b[1;32m     23\u001b[0m \u001b[38;5;28;01mfor\u001b[39;00m epoch \u001b[38;5;129;01min\u001b[39;00m \u001b[38;5;28mrange\u001b[39m(\u001b[38;5;241m1\u001b[39m, NUM_EPOCHS \u001b[38;5;241m+\u001b[39m \u001b[38;5;241m1\u001b[39m):\n\u001b[0;32m---> 24\u001b[0m     avg_train_loss \u001b[38;5;241m=\u001b[39m \u001b[43mtrain_epoch_transformer\u001b[49m\u001b[43m(\u001b[49m\u001b[43mtransformer_model\u001b[49m\u001b[43m,\u001b[49m\u001b[43m \u001b[49m\u001b[43mtrain_loader\u001b[49m\u001b[43m,\u001b[49m\u001b[43m \u001b[49m\u001b[43moptimizer\u001b[49m\u001b[43m,\u001b[49m\u001b[43m \u001b[49m\u001b[43mcriterion\u001b[49m\u001b[43m,\u001b[49m\u001b[43m \u001b[49m\u001b[43mdevice\u001b[49m\u001b[43m,\u001b[49m\u001b[43m \u001b[49m\u001b[43mVOCAB_SIZE\u001b[49m\u001b[43m,\u001b[49m\u001b[43m \u001b[49m\u001b[43mPAD_IDX\u001b[49m\u001b[43m)\u001b[49m\n\u001b[1;32m     25\u001b[0m     avg_val_loss \u001b[38;5;241m=\u001b[39m evaluate_model_transformer(transformer_model, val_loader, criterion, device, VOCAB_SIZE, PAD_IDX)\n\u001b[1;32m     27\u001b[0m     train_loss_history_transformer\u001b[38;5;241m.\u001b[39mappend(avg_train_loss)\n",
      "Cell \u001b[0;32mIn[177], line 17\u001b[0m, in \u001b[0;36mtrain_epoch_transformer\u001b[0;34m(model, dataloader, optimizer, criterion, device, vocab_size_for_loss_reshape, pad_idx)\u001b[0m\n\u001b[1;32m     13\u001b[0m tgt_key_padding_mask \u001b[38;5;241m=\u001b[39m (x \u001b[38;5;241m==\u001b[39m pad_idx) \u001b[38;5;66;03m# True where x is pad_idx\u001b[39;00m\n\u001b[1;32m     15\u001b[0m \u001b[38;5;66;03m# The causal mask is generated inside the model's forward method based on seq_len of x\u001b[39;00m\n\u001b[0;32m---> 17\u001b[0m logits, _ \u001b[38;5;241m=\u001b[39m \u001b[43mmodel\u001b[49m\u001b[43m(\u001b[49m\u001b[43mx\u001b[49m\u001b[43m,\u001b[49m\u001b[43m \u001b[49m\u001b[43mtgt_key_padding_mask\u001b[49m\u001b[38;5;241;43m=\u001b[39;49m\u001b[43mtgt_key_padding_mask\u001b[49m\u001b[43m)\u001b[49m \u001b[38;5;66;03m# model's forward needs tgt_mask for causality and optionally tgt_key_padding_mask\u001b[39;00m\n\u001b[1;32m     18\u001b[0m                                                             \u001b[38;5;66;03m# tgt_mask (causal) is handled internally by model\u001b[39;00m\n\u001b[1;32m     19\u001b[0m \n\u001b[1;32m     20\u001b[0m \u001b[38;5;66;03m# Reshape logits and y for loss calculation\u001b[39;00m\n\u001b[1;32m     21\u001b[0m \u001b[38;5;66;03m# logits shape: [batch_size, seq_len, vocab_size]\u001b[39;00m\n\u001b[1;32m     22\u001b[0m \u001b[38;5;66;03m# y shape: [batch_size, seq_len]\u001b[39;00m\n\u001b[1;32m     23\u001b[0m loss \u001b[38;5;241m=\u001b[39m criterion(logits\u001b[38;5;241m.\u001b[39mview(\u001b[38;5;241m-\u001b[39m\u001b[38;5;241m1\u001b[39m, vocab_size_for_loss_reshape), y\u001b[38;5;241m.\u001b[39mview(\u001b[38;5;241m-\u001b[39m\u001b[38;5;241m1\u001b[39m))\n",
      "File \u001b[0;32m~/miniconda3/envs/WAAK/lib/python3.10/site-packages/torch/nn/modules/module.py:1736\u001b[0m, in \u001b[0;36mModule._wrapped_call_impl\u001b[0;34m(self, *args, **kwargs)\u001b[0m\n\u001b[1;32m   1734\u001b[0m     \u001b[38;5;28;01mreturn\u001b[39;00m \u001b[38;5;28mself\u001b[39m\u001b[38;5;241m.\u001b[39m_compiled_call_impl(\u001b[38;5;241m*\u001b[39margs, \u001b[38;5;241m*\u001b[39m\u001b[38;5;241m*\u001b[39mkwargs)  \u001b[38;5;66;03m# type: ignore[misc]\u001b[39;00m\n\u001b[1;32m   1735\u001b[0m \u001b[38;5;28;01melse\u001b[39;00m:\n\u001b[0;32m-> 1736\u001b[0m     \u001b[38;5;28;01mreturn\u001b[39;00m \u001b[38;5;28;43mself\u001b[39;49m\u001b[38;5;241;43m.\u001b[39;49m\u001b[43m_call_impl\u001b[49m\u001b[43m(\u001b[49m\u001b[38;5;241;43m*\u001b[39;49m\u001b[43margs\u001b[49m\u001b[43m,\u001b[49m\u001b[43m \u001b[49m\u001b[38;5;241;43m*\u001b[39;49m\u001b[38;5;241;43m*\u001b[39;49m\u001b[43mkwargs\u001b[49m\u001b[43m)\u001b[49m\n",
      "File \u001b[0;32m~/miniconda3/envs/WAAK/lib/python3.10/site-packages/torch/nn/modules/module.py:1747\u001b[0m, in \u001b[0;36mModule._call_impl\u001b[0;34m(self, *args, **kwargs)\u001b[0m\n\u001b[1;32m   1742\u001b[0m \u001b[38;5;66;03m# If we don't have any hooks, we want to skip the rest of the logic in\u001b[39;00m\n\u001b[1;32m   1743\u001b[0m \u001b[38;5;66;03m# this function, and just call forward.\u001b[39;00m\n\u001b[1;32m   1744\u001b[0m \u001b[38;5;28;01mif\u001b[39;00m \u001b[38;5;129;01mnot\u001b[39;00m (\u001b[38;5;28mself\u001b[39m\u001b[38;5;241m.\u001b[39m_backward_hooks \u001b[38;5;129;01mor\u001b[39;00m \u001b[38;5;28mself\u001b[39m\u001b[38;5;241m.\u001b[39m_backward_pre_hooks \u001b[38;5;129;01mor\u001b[39;00m \u001b[38;5;28mself\u001b[39m\u001b[38;5;241m.\u001b[39m_forward_hooks \u001b[38;5;129;01mor\u001b[39;00m \u001b[38;5;28mself\u001b[39m\u001b[38;5;241m.\u001b[39m_forward_pre_hooks\n\u001b[1;32m   1745\u001b[0m         \u001b[38;5;129;01mor\u001b[39;00m _global_backward_pre_hooks \u001b[38;5;129;01mor\u001b[39;00m _global_backward_hooks\n\u001b[1;32m   1746\u001b[0m         \u001b[38;5;129;01mor\u001b[39;00m _global_forward_hooks \u001b[38;5;129;01mor\u001b[39;00m _global_forward_pre_hooks):\n\u001b[0;32m-> 1747\u001b[0m     \u001b[38;5;28;01mreturn\u001b[39;00m \u001b[43mforward_call\u001b[49m\u001b[43m(\u001b[49m\u001b[38;5;241;43m*\u001b[39;49m\u001b[43margs\u001b[49m\u001b[43m,\u001b[49m\u001b[43m \u001b[49m\u001b[38;5;241;43m*\u001b[39;49m\u001b[38;5;241;43m*\u001b[39;49m\u001b[43mkwargs\u001b[49m\u001b[43m)\u001b[49m\n\u001b[1;32m   1749\u001b[0m result \u001b[38;5;241m=\u001b[39m \u001b[38;5;28;01mNone\u001b[39;00m\n\u001b[1;32m   1750\u001b[0m called_always_called_hooks \u001b[38;5;241m=\u001b[39m \u001b[38;5;28mset\u001b[39m()\n",
      "Cell \u001b[0;32mIn[176], line 71\u001b[0m, in \u001b[0;36mREMITransformerModel.forward\u001b[0;34m(self, tgt, tgt_mask, memory_mask, tgt_key_padding_mask)\u001b[0m\n\u001b[1;32m     67\u001b[0m encoder_layers_for_decoder \u001b[38;5;241m=\u001b[39m nn\u001b[38;5;241m.\u001b[39mTransformerEncoderLayer(d_model\u001b[38;5;241m=\u001b[39m\u001b[38;5;28mself\u001b[39m\u001b[38;5;241m.\u001b[39memb_size, nhead\u001b[38;5;241m=\u001b[39m\u001b[38;5;28mself\u001b[39m\u001b[38;5;241m.\u001b[39mnhead, dim_feedforward\u001b[38;5;241m=\u001b[39m\u001b[38;5;28mself\u001b[39m\u001b[38;5;241m.\u001b[39mnhid, dropout\u001b[38;5;241m=\u001b[39m\u001b[38;5;28mself\u001b[39m\u001b[38;5;241m.\u001b[39mdropout, batch_first\u001b[38;5;241m=\u001b[39m\u001b[38;5;28;01mTrue\u001b[39;00m)\n\u001b[1;32m     68\u001b[0m \u001b[38;5;28mself\u001b[39m\u001b[38;5;241m.\u001b[39mtransformer_as_decoder \u001b[38;5;241m=\u001b[39m nn\u001b[38;5;241m.\u001b[39mTransformerEncoder(encoder_layers_for_decoder, num_layers\u001b[38;5;241m=\u001b[39m\u001b[38;5;28mself\u001b[39m\u001b[38;5;241m.\u001b[39mnlayers)\n\u001b[0;32m---> 71\u001b[0m output \u001b[38;5;241m=\u001b[39m \u001b[38;5;28;43mself\u001b[39;49m\u001b[38;5;241;43m.\u001b[39;49m\u001b[43mtransformer_decoder\u001b[49m\u001b[43m(\u001b[49m\u001b[43mtgt\u001b[49m\u001b[38;5;241;43m=\u001b[39;49m\u001b[43mtgt_emb_pos\u001b[49m\u001b[43m,\u001b[49m\u001b[43m \u001b[49m\u001b[43mmemory\u001b[49m\u001b[38;5;241;43m=\u001b[39;49m\u001b[43mtgt_emb_pos\u001b[49m\u001b[43m,\u001b[49m\u001b[43m \u001b[49m\n\u001b[1;32m     72\u001b[0m \u001b[43m                                  \u001b[49m\u001b[43mtgt_mask\u001b[49m\u001b[38;5;241;43m=\u001b[39;49m\u001b[43mtgt_mask\u001b[49m\u001b[43m,\u001b[49m\u001b[43m \u001b[49m\n\u001b[1;32m     73\u001b[0m \u001b[43m                                  \u001b[49m\u001b[43mtgt_key_padding_mask\u001b[49m\u001b[38;5;241;43m=\u001b[39;49m\u001b[43mtgt_key_padding_mask\u001b[49m\u001b[43m)\u001b[49m\n\u001b[1;32m     74\u001b[0m                                   \u001b[38;5;66;03m# memory_mask and memory_key_padding_mask could also be tgt_mask etc.\u001b[39;00m\n\u001b[1;32m     76\u001b[0m logits \u001b[38;5;241m=\u001b[39m \u001b[38;5;28mself\u001b[39m\u001b[38;5;241m.\u001b[39mfc_out(output) \u001b[38;5;66;03m# Shape: [batch_size, seq_len, vocab_size]\u001b[39;00m\n",
      "File \u001b[0;32m~/miniconda3/envs/WAAK/lib/python3.10/site-packages/torch/nn/modules/module.py:1736\u001b[0m, in \u001b[0;36mModule._wrapped_call_impl\u001b[0;34m(self, *args, **kwargs)\u001b[0m\n\u001b[1;32m   1734\u001b[0m     \u001b[38;5;28;01mreturn\u001b[39;00m \u001b[38;5;28mself\u001b[39m\u001b[38;5;241m.\u001b[39m_compiled_call_impl(\u001b[38;5;241m*\u001b[39margs, \u001b[38;5;241m*\u001b[39m\u001b[38;5;241m*\u001b[39mkwargs)  \u001b[38;5;66;03m# type: ignore[misc]\u001b[39;00m\n\u001b[1;32m   1735\u001b[0m \u001b[38;5;28;01melse\u001b[39;00m:\n\u001b[0;32m-> 1736\u001b[0m     \u001b[38;5;28;01mreturn\u001b[39;00m \u001b[38;5;28;43mself\u001b[39;49m\u001b[38;5;241;43m.\u001b[39;49m\u001b[43m_call_impl\u001b[49m\u001b[43m(\u001b[49m\u001b[38;5;241;43m*\u001b[39;49m\u001b[43margs\u001b[49m\u001b[43m,\u001b[49m\u001b[43m \u001b[49m\u001b[38;5;241;43m*\u001b[39;49m\u001b[38;5;241;43m*\u001b[39;49m\u001b[43mkwargs\u001b[49m\u001b[43m)\u001b[49m\n",
      "File \u001b[0;32m~/miniconda3/envs/WAAK/lib/python3.10/site-packages/torch/nn/modules/module.py:1747\u001b[0m, in \u001b[0;36mModule._call_impl\u001b[0;34m(self, *args, **kwargs)\u001b[0m\n\u001b[1;32m   1742\u001b[0m \u001b[38;5;66;03m# If we don't have any hooks, we want to skip the rest of the logic in\u001b[39;00m\n\u001b[1;32m   1743\u001b[0m \u001b[38;5;66;03m# this function, and just call forward.\u001b[39;00m\n\u001b[1;32m   1744\u001b[0m \u001b[38;5;28;01mif\u001b[39;00m \u001b[38;5;129;01mnot\u001b[39;00m (\u001b[38;5;28mself\u001b[39m\u001b[38;5;241m.\u001b[39m_backward_hooks \u001b[38;5;129;01mor\u001b[39;00m \u001b[38;5;28mself\u001b[39m\u001b[38;5;241m.\u001b[39m_backward_pre_hooks \u001b[38;5;129;01mor\u001b[39;00m \u001b[38;5;28mself\u001b[39m\u001b[38;5;241m.\u001b[39m_forward_hooks \u001b[38;5;129;01mor\u001b[39;00m \u001b[38;5;28mself\u001b[39m\u001b[38;5;241m.\u001b[39m_forward_pre_hooks\n\u001b[1;32m   1745\u001b[0m         \u001b[38;5;129;01mor\u001b[39;00m _global_backward_pre_hooks \u001b[38;5;129;01mor\u001b[39;00m _global_backward_hooks\n\u001b[1;32m   1746\u001b[0m         \u001b[38;5;129;01mor\u001b[39;00m _global_forward_hooks \u001b[38;5;129;01mor\u001b[39;00m _global_forward_pre_hooks):\n\u001b[0;32m-> 1747\u001b[0m     \u001b[38;5;28;01mreturn\u001b[39;00m \u001b[43mforward_call\u001b[49m\u001b[43m(\u001b[49m\u001b[38;5;241;43m*\u001b[39;49m\u001b[43margs\u001b[49m\u001b[43m,\u001b[49m\u001b[43m \u001b[49m\u001b[38;5;241;43m*\u001b[39;49m\u001b[38;5;241;43m*\u001b[39;49m\u001b[43mkwargs\u001b[49m\u001b[43m)\u001b[49m\n\u001b[1;32m   1749\u001b[0m result \u001b[38;5;241m=\u001b[39m \u001b[38;5;28;01mNone\u001b[39;00m\n\u001b[1;32m   1750\u001b[0m called_always_called_hooks \u001b[38;5;241m=\u001b[39m \u001b[38;5;28mset\u001b[39m()\n",
      "File \u001b[0;32m~/miniconda3/envs/WAAK/lib/python3.10/site-packages/torch/nn/modules/transformer.py:599\u001b[0m, in \u001b[0;36mTransformerDecoder.forward\u001b[0;34m(self, tgt, memory, tgt_mask, memory_mask, tgt_key_padding_mask, memory_key_padding_mask, tgt_is_causal, memory_is_causal)\u001b[0m\n\u001b[1;32m    596\u001b[0m output \u001b[38;5;241m=\u001b[39m tgt\n\u001b[1;32m    598\u001b[0m seq_len \u001b[38;5;241m=\u001b[39m _get_seq_len(tgt, \u001b[38;5;28mself\u001b[39m\u001b[38;5;241m.\u001b[39mlayers[\u001b[38;5;241m0\u001b[39m]\u001b[38;5;241m.\u001b[39mself_attn\u001b[38;5;241m.\u001b[39mbatch_first)\n\u001b[0;32m--> 599\u001b[0m tgt_is_causal \u001b[38;5;241m=\u001b[39m \u001b[43m_detect_is_causal_mask\u001b[49m\u001b[43m(\u001b[49m\u001b[43mtgt_mask\u001b[49m\u001b[43m,\u001b[49m\u001b[43m \u001b[49m\u001b[43mtgt_is_causal\u001b[49m\u001b[43m,\u001b[49m\u001b[43m \u001b[49m\u001b[43mseq_len\u001b[49m\u001b[43m)\u001b[49m\n\u001b[1;32m    601\u001b[0m \u001b[38;5;28;01mfor\u001b[39;00m mod \u001b[38;5;129;01min\u001b[39;00m \u001b[38;5;28mself\u001b[39m\u001b[38;5;241m.\u001b[39mlayers:\n\u001b[1;32m    602\u001b[0m     output \u001b[38;5;241m=\u001b[39m mod(\n\u001b[1;32m    603\u001b[0m         output,\n\u001b[1;32m    604\u001b[0m         memory,\n\u001b[0;32m   (...)\u001b[0m\n\u001b[1;32m    610\u001b[0m         memory_is_causal\u001b[38;5;241m=\u001b[39mmemory_is_causal,\n\u001b[1;32m    611\u001b[0m     )\n",
      "File \u001b[0;32m~/miniconda3/envs/WAAK/lib/python3.10/site-packages/torch/nn/modules/transformer.py:1194\u001b[0m, in \u001b[0;36m_detect_is_causal_mask\u001b[0;34m(mask, is_causal, size)\u001b[0m\n\u001b[1;32m   1191\u001b[0m \u001b[38;5;66;03m# Do not use `torch.equal` so we handle batched masks by\u001b[39;00m\n\u001b[1;32m   1192\u001b[0m \u001b[38;5;66;03m# broadcasting the comparison.\u001b[39;00m\n\u001b[1;32m   1193\u001b[0m \u001b[38;5;28;01mif\u001b[39;00m mask\u001b[38;5;241m.\u001b[39msize() \u001b[38;5;241m==\u001b[39m causal_comparison\u001b[38;5;241m.\u001b[39msize():\n\u001b[0;32m-> 1194\u001b[0m     make_causal \u001b[38;5;241m=\u001b[39m \u001b[38;5;28;43mbool\u001b[39;49m\u001b[43m(\u001b[49m\u001b[43m(\u001b[49m\u001b[43mmask\u001b[49m\u001b[43m \u001b[49m\u001b[38;5;241;43m==\u001b[39;49m\u001b[43m \u001b[49m\u001b[43mcausal_comparison\u001b[49m\u001b[43m)\u001b[49m\u001b[38;5;241;43m.\u001b[39;49m\u001b[43mall\u001b[49m\u001b[43m(\u001b[49m\u001b[43m)\u001b[49m\u001b[43m)\u001b[49m\n\u001b[1;32m   1195\u001b[0m \u001b[38;5;28;01melse\u001b[39;00m:\n\u001b[1;32m   1196\u001b[0m     make_causal \u001b[38;5;241m=\u001b[39m \u001b[38;5;28;01mFalse\u001b[39;00m\n",
      "\u001b[0;31mKeyboardInterrupt\u001b[0m: "
     ]
    }
   ],
   "source": [
    "# Model Hyperparameters (example)\n",
    "VOCAB_SIZE = len(tokenizer) # Should be 1000 if BPE was used\n",
    "EMB_SIZE = 256\n",
    "NHEAD = 4 # Must be a divisor of EMB_SIZE\n",
    "NHID = 256 # Dimension of the feedforward network model in nn.TransformerEncoderLayer\n",
    "NLAYERS = 1 # Number of nn.TransformerEncoderLayer in nn.TransformerEncoder\n",
    "DROPOUT = 0.1\n",
    "PAD_IDX = tokenizer.vocab.get(\"PAD_None\", 0)\n",
    "\n",
    "\n",
    "# Instantiate model, optimizer, criterion\n",
    "transformer_model = REMITransformerModel(VOCAB_SIZE, EMB_SIZE, NHEAD, NHID, NLAYERS, DROPOUT).to(device)\n",
    "optimizer = torch.optim.Adam(transformer_model.parameters(), lr=1e-4) # Adjust LR\n",
    "criterion = nn.CrossEntropyLoss(ignore_index=PAD_IDX) # Important to ignore PAD_IDX in loss\n",
    "\n",
    "# --- Training Loop ---\n",
    "NUM_EPOCHS = 10 # Example\n",
    "train_loss_history_transformer = []\n",
    "val_loss_history_transformer = []\n",
    "# effective_vocab_size_transformer = transformer_model.fc_out.out_features # Same as VOCAB_SIZE\n",
    "\n",
    "print(f\"\\n--- Training Transformer for {NUM_EPOCHS} epochs ---\")\n",
    "for epoch in range(1, NUM_EPOCHS + 1):\n",
    "    avg_train_loss = train_epoch_transformer(transformer_model, train_loader, optimizer, criterion, device, VOCAB_SIZE, PAD_IDX)\n",
    "    avg_val_loss = evaluate_model_transformer(transformer_model, val_loader, criterion, device, VOCAB_SIZE, PAD_IDX)\n",
    "    \n",
    "    train_loss_history_transformer.append(avg_train_loss)\n",
    "    val_loss_history_transformer.append(avg_val_loss)\n",
    "    \n",
    "    # Optional: Learning rate scheduler\n",
    "    # if scheduler: scheduler.step()\n",
    "\n",
    "    try: train_ppl = math.exp(avg_train_loss)\n",
    "    except: train_ppl = float('inf')\n",
    "    try: val_ppl = math.exp(avg_val_loss)\n",
    "    except: val_ppl = float('inf')\n",
    "    current_lr = optimizer.param_groups[0]['lr']\n",
    "\n",
    "    print(f\"\\tEpoch {epoch}/{NUM_EPOCHS} - Train Loss: {avg_train_loss:.4f} (PPL: {train_ppl:.2f}) | \"\n",
    "          f\"Val Loss: {avg_val_loss:.4f} (PPL: {val_ppl:.2f}) | LR: {current_lr:.6f}\")\n",
    "\n",
    "print(\"Transformer training finished.\")"
   ]
  },
  {
   "cell_type": "code",
   "execution_count": null,
   "metadata": {},
   "outputs": [],
   "source": [
    "def sample_tokens_from_start_transformer(\n",
    "    model: REMITransformerModel,\n",
    "    tokenizer, # Your MidiTok tokenizer\n",
    "    device: torch.device,\n",
    "    num_tokens_to_generate: int,\n",
    "    start_token_str: str = \"BOS_None\", \n",
    "    seq_len_for_model: int = 256, # Max sequence length model was trained with (for positional encodings & masking)\n",
    "    top_k: int = 10,\n",
    "    temperature: float = 1.0,\n",
    "    pad_idx: int = 0 # Assuming 0 is PAD_None ID\n",
    "):\n",
    "    model.eval()\n",
    "    model = model.to(device)\n",
    "    \n",
    "    # Get the ID for the start token\n",
    "    current_input_id = tokenizer.vocab.get(start_token_str)\n",
    "    if current_input_id is None:\n",
    "        print(f\"Warning: start_token_str '{start_token_str}' not in tokenizer.vocab. Using PAD_None (ID {pad_idx}) as start.\")\n",
    "        current_input_id = pad_idx\n",
    "            \n",
    "    generated_ids = [current_input_id]\n",
    "\n",
    "    with torch.no_grad():\n",
    "        for _ in tqdm(range(num_tokens_to_generate - 1), desc=\"Generating Tokens\"):\n",
    "            # Prepare input: use the last part of generated_ids, up to seq_len_for_model\n",
    "            # The input to the transformer should be padded if shorter than seq_len_for_model,\n",
    "            # or truncated if longer. For generation, we typically feed the current sequence.\n",
    "            \n",
    "            input_sequence = generated_ids\n",
    "            if len(input_sequence) > seq_len_for_model:\n",
    "                input_sequence = input_sequence[-seq_len_for_model:]\n",
    "            \n",
    "            input_tensor = torch.tensor([input_sequence], dtype=torch.long, device=device) # Shape: [1, current_seq_len]\n",
    "\n",
    "            # No padding mask needed here as we are generating one by one for a single batch item.\n",
    "            # The causal mask is handled by the model's forward method.\n",
    "            # tgt_key_padding_mask = (input_tensor == pad_idx) # Not strictly needed for batch_size=1 single sequence generation step\n",
    "            \n",
    "            logits, _ = model(input_tensor) # Causal mask is applied inside model based on input_tensor's seq_len\n",
    "            \n",
    "            # Get logits for the very last token prediction\n",
    "            last_token_logits = logits[0, -1, :] / temperature # Shape: [vocab_size]\n",
    "            \n",
    "            if top_k > 0:\n",
    "                top_k_logits, top_k_indices = torch.topk(last_token_logits, top_k)\n",
    "                top_k_probs = F.softmax(top_k_logits, dim=-1)\n",
    "                chosen_relative_index = torch.multinomial(top_k_probs, 1)\n",
    "                next_token_id = top_k_indices[chosen_relative_index.item()].item()\n",
    "            else: # Sample from full distribution (greedy if temperature is low)\n",
    "                probs = F.softmax(last_token_logits, dim=-1)\n",
    "                next_token_id = torch.multinomial(probs, 1).item()\n",
    "            \n",
    "            generated_ids.append(next_token_id)\n",
    "            \n",
    "            # Optional: Stop if EOS token is generated\n",
    "            eos_token_id = tokenizer.vocab.get(\"EOS_None\")\n",
    "            if eos_token_id is not None and next_token_id == eos_token_id:\n",
    "                print(\"EOS token generated. Stopping generation.\")\n",
    "                break\n",
    "                \n",
    "    return generated_ids"
   ]
  },
  {
   "cell_type": "code",
   "execution_count": null,
   "metadata": {},
   "outputs": [],
   "source": [
    "import mido # Ensure mido is imported\n",
    "from tqdm import tqdm # Ensure tqdm is imported\n",
    "\n",
    "def generate_midi_transformer_from_start(\n",
    "    model: REMITransformerModel,\n",
    "    tokenizer,\n",
    "    out_path: str,\n",
    "    device: torch.device,\n",
    "    notes_beats_from_ids_func, # Your notes_beats_from_ids function\n",
    "    generation_length: int = 200,\n",
    "    start_token_str: str = \"BOS_None\",\n",
    "    seq_len_for_model: int = 256, # Max seq len for model context during generation\n",
    "    top_k: int = 10,\n",
    "    temperature: float = 0.8,\n",
    "    program: int = 80, # Default MIDI program\n",
    "    channel: int = 0,\n",
    "    velocity: int = 100,\n",
    "    tpb: int = 480  # Ticks per beat for MIDI\n",
    "):\n",
    "    model.eval()\n",
    "    pad_idx = tokenizer.vocab.get(\"PAD_None\", 0) # Get PAD ID, default to 0\n",
    "\n",
    "    print(f\"Generating {generation_length} tokens starting with '{start_token_str}' using Transformer...\")\n",
    "    generated_token_ids = sample_tokens_from_start_transformer(\n",
    "        model=model,\n",
    "        tokenizer=tokenizer,\n",
    "        device=device,\n",
    "        num_tokens_to_generate=generation_length,\n",
    "        start_token_str=start_token_str,\n",
    "        seq_len_for_model=seq_len_for_model,\n",
    "        top_k=top_k,\n",
    "        temperature=temperature,\n",
    "        pad_idx=pad_idx\n",
    "    )\n",
    "\n",
    "    if not generated_token_ids:\n",
    "        print(\"Generation failed or produced no tokens.\")\n",
    "        return\n",
    "    print(f\"Successfully generated {len(generated_token_ids)} token IDs.\")\n",
    "\n",
    "    print(\"Converting generated token IDs to notes and beats...\")\n",
    "    try:\n",
    "        # notes_beats_from_ids_func relies on global id2token\n",
    "        new_pitches, new_beats_pos_len = notes_beats_from_ids_func(generated_token_ids)\n",
    "    except Exception as e:\n",
    "        print(f\"Error during notes_beats_from_ids_func: {e}. Ensure 'id2token' is correct.\")\n",
    "        return\n",
    "        \n",
    "    new_beat_lengths = [length for (_pos, length) in new_beats_pos_len]\n",
    "\n",
    "    if not new_pitches or len(new_pitches) != len(new_beat_lengths):\n",
    "        print(f\"Warning: Mismatch or empty results. Pitches: {len(new_pitches)}, BeatLs: {len(new_beat_lengths)}. Truncating.\")\n",
    "        min_len = min(len(new_pitches), len(new_beat_lengths))\n",
    "        new_pitches = new_pitches[:min_len]\n",
    "        new_beat_lengths = new_beat_lengths[:min_len]\n",
    "        if not new_pitches:\n",
    "            print(\"No musical events to write to MIDI. Aborting.\")\n",
    "            # Optionally create minimal MIDI\n",
    "            mid_empty = mido.MidiFile(ticks_per_beat=tpb)\n",
    "            track_empty = mido.MidiTrack()\n",
    "            mid_empty.tracks.append(track_empty)\n",
    "            track_empty.append(mido.Message('program_change', program=program, time=0, channel=channel))\n",
    "            track_empty.append(mido.MetaMessage('end_of_track', time=0))\n",
    "            try: mid_empty.save(out_path); print(f\"Minimal MIDI saved to {out_path}\")\n",
    "            except Exception as e_save: print(f\"Error saving minimal MIDI: {e_save}\")\n",
    "            return\n",
    "\n",
    "    print(\"Constructing MIDI file...\")\n",
    "    mid = mido.MidiFile(ticks_per_beat=tpb)\n",
    "    track = mido.MidiTrack()\n",
    "    mid.tracks.append(track)\n",
    "    track.append(mido.Message('program_change', program=program, time=0, channel=channel))\n",
    "\n",
    "    for pitch, bl_value in tqdm(zip(new_pitches, new_beat_lengths), total=len(new_pitches), desc=\"Creating MIDI Events\"):\n",
    "        dur_beats = bl_value / 8.0 \n",
    "        note_duration_ticks = int(dur_beats * tpb)\n",
    "        track.append(mido.Message('note_on', note=pitch, velocity=velocity, time=0, channel=channel))\n",
    "        track.append(mido.Message('note_off', note=pitch, velocity=0, time=note_duration_ticks, channel=channel))\n",
    "\n",
    "    track.append(mido.MetaMessage('end_of_track', time=0))\n",
    "    \n",
    "    try:\n",
    "        mid.save(out_path)\n",
    "        print(f\"Generated Transformer MIDI file saved to: {out_path}\")\n",
    "    except Exception as e:\n",
    "        print(f\"Error saving MIDI file {out_path}: {e}\")\n"
   ]
  },
  {
   "cell_type": "markdown",
   "metadata": {},
   "source": [
    "# Evaluation\n",
    "Our models can be evaluated both quantitatively and qualitatively"
   ]
  },
  {
   "cell_type": "code",
   "execution_count": 186,
   "metadata": {},
   "outputs": [
    {
     "name": "stdout",
     "output_type": "stream",
     "text": [
      "Using device: mps\n"
     ]
    }
   ],
   "source": [
    "device = torch.device(\"mps\" if torch.mps.is_available() else \"cpu\")\n",
    "print(f\"Using device: {device}\")"
   ]
  },
  {
   "cell_type": "code",
   "execution_count": 264,
   "metadata": {},
   "outputs": [
    {
     "name": "stdout",
     "output_type": "stream",
     "text": [
      "Generated MIDI file saved to: output/baseline/baseline_0.mid\n",
      "Generated MIDI file saved to: output/baseline/baseline_1.mid\n",
      "Generated MIDI file saved to: output/baseline/baseline_2.mid\n",
      "Generated MIDI file saved to: output/baseline/baseline_3.mid\n",
      "Generated MIDI file saved to: output/baseline/baseline_4.mid\n",
      "Generated MIDI file saved to: output/baseline/baseline_5.mid\n",
      "Generated MIDI file saved to: output/baseline/baseline_6.mid\n",
      "Generated MIDI file saved to: output/baseline/baseline_7.mid\n",
      "Generated MIDI file saved to: output/baseline/baseline_8.mid\n",
      "Generated MIDI file saved to: output/baseline/baseline_9.mid\n",
      "Generated MIDI file saved to: output/baseline/baseline_10.mid\n",
      "Generated MIDI file saved to: output/baseline/baseline_11.mid\n",
      "Generated MIDI file saved to: output/baseline/baseline_12.mid\n",
      "Generated MIDI file saved to: output/baseline/baseline_13.mid\n",
      "Generated MIDI file saved to: output/baseline/baseline_14.mid\n",
      "Generated MIDI file saved to: output/baseline/baseline_15.mid\n",
      "Generated MIDI file saved to: output/baseline/baseline_16.mid\n",
      "Generated MIDI file saved to: output/baseline/baseline_17.mid\n",
      "Generated MIDI file saved to: output/baseline/baseline_18.mid\n",
      "Generated MIDI file saved to: output/baseline/baseline_19.mid\n"
     ]
    },
    {
     "name": "stderr",
     "output_type": "stream",
     "text": [
      "100%|██████████| 200/200 [00:00<00:00, 357266.10it/s]\n",
      "100%|██████████| 200/200 [00:00<00:00, 443841.69it/s]\n",
      "3300it [00:00, 168521.83it/s]\n",
      "100%|██████████| 200/200 [00:00<00:00, 415895.29it/s]\n",
      "100%|██████████| 200/200 [00:00<00:00, 481827.00it/s]\n",
      "3500it [00:00, 172404.42it/s]\n",
      "100%|██████████| 200/200 [00:00<00:00, 375161.36it/s]\n",
      "100%|██████████| 200/200 [00:00<00:00, 463971.68it/s]\n",
      "3700it [00:00, 176493.82it/s]\n",
      "100%|██████████| 200/200 [00:00<00:00, 417551.42it/s]\n",
      "100%|██████████| 200/200 [00:00<00:00, 414866.86it/s]\n",
      "3900it [00:00, 175667.28it/s]\n",
      "100%|██████████| 200/200 [00:00<00:00, 392174.29it/s]\n",
      "100%|██████████| 200/200 [00:00<00:00, 499917.04it/s]\n",
      "4100it [00:00, 179290.48it/s]\n",
      "100%|██████████| 200/200 [00:00<00:00, 437362.25it/s]\n",
      "100%|██████████| 200/200 [00:00<00:00, 489131.66it/s]\n",
      "4300it [00:00, 118233.06it/s]\n",
      "100%|██████████| 200/200 [00:00<00:00, 444311.86it/s]\n",
      "100%|██████████| 200/200 [00:00<00:00, 445491.66it/s]\n",
      "4500it [00:00, 180165.98it/s]\n",
      "100%|██████████| 200/200 [00:00<00:00, 468375.66it/s]\n",
      "100%|██████████| 200/200 [00:00<00:00, 467331.92it/s]\n",
      "4700it [00:00, 177747.18it/s]\n",
      "100%|██████████| 200/200 [00:00<00:00, 421750.03it/s]\n",
      "100%|██████████| 200/200 [00:00<00:00, 488846.62it/s]\n",
      "4900it [00:00, 179513.05it/s]\n",
      "100%|██████████| 200/200 [00:00<00:00, 429304.40it/s]\n",
      "100%|██████████| 200/200 [00:00<00:00, 479623.10it/s]\n",
      "5100it [00:00, 176475.52it/s]\n",
      "100%|██████████| 200/200 [00:00<00:00, 395875.79it/s]\n",
      "100%|██████████| 200/200 [00:00<00:00, 497544.96it/s]\n",
      "5300it [00:00, 34670.64it/s]\n",
      "100%|██████████| 200/200 [00:00<00:00, 413231.92it/s]\n",
      "100%|██████████| 200/200 [00:00<00:00, 481827.00it/s]\n",
      "5500it [00:00, 176576.59it/s]\n",
      "100%|██████████| 200/200 [00:00<00:00, 447392.43it/s]\n",
      "100%|██████████| 200/200 [00:00<00:00, 373823.89it/s]\n",
      "5700it [00:00, 171455.14it/s]\n",
      "100%|██████████| 200/200 [00:00<00:00, 430847.87it/s]\n",
      "100%|██████████| 200/200 [00:00<00:00, 520708.13it/s]\n",
      "5900it [00:00, 176261.39it/s]\n",
      "100%|██████████| 200/200 [00:00<00:00, 439424.20it/s]\n",
      "100%|██████████| 200/200 [00:00<00:00, 482936.56it/s]\n",
      "6100it [00:00, 175625.20it/s]\n",
      "100%|██████████| 200/200 [00:00<00:00, 395502.50it/s]\n",
      "100%|██████████| 200/200 [00:00<00:00, 434192.96it/s]\n",
      "6300it [00:00, 176867.06it/s]\n",
      "100%|██████████| 200/200 [00:00<00:00, 440578.15it/s]\n",
      "100%|██████████| 200/200 [00:00<00:00, 519418.45it/s]\n",
      "6500it [00:00, 174123.10it/s]\n",
      "100%|██████████| 200/200 [00:00<00:00, 478528.69it/s]\n",
      "100%|██████████| 200/200 [00:00<00:00, 452459.98it/s]\n",
      "6700it [00:00, 175393.12it/s]\n",
      "100%|██████████| 200/200 [00:00<00:00, 421962.17it/s]\n",
      "100%|██████████| 200/200 [00:00<00:00, 492578.27it/s]\n",
      "6900it [00:00, 168791.76it/s]\n",
      "100%|██████████| 200/200 [00:00<00:00, 479623.10it/s]\n",
      "100%|██████████| 200/200 [00:00<00:00, 261408.79it/s]\n",
      "7100it [00:00, 167252.03it/s]\n"
     ]
    },
    {
     "name": "stdout",
     "output_type": "stream",
     "text": [
      "Generating 2000 tokens starting with 'BOS_None'...\n"
     ]
    },
    {
     "name": "stderr",
     "output_type": "stream",
     "text": [
      "100%|██████████| 1999/1999 [00:08<00:00, 224.36it/s]\n"
     ]
    },
    {
     "name": "stdout",
     "output_type": "stream",
     "text": [
      "Successfully generated 2000 token IDs.\n",
      "Converting generated token IDs to notes and beats...\n",
      "Warning: Mismatch or empty results after musical interpretation. Pitches: 618, BeatLs: 198. Truncating.\n",
      "Constructing MIDI file...\n"
     ]
    },
    {
     "name": "stderr",
     "output_type": "stream",
     "text": [
      "198it [00:00, 134620.23it/s]\n"
     ]
    },
    {
     "name": "stdout",
     "output_type": "stream",
     "text": [
      "Generated LSTM MIDI file saved to: output/LSTM/LSTM_0.mid\n",
      "Generating 2000 tokens starting with 'BOS_None'...\n"
     ]
    },
    {
     "name": "stderr",
     "output_type": "stream",
     "text": [
      "100%|██████████| 1999/1999 [00:07<00:00, 284.45it/s]\n"
     ]
    },
    {
     "name": "stdout",
     "output_type": "stream",
     "text": [
      "Successfully generated 2000 token IDs.\n",
      "Converting generated token IDs to notes and beats...\n",
      "Warning: Mismatch or empty results after musical interpretation. Pitches: 601, BeatLs: 212. Truncating.\n",
      "Constructing MIDI file...\n"
     ]
    },
    {
     "name": "stderr",
     "output_type": "stream",
     "text": [
      "212it [00:00, 141343.58it/s]\n"
     ]
    },
    {
     "name": "stdout",
     "output_type": "stream",
     "text": [
      "Generated LSTM MIDI file saved to: output/LSTM/LSTM_1.mid\n",
      "Generating 2000 tokens starting with 'BOS_None'...\n"
     ]
    },
    {
     "name": "stderr",
     "output_type": "stream",
     "text": [
      "100%|██████████| 1999/1999 [00:06<00:00, 296.09it/s]\n"
     ]
    },
    {
     "name": "stdout",
     "output_type": "stream",
     "text": [
      "Successfully generated 2000 token IDs.\n",
      "Converting generated token IDs to notes and beats...\n",
      "Warning: Mismatch or empty results after musical interpretation. Pitches: 585, BeatLs: 228. Truncating.\n",
      "Constructing MIDI file...\n"
     ]
    },
    {
     "name": "stderr",
     "output_type": "stream",
     "text": [
      "228it [00:00, 139626.41it/s]\n"
     ]
    },
    {
     "name": "stdout",
     "output_type": "stream",
     "text": [
      "Generated LSTM MIDI file saved to: output/LSTM/LSTM_2.mid\n",
      "Generating 2000 tokens starting with 'BOS_None'...\n"
     ]
    },
    {
     "name": "stderr",
     "output_type": "stream",
     "text": [
      "100%|██████████| 1999/1999 [00:06<00:00, 292.10it/s]\n"
     ]
    },
    {
     "name": "stdout",
     "output_type": "stream",
     "text": [
      "Successfully generated 2000 token IDs.\n",
      "Converting generated token IDs to notes and beats...\n",
      "Warning: Mismatch or empty results after musical interpretation. Pitches: 597, BeatLs: 216. Truncating.\n",
      "Constructing MIDI file...\n"
     ]
    },
    {
     "name": "stderr",
     "output_type": "stream",
     "text": [
      "216it [00:00, 142001.51it/s]\n"
     ]
    },
    {
     "name": "stdout",
     "output_type": "stream",
     "text": [
      "Generated LSTM MIDI file saved to: output/LSTM/LSTM_3.mid\n",
      "Generating 2000 tokens starting with 'BOS_None'...\n"
     ]
    },
    {
     "name": "stderr",
     "output_type": "stream",
     "text": [
      "100%|██████████| 1999/1999 [00:06<00:00, 301.40it/s]\n"
     ]
    },
    {
     "name": "stdout",
     "output_type": "stream",
     "text": [
      "Successfully generated 2000 token IDs.\n",
      "Converting generated token IDs to notes and beats...\n",
      "Warning: Mismatch or empty results after musical interpretation. Pitches: 607, BeatLs: 189. Truncating.\n",
      "Constructing MIDI file...\n"
     ]
    },
    {
     "name": "stderr",
     "output_type": "stream",
     "text": [
      "189it [00:00, 147428.58it/s]\n"
     ]
    },
    {
     "name": "stdout",
     "output_type": "stream",
     "text": [
      "Generated LSTM MIDI file saved to: output/LSTM/LSTM_4.mid\n",
      "Generating 2000 tokens starting with 'BOS_None'...\n"
     ]
    },
    {
     "name": "stderr",
     "output_type": "stream",
     "text": [
      "100%|██████████| 1999/1999 [00:06<00:00, 295.35it/s]\n"
     ]
    },
    {
     "name": "stdout",
     "output_type": "stream",
     "text": [
      "Successfully generated 2000 token IDs.\n",
      "Converting generated token IDs to notes and beats...\n",
      "Warning: Mismatch or empty results after musical interpretation. Pitches: 608, BeatLs: 208. Truncating.\n",
      "Constructing MIDI file...\n"
     ]
    },
    {
     "name": "stderr",
     "output_type": "stream",
     "text": [
      "208it [00:00, 144320.14it/s]\n"
     ]
    },
    {
     "name": "stdout",
     "output_type": "stream",
     "text": [
      "Generated LSTM MIDI file saved to: output/LSTM/LSTM_5.mid\n",
      "Generating 2000 tokens starting with 'BOS_None'...\n"
     ]
    },
    {
     "name": "stderr",
     "output_type": "stream",
     "text": [
      "100%|██████████| 1999/1999 [00:07<00:00, 255.28it/s]\n"
     ]
    },
    {
     "name": "stdout",
     "output_type": "stream",
     "text": [
      "Successfully generated 2000 token IDs.\n",
      "Converting generated token IDs to notes and beats...\n",
      "Warning: Mismatch or empty results after musical interpretation. Pitches: 601, BeatLs: 201. Truncating.\n",
      "Constructing MIDI file...\n"
     ]
    },
    {
     "name": "stderr",
     "output_type": "stream",
     "text": [
      "201it [00:00, 140252.06it/s]\n"
     ]
    },
    {
     "name": "stdout",
     "output_type": "stream",
     "text": [
      "Generated LSTM MIDI file saved to: output/LSTM/LSTM_6.mid\n",
      "Generating 2000 tokens starting with 'BOS_None'...\n"
     ]
    },
    {
     "name": "stderr",
     "output_type": "stream",
     "text": [
      "100%|██████████| 1999/1999 [00:07<00:00, 285.34it/s]\n"
     ]
    },
    {
     "name": "stdout",
     "output_type": "stream",
     "text": [
      "Successfully generated 2000 token IDs.\n",
      "Converting generated token IDs to notes and beats...\n",
      "Warning: Mismatch or empty results after musical interpretation. Pitches: 586, BeatLs: 237. Truncating.\n",
      "Constructing MIDI file...\n"
     ]
    },
    {
     "name": "stderr",
     "output_type": "stream",
     "text": [
      "237it [00:00, 139574.56it/s]\n"
     ]
    },
    {
     "name": "stdout",
     "output_type": "stream",
     "text": [
      "Generated LSTM MIDI file saved to: output/LSTM/LSTM_7.mid\n",
      "Generating 2000 tokens starting with 'BOS_None'...\n"
     ]
    },
    {
     "name": "stderr",
     "output_type": "stream",
     "text": [
      "100%|██████████| 1999/1999 [00:07<00:00, 274.81it/s]\n"
     ]
    },
    {
     "name": "stdout",
     "output_type": "stream",
     "text": [
      "Successfully generated 2000 token IDs.\n",
      "Converting generated token IDs to notes and beats...\n",
      "Warning: Mismatch or empty results after musical interpretation. Pitches: 615, BeatLs: 189. Truncating.\n",
      "Constructing MIDI file...\n"
     ]
    },
    {
     "name": "stderr",
     "output_type": "stream",
     "text": [
      "189it [00:00, 146204.99it/s]\n"
     ]
    },
    {
     "name": "stdout",
     "output_type": "stream",
     "text": [
      "Generated LSTM MIDI file saved to: output/LSTM/LSTM_8.mid\n",
      "Generating 2000 tokens starting with 'BOS_None'...\n"
     ]
    },
    {
     "name": "stderr",
     "output_type": "stream",
     "text": [
      "100%|██████████| 1999/1999 [00:07<00:00, 277.73it/s]\n"
     ]
    },
    {
     "name": "stdout",
     "output_type": "stream",
     "text": [
      "Successfully generated 2000 token IDs.\n",
      "Converting generated token IDs to notes and beats...\n",
      "Warning: Mismatch or empty results after musical interpretation. Pitches: 597, BeatLs: 221. Truncating.\n",
      "Constructing MIDI file...\n"
     ]
    },
    {
     "name": "stderr",
     "output_type": "stream",
     "text": [
      "221it [00:00, 131387.84it/s]\n"
     ]
    },
    {
     "name": "stdout",
     "output_type": "stream",
     "text": [
      "Generated LSTM MIDI file saved to: output/LSTM/LSTM_9.mid\n",
      "Generating 2000 tokens starting with 'BOS_None'...\n"
     ]
    },
    {
     "name": "stderr",
     "output_type": "stream",
     "text": [
      "100%|██████████| 1999/1999 [00:07<00:00, 282.67it/s]\n"
     ]
    },
    {
     "name": "stdout",
     "output_type": "stream",
     "text": [
      "Successfully generated 2000 token IDs.\n",
      "Converting generated token IDs to notes and beats...\n",
      "Warning: Mismatch or empty results after musical interpretation. Pitches: 610, BeatLs: 169. Truncating.\n",
      "Constructing MIDI file...\n"
     ]
    },
    {
     "name": "stderr",
     "output_type": "stream",
     "text": [
      "169it [00:00, 147306.19it/s]\n"
     ]
    },
    {
     "name": "stdout",
     "output_type": "stream",
     "text": [
      "Generated LSTM MIDI file saved to: output/LSTM/LSTM_10.mid\n",
      "Generating 2000 tokens starting with 'BOS_None'...\n"
     ]
    },
    {
     "name": "stderr",
     "output_type": "stream",
     "text": [
      "100%|██████████| 1999/1999 [00:07<00:00, 267.95it/s]\n"
     ]
    },
    {
     "name": "stdout",
     "output_type": "stream",
     "text": [
      "Successfully generated 2000 token IDs.\n",
      "Converting generated token IDs to notes and beats...\n",
      "Warning: Mismatch or empty results after musical interpretation. Pitches: 608, BeatLs: 190. Truncating.\n",
      "Constructing MIDI file...\n"
     ]
    },
    {
     "name": "stderr",
     "output_type": "stream",
     "text": [
      "190it [00:00, 140327.13it/s]\n"
     ]
    },
    {
     "name": "stdout",
     "output_type": "stream",
     "text": [
      "Generated LSTM MIDI file saved to: output/LSTM/LSTM_11.mid\n",
      "Generating 2000 tokens starting with 'BOS_None'...\n"
     ]
    },
    {
     "name": "stderr",
     "output_type": "stream",
     "text": [
      "100%|██████████| 1999/1999 [00:08<00:00, 234.68it/s]\n"
     ]
    },
    {
     "name": "stdout",
     "output_type": "stream",
     "text": [
      "Successfully generated 2000 token IDs.\n",
      "Converting generated token IDs to notes and beats...\n",
      "Warning: Mismatch or empty results after musical interpretation. Pitches: 602, BeatLs: 215. Truncating.\n",
      "Constructing MIDI file...\n"
     ]
    },
    {
     "name": "stderr",
     "output_type": "stream",
     "text": [
      "215it [00:00, 134112.93it/s]\n"
     ]
    },
    {
     "name": "stdout",
     "output_type": "stream",
     "text": [
      "Generated LSTM MIDI file saved to: output/LSTM/LSTM_12.mid\n",
      "Generating 2000 tokens starting with 'BOS_None'...\n"
     ]
    },
    {
     "name": "stderr",
     "output_type": "stream",
     "text": [
      "100%|██████████| 1999/1999 [00:07<00:00, 265.98it/s]\n"
     ]
    },
    {
     "name": "stdout",
     "output_type": "stream",
     "text": [
      "Successfully generated 2000 token IDs.\n",
      "Converting generated token IDs to notes and beats...\n",
      "Warning: Mismatch or empty results after musical interpretation. Pitches: 606, BeatLs: 205. Truncating.\n",
      "Constructing MIDI file...\n"
     ]
    },
    {
     "name": "stderr",
     "output_type": "stream",
     "text": [
      "205it [00:00, 137595.19it/s]\n"
     ]
    },
    {
     "name": "stdout",
     "output_type": "stream",
     "text": [
      "Generated LSTM MIDI file saved to: output/LSTM/LSTM_13.mid\n",
      "Generating 2000 tokens starting with 'BOS_None'...\n"
     ]
    },
    {
     "name": "stderr",
     "output_type": "stream",
     "text": [
      "100%|██████████| 1999/1999 [00:07<00:00, 276.27it/s]\n"
     ]
    },
    {
     "name": "stdout",
     "output_type": "stream",
     "text": [
      "Successfully generated 2000 token IDs.\n",
      "Converting generated token IDs to notes and beats...\n",
      "Warning: Mismatch or empty results after musical interpretation. Pitches: 609, BeatLs: 178. Truncating.\n",
      "Constructing MIDI file...\n"
     ]
    },
    {
     "name": "stderr",
     "output_type": "stream",
     "text": [
      "178it [00:00, 135668.93it/s]\n"
     ]
    },
    {
     "name": "stdout",
     "output_type": "stream",
     "text": [
      "Generated LSTM MIDI file saved to: output/LSTM/LSTM_14.mid\n",
      "Generating 2000 tokens starting with 'BOS_None'...\n"
     ]
    },
    {
     "name": "stderr",
     "output_type": "stream",
     "text": [
      "100%|██████████| 1999/1999 [00:07<00:00, 280.42it/s]\n"
     ]
    },
    {
     "name": "stdout",
     "output_type": "stream",
     "text": [
      "Successfully generated 2000 token IDs.\n",
      "Converting generated token IDs to notes and beats...\n",
      "Warning: Mismatch or empty results after musical interpretation. Pitches: 594, BeatLs: 195. Truncating.\n",
      "Constructing MIDI file...\n"
     ]
    },
    {
     "name": "stderr",
     "output_type": "stream",
     "text": [
      "195it [00:00, 143363.59it/s]\n"
     ]
    },
    {
     "name": "stdout",
     "output_type": "stream",
     "text": [
      "Generated LSTM MIDI file saved to: output/LSTM/LSTM_15.mid\n",
      "Generating 2000 tokens starting with 'BOS_None'...\n"
     ]
    },
    {
     "name": "stderr",
     "output_type": "stream",
     "text": [
      "100%|██████████| 1999/1999 [00:07<00:00, 277.43it/s]\n"
     ]
    },
    {
     "name": "stdout",
     "output_type": "stream",
     "text": [
      "Successfully generated 2000 token IDs.\n",
      "Converting generated token IDs to notes and beats...\n",
      "Warning: Mismatch or empty results after musical interpretation. Pitches: 607, BeatLs: 178. Truncating.\n",
      "Constructing MIDI file...\n"
     ]
    },
    {
     "name": "stderr",
     "output_type": "stream",
     "text": [
      "178it [00:00, 134109.24it/s]\n"
     ]
    },
    {
     "name": "stdout",
     "output_type": "stream",
     "text": [
      "Generated LSTM MIDI file saved to: output/LSTM/LSTM_16.mid\n",
      "Generating 2000 tokens starting with 'BOS_None'...\n"
     ]
    },
    {
     "name": "stderr",
     "output_type": "stream",
     "text": [
      "100%|██████████| 1999/1999 [00:08<00:00, 245.77it/s]\n"
     ]
    },
    {
     "name": "stdout",
     "output_type": "stream",
     "text": [
      "Successfully generated 2000 token IDs.\n",
      "Converting generated token IDs to notes and beats...\n",
      "Warning: Mismatch or empty results after musical interpretation. Pitches: 602, BeatLs: 189. Truncating.\n",
      "Constructing MIDI file...\n"
     ]
    },
    {
     "name": "stderr",
     "output_type": "stream",
     "text": [
      "189it [00:00, 123805.01it/s]\n"
     ]
    },
    {
     "name": "stdout",
     "output_type": "stream",
     "text": [
      "Generated LSTM MIDI file saved to: output/LSTM/LSTM_17.mid\n",
      "Generating 2000 tokens starting with 'BOS_None'...\n"
     ]
    },
    {
     "name": "stderr",
     "output_type": "stream",
     "text": [
      "100%|██████████| 1999/1999 [00:07<00:00, 264.25it/s]\n"
     ]
    },
    {
     "name": "stdout",
     "output_type": "stream",
     "text": [
      "Successfully generated 2000 token IDs.\n",
      "Converting generated token IDs to notes and beats...\n",
      "Warning: Mismatch or empty results after musical interpretation. Pitches: 599, BeatLs: 214. Truncating.\n",
      "Constructing MIDI file...\n"
     ]
    },
    {
     "name": "stderr",
     "output_type": "stream",
     "text": [
      "214it [00:00, 133747.74it/s]\n"
     ]
    },
    {
     "name": "stdout",
     "output_type": "stream",
     "text": [
      "Generated LSTM MIDI file saved to: output/LSTM/LSTM_18.mid\n",
      "Generating 2000 tokens starting with 'BOS_None'...\n"
     ]
    },
    {
     "name": "stderr",
     "output_type": "stream",
     "text": [
      "100%|██████████| 1999/1999 [00:07<00:00, 272.14it/s]\n"
     ]
    },
    {
     "name": "stdout",
     "output_type": "stream",
     "text": [
      "Successfully generated 2000 token IDs.\n",
      "Converting generated token IDs to notes and beats...\n",
      "Warning: Mismatch or empty results after musical interpretation. Pitches: 605, BeatLs: 190. Truncating.\n",
      "Constructing MIDI file...\n"
     ]
    },
    {
     "name": "stderr",
     "output_type": "stream",
     "text": [
      "190it [00:00, 145928.91it/s]"
     ]
    },
    {
     "name": "stdout",
     "output_type": "stream",
     "text": [
      "Generated LSTM MIDI file saved to: output/LSTM/LSTM_19.mid\n"
     ]
    },
    {
     "name": "stderr",
     "output_type": "stream",
     "text": [
      "\n"
     ]
    }
   ],
   "source": [
    "# Generate MIDI files\n",
    "num_each = 20\n",
    "length = 200\n",
    "base_path = \"output\"\n",
    "model_names = [\n",
    "    \"baseline\",\n",
    "    \"markov\", \n",
    "    \"LSTM\", \n",
    "    # \"transformer\"\n",
    "]\n",
    "\n",
    "# Generate baseline MIDI files\n",
    "for i in range(num_each):\n",
    "    out_path = f\"{base_path}/baseline/baseline_{i}.mid\"\n",
    "    generate_unigram_8bit_midi(\n",
    "        out_path = out_path,\n",
    "        pitch_distribution = pitch_distribution,\n",
    "        bl_distribution = bl_distribution,\n",
    "        num_notes = length,\n",
    "    )\n",
    "\n",
    "# Generate Markov MIDI files\n",
    "for i in range(num_each):\n",
    "    out_path = f\"{base_path}/markov/markov_{i}.mid\"\n",
    "    generate_markov_8bit_midi(\n",
    "        out_path = out_path,\n",
    "        train_files = train_files,\n",
    "        num_events = length,\n",
    "    )\n",
    "\n",
    "# Generate LSTM MIDI files\n",
    "for i in range(num_each):\n",
    "    out_path = f\"{base_path}/LSTM/LSTM_{i}.mid\"\n",
    "    generate_midi_lstm_from_start(\n",
    "        model=model,\n",
    "        tokenizer=tokenizer,\n",
    "        out_path=out_path,\n",
    "        device=device,\n",
    "        notes_beats_from_ids_func=notes_beats_from_ids,\n",
    "        generation_length=length * 10,\n",
    "        start_token_str=\"BOS_None\",\n",
    "        top_k=50,\n",
    "        temperature=1.4\n",
    "    )\n",
    "\n",
    "# Generate Transformer MIDI files\n",
    "# for i in range(num_each):\n",
    "    # out_path = f\"{base_path}/transformer/transformer_{i}.mid\"\n",
    "    # generate_midi_transformer_from_start(\n",
    "    #     model=model,\n",
    "\n"
   ]
  },
  {
   "cell_type": "code",
   "execution_count": 265,
   "metadata": {},
   "outputs": [],
   "source": [
    "import mido\n",
    "import numpy as np\n",
    "from collections import Counter\n",
    "import matplotlib.pyplot as plt\n",
    "from sklearn.metrics.pairwise import cosine_similarity\n",
    "\n",
    "# --- Histogram Bin Configuration (Adjust these based on your data's characteristics) ---\n",
    "# For MIDI pitches (e.g., A0 to C8)\n",
    "PITCH_BINS = np.arange(21, 109, 1)  # Edges, so 21 to 108 inclusive\n",
    "\n",
    "# For pitch classes (0=C, 1=C#, ..., 11=B)\n",
    "PITCH_CLASS_BINS = np.arange(0, 13, 1) # Edges for 12 bins (0-11)\n",
    "\n",
    "DURATION_BINS = np.array([0, 0.125, 0.25, 0.375, 0.5, 0.75, 1.0, 1.5, 2.0, 3.0, 4.0, np.inf])\n",
    "IOI_BINS = np.array([0, 0.125, 0.25, 0.375, 0.5, 0.75, 1.0, 1.5, 2.0, 3.0, 4.0, np.inf])\n",
    "\n",
    "FEATURE_SPECS = {\n",
    "    \"pitches\": PITCH_BINS,\n",
    "    \"pitch_classes\": PITCH_CLASS_BINS,\n",
    "    \"durations\": DURATION_BINS,\n",
    "    \"iois\": IOI_BINS\n",
    "}"
   ]
  },
  {
   "cell_type": "code",
   "execution_count": 266,
   "metadata": {},
   "outputs": [],
   "source": [
    "def extract_features_from_midi_file(midi_path, track_idx=0):\n",
    "    \"\"\"\n",
    "    Extracts pitches, durations (in beats), IOIs (in beats), and pitch classes\n",
    "    from a single MIDI file.\n",
    "    \"\"\"\n",
    "    pitches = []\n",
    "    durations_in_beats = []\n",
    "    iois_in_beats = []\n",
    "    pitch_classes = []\n",
    "\n",
    "    mid = mido.MidiFile(midi_path)\n",
    "    tpb = mid.ticks_per_beat if mid.ticks_per_beat > 0 else 480 # Default if not set\n",
    "    \n",
    "    track = mid.tracks[track_idx]\n",
    "    # print(track)\n",
    "    current_time_abs_ticks = 0\n",
    "    track_last_note_on_time_abs_ticks = None\n",
    "    active_notes_in_track = {}  # key: (pitch, channel), value: onset_time_abs_ticks\n",
    "\n",
    "    for msg in track:\n",
    "        current_time_abs_ticks += msg.time # msg.time is delta from previous event in track\n",
    "        if msg.type == 'note_on' and msg.velocity > 0:\n",
    "            note_key = (msg.note, msg.channel)\n",
    "            pitches.append(msg.note)\n",
    "            pitch_classes.append(msg.note % 12)\n",
    "            active_notes_in_track[note_key] = current_time_abs_ticks\n",
    "            if track_last_note_on_time_abs_ticks is not None:\n",
    "                ioi_ticks = current_time_abs_ticks - track_last_note_on_time_abs_ticks\n",
    "                if tpb > 0: iois_in_beats.append(ioi_ticks / tpb)\n",
    "            track_last_note_on_time_abs_ticks = current_time_abs_ticks\n",
    "        elif msg.type == 'note_off' or (msg.type == 'note_on' and msg.velocity == 0):\n",
    "            note_key = (msg.note, msg.channel)\n",
    "            if note_key in active_notes_in_track:\n",
    "                note_on_time_abs_ticks = active_notes_in_track.pop(note_key)\n",
    "                duration_ticks = current_time_abs_ticks - note_on_time_abs_ticks\n",
    "                if tpb > 0: durations_in_beats.append(duration_ticks / tpb)\n",
    "    \n",
    "    return {\n",
    "        \"pitches\": pitches,\n",
    "        \"durations\": durations_in_beats,\n",
    "        \"iois\": iois_in_beats,\n",
    "        \"pitch_classes\": pitch_classes\n",
    "    }\n",
    "\n",
    "def aggregate_features_from_midi_set(list_of_midi_paths, track_idx=0):\n",
    "    \"\"\"\n",
    "    Aggregates features from a list of MIDI file paths.\n",
    "    \"\"\"\n",
    "    aggregated = {\n",
    "        \"pitches\": [], \"durations\": [], \"iois\": [], \"pitch_classes\": []\n",
    "    }\n",
    "    for path in tqdm(list_of_midi_paths, desc=\"Extracting features\"):\n",
    "        features = extract_features_from_midi_file(path, track_idx=track_idx)\n",
    "        # print(features)\n",
    "        for key in aggregated:\n",
    "            aggregated[key].extend(features[key])\n",
    "    # print(aggregated[\"pitches\"])\n",
    "    return aggregated"
   ]
  },
  {
   "cell_type": "code",
   "execution_count": 267,
   "metadata": {},
   "outputs": [
    {
     "name": "stderr",
     "output_type": "stream",
     "text": [
      "Extracting features: 100%|██████████| 202/202 [00:05<00:00, 39.27it/s]\n",
      "Extracting features: 100%|██████████| 20/20 [00:00<00:00, 518.93it/s]\n",
      "Extracting features: 100%|██████████| 20/20 [00:00<00:00, 20.51it/s]\n",
      "Extracting features: 100%|██████████| 20/20 [00:00<00:00, 530.83it/s]"
     ]
    },
    {
     "name": "stdout",
     "output_type": "stream",
     "text": [
      "Finished extracting features from evaluation set and generated sets\n"
     ]
    },
    {
     "name": "stderr",
     "output_type": "stream",
     "text": [
      "\n"
     ]
    }
   ],
   "source": [
    "eval_features = aggregate_features_from_midi_set(eval_files[:], track_idx=1)\n",
    "model_features = {}\n",
    "\n",
    "for model_name in model_names:\n",
    "    dir = f\"{base_path}/{model_name}\"\n",
    "    paths = glob.glob(os.path.join(dir, \"*.mid\"))\n",
    "    model_features[model_name] = aggregate_features_from_midi_set(paths)\n",
    "\n",
    "print('Finished extracting features from evaluation set and generated sets')"
   ]
  },
  {
   "cell_type": "code",
   "execution_count": 268,
   "metadata": {},
   "outputs": [
    {
     "name": "stdout",
     "output_type": "stream",
     "text": [
      "pitches\n",
      "pitch_classes\n",
      "durations\n",
      "iois\n",
      "{'pitches': {'baseline': 0.9796783125342841, 'markov': 0.9736827527587264, 'LSTM': 0.7890312403042267}, 'pitch_classes': {'baseline': 0.9965864587055088, 'markov': 0.9918525313698174, 'LSTM': 0.8725308688174288}, 'durations': {'baseline': 0.6952002108833042, 'markov': 0.6953515134361231, 'LSTM': 0.6429740103263163}, 'iois': {'baseline': 0.6933533201971264, 'markov': 0.694752732939139, 'LSTM': 0.5851007722691918}}\n"
     ]
    }
   ],
   "source": [
    "FEATURES = [feature for feature in FEATURE_SPECS.keys()]\n",
    "\n",
    "scores = {}\n",
    "for feature in FEATURES:\n",
    "    print(feature)\n",
    "    scores[feature] = {}\n",
    "    eval_counts, _ = np.histogram(eval_features[feature], bins=FEATURE_SPECS[feature])\n",
    "    eval_dist = eval_counts / len(eval_features[feature])\n",
    "\n",
    "    for model_name, features in model_features.items():\n",
    "        model_counts, _ = np.histogram(features[feature], bins=FEATURE_SPECS[feature])\n",
    "        model_dist = model_counts / len(features[feature])\n",
    "        scores[feature][model_name] = cosine_similarity(eval_dist.reshape(1, -1), model_dist.reshape(1, -1))[0][0]\n",
    "\n",
    "print(scores)\n"
   ]
  },
  {
   "cell_type": "code",
   "execution_count": 270,
   "metadata": {},
   "outputs": [
    {
     "data": {
      "image/png": "[encoded data removed]",
      "text/plain": [
       "<Figure size 1000x600 with 1 Axes>"
      ]
     },
     "metadata": {},
     "output_type": "display_data"
    }
   ],
   "source": [
    "n_features = len(FEATURE_SPECS)\n",
    "n_models = len(model_names)\n",
    "\n",
    "bar_width = 0.8 / n_models # Adjust for spacing\n",
    "index = np.arange(n_features)\n",
    "\n",
    "fig, ax = plt.subplots(figsize=(max(10, n_features * n_models * 0.5), 6)) # Dynamic width\n",
    "\n",
    "for i, model_name in enumerate(model_names):\n",
    "    model_scores = [scores[feature].get(model_name, 0) for feature in FEATURES] # get(feature, 0) handles if a feature might be missing\n",
    "    \n",
    "    bar_positions = index + i * bar_width - (bar_width * (n_models -1) / 2) # Center the group\n",
    "    ax.bar(bar_positions, model_scores, bar_width, label=model_name)\n",
    "\n",
    "ax.set_xlabel('Musical Feature')\n",
    "ax.set_ylabel('Cosine Similarity (to Reference)')\n",
    "ax.set_title('Model Similarity to Reference Set by Musical Feature')\n",
    "ax.set_xticks(index)\n",
    "ax.set_xticklabels(scores)\n",
    "ax.legend(title=\"Models\")\n",
    "plt.ylim(0, 1.05) # Cosine similarity is between -1 and 1, but for non-negative histograms, it's 0 to 1.\n",
    "plt.tight_layout()\n",
    "plt.show()"
   ]
  },
  {
   "cell_type": "code",
   "execution_count": null,
   "metadata": {},
   "outputs": [],
   "source": []
  }
 ],
 "metadata": {
  "kernelspec": {
   "display_name": "WAAK",
   "language": "python",
   "name": "python3"
  },
  "language_info": {
   "codemirror_mode": {
    "name": "ipython",
    "version": 3
   },
   "file_extension": ".py",
   "mimetype": "text/x-python",
   "name": "python",
   "nbconvert_exporter": "python",
   "pygments_lexer": "ipython3",
   "version": "3.10.17"
  }
 },
 "nbformat": 4,
 "nbformat_minor": 2
}
